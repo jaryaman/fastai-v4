{
 "cells": [
  {
   "cell_type": "markdown",
   "metadata": {},
   "source": [
    "# Collaborative filtering\n",
    "\n",
    "A common problem is, instead of prediction, we wish to provide recommendations for items a user may like, based on prior individual-level data. The solution to this problem is called _collaborative filtering_.\n",
    "\n",
    "The idea with, say, movie recommendation, is to find users who have similar preferences to you, and then find movies which similar users have liked, that you haven't seen.\n",
    "\n",
    "Items, in a more general sense, can include links that you click on, diagnoses that are selected for patients, and so on.\n",
    "\n",
    "The underlying idea is that there must be some underlying set of features, not necessarily labelled, which determine an association between users and items. The objective is to uncover _latent factors_ which determine this association."
   ]
  },
  {
   "cell_type": "code",
   "execution_count": 2,
   "metadata": {},
   "outputs": [],
   "source": [
    "from fastai.collab import *\n",
    "from fastai.tabular.all import *"
   ]
  },
  {
   "cell_type": "markdown",
   "metadata": {},
   "source": [
    "## Movie Lens dataset"
   ]
  },
  {
   "cell_type": "code",
   "execution_count": 3,
   "metadata": {},
   "outputs": [
    {
     "name": "stdout",
     "output_type": "stream",
     "text": [
      "█\r"
     ]
    }
   ],
   "source": [
    "path = untar_data(URLs.ML_100k)"
   ]
  },
  {
   "cell_type": "code",
   "execution_count": 4,
   "metadata": {},
   "outputs": [
    {
     "data": {
      "text/plain": [
       "Path('/home/jupyter/.fastai/data/ml-100k')"
      ]
     },
     "execution_count": 4,
     "metadata": {},
     "output_type": "execute_result"
    }
   ],
   "source": [
    "path"
   ]
  },
  {
   "cell_type": "code",
   "execution_count": 5,
   "metadata": {},
   "outputs": [],
   "source": [
    "Path.BASE_PATH = path"
   ]
  },
  {
   "cell_type": "code",
   "execution_count": 6,
   "metadata": {},
   "outputs": [
    {
     "data": {
      "text/plain": [
       "(#23) [Path('ub.test'),Path('u3.base'),Path('ub.base'),Path('u4.base'),Path('u4.test'),Path('u1.base'),Path('ua.base'),Path('u.occupation'),Path('README'),Path('u.data')...]"
      ]
     },
     "execution_count": 6,
     "metadata": {},
     "output_type": "execute_result"
    }
   ],
   "source": [
    "path.ls()"
   ]
  },
  {
   "cell_type": "markdown",
   "metadata": {},
   "source": [
    "The main table is `u.data`."
   ]
  },
  {
   "cell_type": "code",
   "execution_count": 8,
   "metadata": {},
   "outputs": [],
   "source": [
    "ratings = pd.read_csv(path/'u.data', delimiter='\\t', \n",
    "                      names=['user', 'movie', 'rating', 'timestamp'])"
   ]
  },
  {
   "cell_type": "code",
   "execution_count": 9,
   "metadata": {},
   "outputs": [
    {
     "data": {
      "text/html": [
       "<div>\n",
       "<style scoped>\n",
       "    .dataframe tbody tr th:only-of-type {\n",
       "        vertical-align: middle;\n",
       "    }\n",
       "\n",
       "    .dataframe tbody tr th {\n",
       "        vertical-align: top;\n",
       "    }\n",
       "\n",
       "    .dataframe thead th {\n",
       "        text-align: right;\n",
       "    }\n",
       "</style>\n",
       "<table border=\"1\" class=\"dataframe\">\n",
       "  <thead>\n",
       "    <tr style=\"text-align: right;\">\n",
       "      <th></th>\n",
       "      <th>user</th>\n",
       "      <th>movie</th>\n",
       "      <th>rating</th>\n",
       "      <th>timestamp</th>\n",
       "    </tr>\n",
       "  </thead>\n",
       "  <tbody>\n",
       "    <tr>\n",
       "      <th>0</th>\n",
       "      <td>196</td>\n",
       "      <td>242</td>\n",
       "      <td>3</td>\n",
       "      <td>881250949</td>\n",
       "    </tr>\n",
       "    <tr>\n",
       "      <th>1</th>\n",
       "      <td>186</td>\n",
       "      <td>302</td>\n",
       "      <td>3</td>\n",
       "      <td>891717742</td>\n",
       "    </tr>\n",
       "    <tr>\n",
       "      <th>2</th>\n",
       "      <td>22</td>\n",
       "      <td>377</td>\n",
       "      <td>1</td>\n",
       "      <td>878887116</td>\n",
       "    </tr>\n",
       "    <tr>\n",
       "      <th>3</th>\n",
       "      <td>244</td>\n",
       "      <td>51</td>\n",
       "      <td>2</td>\n",
       "      <td>880606923</td>\n",
       "    </tr>\n",
       "    <tr>\n",
       "      <th>4</th>\n",
       "      <td>166</td>\n",
       "      <td>346</td>\n",
       "      <td>1</td>\n",
       "      <td>886397596</td>\n",
       "    </tr>\n",
       "  </tbody>\n",
       "</table>\n",
       "</div>"
      ],
      "text/plain": [
       "   user  movie  rating  timestamp\n",
       "0   196    242       3  881250949\n",
       "1   186    302       3  891717742\n",
       "2    22    377       1  878887116\n",
       "3   244     51       2  880606923\n",
       "4   166    346       1  886397596"
      ]
     },
     "execution_count": 9,
     "metadata": {},
     "output_type": "execute_result"
    }
   ],
   "source": [
    "ratings.head()"
   ]
  },
  {
   "cell_type": "code",
   "execution_count": 10,
   "metadata": {},
   "outputs": [
    {
     "data": {
      "text/plain": [
       "(100000, 4)"
      ]
     },
     "execution_count": 10,
     "metadata": {},
     "output_type": "execute_result"
    }
   ],
   "source": [
    "ratings.shape"
   ]
  },
  {
   "cell_type": "code",
   "execution_count": 14,
   "metadata": {},
   "outputs": [
    {
     "data": {
      "text/plain": [
       "array([3, 1, 2, 4, 5])"
      ]
     },
     "execution_count": 14,
     "metadata": {},
     "output_type": "execute_result"
    }
   ],
   "source": [
    "ratings.rating.unique()"
   ]
  },
  {
   "cell_type": "code",
   "execution_count": 15,
   "metadata": {},
   "outputs": [
    {
     "data": {
      "text/plain": [
       "1682"
      ]
     },
     "execution_count": 15,
     "metadata": {},
     "output_type": "execute_result"
    }
   ],
   "source": [
    "len(ratings.movie.unique())"
   ]
  },
  {
   "cell_type": "code",
   "execution_count": 16,
   "metadata": {},
   "outputs": [
    {
     "data": {
      "text/plain": [
       "943"
      ]
     },
     "execution_count": 16,
     "metadata": {},
     "output_type": "execute_result"
    }
   ],
   "source": [
    "len(ratings.user.unique())"
   ]
  },
  {
   "cell_type": "code",
   "execution_count": 72,
   "metadata": {},
   "outputs": [],
   "source": [
    "top_movies = (ratings[['movie', 'user']]\n",
    "              .groupby('movie')\n",
    "              .count()\n",
    "              .sort_values(by='user', ascending=False)[:10]\n",
    "              .index\n",
    "              .values\n",
    "              .ravel()\n",
    "             )\n",
    "top_users = (ratings[ratings['movie'].isin(top_movies)]\n",
    "              .groupby('user')\n",
    "              .count()\n",
    "              .sort_values(by='user', ascending=False)[:10]\n",
    "              .index\n",
    "              .values\n",
    "              .ravel()\n",
    "            )\n",
    "\n",
    "movie_slice = (ratings[['user', 'movie', 'rating']]\n",
    " .pivot(index='user', columns='movie')\n",
    " .loc[top_users, (slice(None), top_movies)]\n",
    ")"
   ]
  },
  {
   "cell_type": "code",
   "execution_count": 74,
   "metadata": {},
   "outputs": [
    {
     "data": {
      "text/html": [
       "<style  type=\"text/css\" >\n",
       "#T_bc1687cc_f12d_11ea_a66d_42010a8a0002row0_col0,#T_bc1687cc_f12d_11ea_a66d_42010a8a0002row0_col5,#T_bc1687cc_f12d_11ea_a66d_42010a8a0002row0_col6,#T_bc1687cc_f12d_11ea_a66d_42010a8a0002row0_col7,#T_bc1687cc_f12d_11ea_a66d_42010a8a0002row0_col8,#T_bc1687cc_f12d_11ea_a66d_42010a8a0002row0_col9,#T_bc1687cc_f12d_11ea_a66d_42010a8a0002row1_col0,#T_bc1687cc_f12d_11ea_a66d_42010a8a0002row1_col2,#T_bc1687cc_f12d_11ea_a66d_42010a8a0002row1_col3,#T_bc1687cc_f12d_11ea_a66d_42010a8a0002row1_col4,#T_bc1687cc_f12d_11ea_a66d_42010a8a0002row1_col6,#T_bc1687cc_f12d_11ea_a66d_42010a8a0002row1_col7,#T_bc1687cc_f12d_11ea_a66d_42010a8a0002row1_col8,#T_bc1687cc_f12d_11ea_a66d_42010a8a0002row2_col1,#T_bc1687cc_f12d_11ea_a66d_42010a8a0002row2_col2,#T_bc1687cc_f12d_11ea_a66d_42010a8a0002row2_col3,#T_bc1687cc_f12d_11ea_a66d_42010a8a0002row2_col6,#T_bc1687cc_f12d_11ea_a66d_42010a8a0002row2_col7,#T_bc1687cc_f12d_11ea_a66d_42010a8a0002row3_col0,#T_bc1687cc_f12d_11ea_a66d_42010a8a0002row3_col3,#T_bc1687cc_f12d_11ea_a66d_42010a8a0002row3_col7,#T_bc1687cc_f12d_11ea_a66d_42010a8a0002row4_col0,#T_bc1687cc_f12d_11ea_a66d_42010a8a0002row4_col1,#T_bc1687cc_f12d_11ea_a66d_42010a8a0002row4_col2,#T_bc1687cc_f12d_11ea_a66d_42010a8a0002row4_col4,#T_bc1687cc_f12d_11ea_a66d_42010a8a0002row4_col6,#T_bc1687cc_f12d_11ea_a66d_42010a8a0002row4_col7,#T_bc1687cc_f12d_11ea_a66d_42010a8a0002row4_col8,#T_bc1687cc_f12d_11ea_a66d_42010a8a0002row4_col9,#T_bc1687cc_f12d_11ea_a66d_42010a8a0002row5_col8,#T_bc1687cc_f12d_11ea_a66d_42010a8a0002row6_col0,#T_bc1687cc_f12d_11ea_a66d_42010a8a0002row6_col3,#T_bc1687cc_f12d_11ea_a66d_42010a8a0002row6_col4,#T_bc1687cc_f12d_11ea_a66d_42010a8a0002row6_col7,#T_bc1687cc_f12d_11ea_a66d_42010a8a0002row7_col7,#T_bc1687cc_f12d_11ea_a66d_42010a8a0002row8_col1,#T_bc1687cc_f12d_11ea_a66d_42010a8a0002row8_col5,#T_bc1687cc_f12d_11ea_a66d_42010a8a0002row8_col7,#T_bc1687cc_f12d_11ea_a66d_42010a8a0002row8_col8,#T_bc1687cc_f12d_11ea_a66d_42010a8a0002row9_col5,#T_bc1687cc_f12d_11ea_a66d_42010a8a0002row9_col7,#T_bc1687cc_f12d_11ea_a66d_42010a8a0002row9_col8,#T_bc1687cc_f12d_11ea_a66d_42010a8a0002row9_col9{\n",
       "            background-color:  #000000;\n",
       "            color:  #f1f1f1;\n",
       "        }#T_bc1687cc_f12d_11ea_a66d_42010a8a0002row0_col1,#T_bc1687cc_f12d_11ea_a66d_42010a8a0002row0_col4,#T_bc1687cc_f12d_11ea_a66d_42010a8a0002row1_col5,#T_bc1687cc_f12d_11ea_a66d_42010a8a0002row2_col5,#T_bc1687cc_f12d_11ea_a66d_42010a8a0002row2_col8,#T_bc1687cc_f12d_11ea_a66d_42010a8a0002row2_col9,#T_bc1687cc_f12d_11ea_a66d_42010a8a0002row3_col1,#T_bc1687cc_f12d_11ea_a66d_42010a8a0002row3_col8,#T_bc1687cc_f12d_11ea_a66d_42010a8a0002row4_col5,#T_bc1687cc_f12d_11ea_a66d_42010a8a0002row5_col0,#T_bc1687cc_f12d_11ea_a66d_42010a8a0002row6_col5,#T_bc1687cc_f12d_11ea_a66d_42010a8a0002row6_col6,#T_bc1687cc_f12d_11ea_a66d_42010a8a0002row6_col9,#T_bc1687cc_f12d_11ea_a66d_42010a8a0002row7_col0,#T_bc1687cc_f12d_11ea_a66d_42010a8a0002row7_col1,#T_bc1687cc_f12d_11ea_a66d_42010a8a0002row7_col2,#T_bc1687cc_f12d_11ea_a66d_42010a8a0002row7_col3,#T_bc1687cc_f12d_11ea_a66d_42010a8a0002row7_col4,#T_bc1687cc_f12d_11ea_a66d_42010a8a0002row8_col3,#T_bc1687cc_f12d_11ea_a66d_42010a8a0002row8_col4,#T_bc1687cc_f12d_11ea_a66d_42010a8a0002row8_col9,#T_bc1687cc_f12d_11ea_a66d_42010a8a0002row9_col2,#T_bc1687cc_f12d_11ea_a66d_42010a8a0002row9_col4,#T_bc1687cc_f12d_11ea_a66d_42010a8a0002row9_col6{\n",
       "            background-color:  #84ca66;\n",
       "            color:  #000000;\n",
       "        }#T_bc1687cc_f12d_11ea_a66d_42010a8a0002row0_col2,#T_bc1687cc_f12d_11ea_a66d_42010a8a0002row1_col1,#T_bc1687cc_f12d_11ea_a66d_42010a8a0002row1_col9,#T_bc1687cc_f12d_11ea_a66d_42010a8a0002row2_col0,#T_bc1687cc_f12d_11ea_a66d_42010a8a0002row2_col4,#T_bc1687cc_f12d_11ea_a66d_42010a8a0002row3_col5,#T_bc1687cc_f12d_11ea_a66d_42010a8a0002row3_col9,#T_bc1687cc_f12d_11ea_a66d_42010a8a0002row4_col3,#T_bc1687cc_f12d_11ea_a66d_42010a8a0002row5_col1,#T_bc1687cc_f12d_11ea_a66d_42010a8a0002row5_col2,#T_bc1687cc_f12d_11ea_a66d_42010a8a0002row5_col3,#T_bc1687cc_f12d_11ea_a66d_42010a8a0002row5_col4,#T_bc1687cc_f12d_11ea_a66d_42010a8a0002row5_col5,#T_bc1687cc_f12d_11ea_a66d_42010a8a0002row5_col7,#T_bc1687cc_f12d_11ea_a66d_42010a8a0002row6_col1,#T_bc1687cc_f12d_11ea_a66d_42010a8a0002row7_col6,#T_bc1687cc_f12d_11ea_a66d_42010a8a0002row8_col6,#T_bc1687cc_f12d_11ea_a66d_42010a8a0002row9_col1{\n",
       "            background-color:  #006837;\n",
       "            color:  #f1f1f1;\n",
       "        }#T_bc1687cc_f12d_11ea_a66d_42010a8a0002row0_col3,#T_bc1687cc_f12d_11ea_a66d_42010a8a0002row3_col2,#T_bc1687cc_f12d_11ea_a66d_42010a8a0002row3_col4,#T_bc1687cc_f12d_11ea_a66d_42010a8a0002row3_col6,#T_bc1687cc_f12d_11ea_a66d_42010a8a0002row5_col6,#T_bc1687cc_f12d_11ea_a66d_42010a8a0002row5_col9,#T_bc1687cc_f12d_11ea_a66d_42010a8a0002row6_col2,#T_bc1687cc_f12d_11ea_a66d_42010a8a0002row7_col5,#T_bc1687cc_f12d_11ea_a66d_42010a8a0002row7_col8,#T_bc1687cc_f12d_11ea_a66d_42010a8a0002row7_col9,#T_bc1687cc_f12d_11ea_a66d_42010a8a0002row8_col0,#T_bc1687cc_f12d_11ea_a66d_42010a8a0002row8_col2,#T_bc1687cc_f12d_11ea_a66d_42010a8a0002row9_col3{\n",
       "            background-color:  #feffbe;\n",
       "            color:  #000000;\n",
       "        }#T_bc1687cc_f12d_11ea_a66d_42010a8a0002row6_col8{\n",
       "            background-color:  #a50026;\n",
       "            color:  #f1f1f1;\n",
       "        }#T_bc1687cc_f12d_11ea_a66d_42010a8a0002row9_col0{\n",
       "            background-color:  #f98e52;\n",
       "            color:  #000000;\n",
       "        }</style><table id=\"T_bc1687cc_f12d_11ea_a66d_42010a8a0002\" ><thead>    <tr>        <th class=\"blank level0\" ></th>        <th class=\"col_heading level0 col0\" colspan=10>rating</th>    </tr>    <tr>        <th class=\"index_name level1\" >movie</th>        <th class=\"col_heading level1 col0\" >1</th>        <th class=\"col_heading level1 col1\" >50</th>        <th class=\"col_heading level1 col2\" >100</th>        <th class=\"col_heading level1 col3\" >121</th>        <th class=\"col_heading level1 col4\" >181</th>        <th class=\"col_heading level1 col5\" >258</th>        <th class=\"col_heading level1 col6\" >286</th>        <th class=\"col_heading level1 col7\" >288</th>        <th class=\"col_heading level1 col8\" >294</th>        <th class=\"col_heading level1 col9\" >300</th>    </tr>    <tr>        <th class=\"index_name level0\" >user</th>        <th class=\"blank\" ></th>        <th class=\"blank\" ></th>        <th class=\"blank\" ></th>        <th class=\"blank\" ></th>        <th class=\"blank\" ></th>        <th class=\"blank\" ></th>        <th class=\"blank\" ></th>        <th class=\"blank\" ></th>        <th class=\"blank\" ></th>        <th class=\"blank\" ></th>    </tr></thead><tbody>\n",
       "                <tr>\n",
       "                        <th id=\"T_bc1687cc_f12d_11ea_a66d_42010a8a0002level0_row0\" class=\"row_heading level0 row0\" >943</th>\n",
       "                        <td id=\"T_bc1687cc_f12d_11ea_a66d_42010a8a0002row0_col0\" class=\"data row0 col0\" >nan</td>\n",
       "                        <td id=\"T_bc1687cc_f12d_11ea_a66d_42010a8a0002row0_col1\" class=\"data row0 col1\" >4.000000</td>\n",
       "                        <td id=\"T_bc1687cc_f12d_11ea_a66d_42010a8a0002row0_col2\" class=\"data row0 col2\" >5.000000</td>\n",
       "                        <td id=\"T_bc1687cc_f12d_11ea_a66d_42010a8a0002row0_col3\" class=\"data row0 col3\" >3.000000</td>\n",
       "                        <td id=\"T_bc1687cc_f12d_11ea_a66d_42010a8a0002row0_col4\" class=\"data row0 col4\" >4.000000</td>\n",
       "                        <td id=\"T_bc1687cc_f12d_11ea_a66d_42010a8a0002row0_col5\" class=\"data row0 col5\" >nan</td>\n",
       "                        <td id=\"T_bc1687cc_f12d_11ea_a66d_42010a8a0002row0_col6\" class=\"data row0 col6\" >nan</td>\n",
       "                        <td id=\"T_bc1687cc_f12d_11ea_a66d_42010a8a0002row0_col7\" class=\"data row0 col7\" >nan</td>\n",
       "                        <td id=\"T_bc1687cc_f12d_11ea_a66d_42010a8a0002row0_col8\" class=\"data row0 col8\" >nan</td>\n",
       "                        <td id=\"T_bc1687cc_f12d_11ea_a66d_42010a8a0002row0_col9\" class=\"data row0 col9\" >nan</td>\n",
       "            </tr>\n",
       "            <tr>\n",
       "                        <th id=\"T_bc1687cc_f12d_11ea_a66d_42010a8a0002level0_row1\" class=\"row_heading level0 row1\" >942</th>\n",
       "                        <td id=\"T_bc1687cc_f12d_11ea_a66d_42010a8a0002row1_col0\" class=\"data row1 col0\" >nan</td>\n",
       "                        <td id=\"T_bc1687cc_f12d_11ea_a66d_42010a8a0002row1_col1\" class=\"data row1 col1\" >5.000000</td>\n",
       "                        <td id=\"T_bc1687cc_f12d_11ea_a66d_42010a8a0002row1_col2\" class=\"data row1 col2\" >nan</td>\n",
       "                        <td id=\"T_bc1687cc_f12d_11ea_a66d_42010a8a0002row1_col3\" class=\"data row1 col3\" >nan</td>\n",
       "                        <td id=\"T_bc1687cc_f12d_11ea_a66d_42010a8a0002row1_col4\" class=\"data row1 col4\" >nan</td>\n",
       "                        <td id=\"T_bc1687cc_f12d_11ea_a66d_42010a8a0002row1_col5\" class=\"data row1 col5\" >4.000000</td>\n",
       "                        <td id=\"T_bc1687cc_f12d_11ea_a66d_42010a8a0002row1_col6\" class=\"data row1 col6\" >nan</td>\n",
       "                        <td id=\"T_bc1687cc_f12d_11ea_a66d_42010a8a0002row1_col7\" class=\"data row1 col7\" >nan</td>\n",
       "                        <td id=\"T_bc1687cc_f12d_11ea_a66d_42010a8a0002row1_col8\" class=\"data row1 col8\" >nan</td>\n",
       "                        <td id=\"T_bc1687cc_f12d_11ea_a66d_42010a8a0002row1_col9\" class=\"data row1 col9\" >5.000000</td>\n",
       "            </tr>\n",
       "            <tr>\n",
       "                        <th id=\"T_bc1687cc_f12d_11ea_a66d_42010a8a0002level0_row2\" class=\"row_heading level0 row2\" >941</th>\n",
       "                        <td id=\"T_bc1687cc_f12d_11ea_a66d_42010a8a0002row2_col0\" class=\"data row2 col0\" >5.000000</td>\n",
       "                        <td id=\"T_bc1687cc_f12d_11ea_a66d_42010a8a0002row2_col1\" class=\"data row2 col1\" >nan</td>\n",
       "                        <td id=\"T_bc1687cc_f12d_11ea_a66d_42010a8a0002row2_col2\" class=\"data row2 col2\" >nan</td>\n",
       "                        <td id=\"T_bc1687cc_f12d_11ea_a66d_42010a8a0002row2_col3\" class=\"data row2 col3\" >nan</td>\n",
       "                        <td id=\"T_bc1687cc_f12d_11ea_a66d_42010a8a0002row2_col4\" class=\"data row2 col4\" >5.000000</td>\n",
       "                        <td id=\"T_bc1687cc_f12d_11ea_a66d_42010a8a0002row2_col5\" class=\"data row2 col5\" >4.000000</td>\n",
       "                        <td id=\"T_bc1687cc_f12d_11ea_a66d_42010a8a0002row2_col6\" class=\"data row2 col6\" >nan</td>\n",
       "                        <td id=\"T_bc1687cc_f12d_11ea_a66d_42010a8a0002row2_col7\" class=\"data row2 col7\" >nan</td>\n",
       "                        <td id=\"T_bc1687cc_f12d_11ea_a66d_42010a8a0002row2_col8\" class=\"data row2 col8\" >4.000000</td>\n",
       "                        <td id=\"T_bc1687cc_f12d_11ea_a66d_42010a8a0002row2_col9\" class=\"data row2 col9\" >4.000000</td>\n",
       "            </tr>\n",
       "            <tr>\n",
       "                        <th id=\"T_bc1687cc_f12d_11ea_a66d_42010a8a0002level0_row3\" class=\"row_heading level0 row3\" >940</th>\n",
       "                        <td id=\"T_bc1687cc_f12d_11ea_a66d_42010a8a0002row3_col0\" class=\"data row3 col0\" >nan</td>\n",
       "                        <td id=\"T_bc1687cc_f12d_11ea_a66d_42010a8a0002row3_col1\" class=\"data row3 col1\" >4.000000</td>\n",
       "                        <td id=\"T_bc1687cc_f12d_11ea_a66d_42010a8a0002row3_col2\" class=\"data row3 col2\" >3.000000</td>\n",
       "                        <td id=\"T_bc1687cc_f12d_11ea_a66d_42010a8a0002row3_col3\" class=\"data row3 col3\" >nan</td>\n",
       "                        <td id=\"T_bc1687cc_f12d_11ea_a66d_42010a8a0002row3_col4\" class=\"data row3 col4\" >3.000000</td>\n",
       "                        <td id=\"T_bc1687cc_f12d_11ea_a66d_42010a8a0002row3_col5\" class=\"data row3 col5\" >5.000000</td>\n",
       "                        <td id=\"T_bc1687cc_f12d_11ea_a66d_42010a8a0002row3_col6\" class=\"data row3 col6\" >3.000000</td>\n",
       "                        <td id=\"T_bc1687cc_f12d_11ea_a66d_42010a8a0002row3_col7\" class=\"data row3 col7\" >nan</td>\n",
       "                        <td id=\"T_bc1687cc_f12d_11ea_a66d_42010a8a0002row3_col8\" class=\"data row3 col8\" >4.000000</td>\n",
       "                        <td id=\"T_bc1687cc_f12d_11ea_a66d_42010a8a0002row3_col9\" class=\"data row3 col9\" >5.000000</td>\n",
       "            </tr>\n",
       "            <tr>\n",
       "                        <th id=\"T_bc1687cc_f12d_11ea_a66d_42010a8a0002level0_row4\" class=\"row_heading level0 row4\" >939</th>\n",
       "                        <td id=\"T_bc1687cc_f12d_11ea_a66d_42010a8a0002row4_col0\" class=\"data row4 col0\" >nan</td>\n",
       "                        <td id=\"T_bc1687cc_f12d_11ea_a66d_42010a8a0002row4_col1\" class=\"data row4 col1\" >nan</td>\n",
       "                        <td id=\"T_bc1687cc_f12d_11ea_a66d_42010a8a0002row4_col2\" class=\"data row4 col2\" >nan</td>\n",
       "                        <td id=\"T_bc1687cc_f12d_11ea_a66d_42010a8a0002row4_col3\" class=\"data row4 col3\" >5.000000</td>\n",
       "                        <td id=\"T_bc1687cc_f12d_11ea_a66d_42010a8a0002row4_col4\" class=\"data row4 col4\" >nan</td>\n",
       "                        <td id=\"T_bc1687cc_f12d_11ea_a66d_42010a8a0002row4_col5\" class=\"data row4 col5\" >4.000000</td>\n",
       "                        <td id=\"T_bc1687cc_f12d_11ea_a66d_42010a8a0002row4_col6\" class=\"data row4 col6\" >nan</td>\n",
       "                        <td id=\"T_bc1687cc_f12d_11ea_a66d_42010a8a0002row4_col7\" class=\"data row4 col7\" >nan</td>\n",
       "                        <td id=\"T_bc1687cc_f12d_11ea_a66d_42010a8a0002row4_col8\" class=\"data row4 col8\" >nan</td>\n",
       "                        <td id=\"T_bc1687cc_f12d_11ea_a66d_42010a8a0002row4_col9\" class=\"data row4 col9\" >nan</td>\n",
       "            </tr>\n",
       "            <tr>\n",
       "                        <th id=\"T_bc1687cc_f12d_11ea_a66d_42010a8a0002level0_row5\" class=\"row_heading level0 row5\" >938</th>\n",
       "                        <td id=\"T_bc1687cc_f12d_11ea_a66d_42010a8a0002row5_col0\" class=\"data row5 col0\" >4.000000</td>\n",
       "                        <td id=\"T_bc1687cc_f12d_11ea_a66d_42010a8a0002row5_col1\" class=\"data row5 col1\" >5.000000</td>\n",
       "                        <td id=\"T_bc1687cc_f12d_11ea_a66d_42010a8a0002row5_col2\" class=\"data row5 col2\" >5.000000</td>\n",
       "                        <td id=\"T_bc1687cc_f12d_11ea_a66d_42010a8a0002row5_col3\" class=\"data row5 col3\" >5.000000</td>\n",
       "                        <td id=\"T_bc1687cc_f12d_11ea_a66d_42010a8a0002row5_col4\" class=\"data row5 col4\" >5.000000</td>\n",
       "                        <td id=\"T_bc1687cc_f12d_11ea_a66d_42010a8a0002row5_col5\" class=\"data row5 col5\" >5.000000</td>\n",
       "                        <td id=\"T_bc1687cc_f12d_11ea_a66d_42010a8a0002row5_col6\" class=\"data row5 col6\" >3.000000</td>\n",
       "                        <td id=\"T_bc1687cc_f12d_11ea_a66d_42010a8a0002row5_col7\" class=\"data row5 col7\" >5.000000</td>\n",
       "                        <td id=\"T_bc1687cc_f12d_11ea_a66d_42010a8a0002row5_col8\" class=\"data row5 col8\" >nan</td>\n",
       "                        <td id=\"T_bc1687cc_f12d_11ea_a66d_42010a8a0002row5_col9\" class=\"data row5 col9\" >3.000000</td>\n",
       "            </tr>\n",
       "            <tr>\n",
       "                        <th id=\"T_bc1687cc_f12d_11ea_a66d_42010a8a0002level0_row6\" class=\"row_heading level0 row6\" >937</th>\n",
       "                        <td id=\"T_bc1687cc_f12d_11ea_a66d_42010a8a0002row6_col0\" class=\"data row6 col0\" >nan</td>\n",
       "                        <td id=\"T_bc1687cc_f12d_11ea_a66d_42010a8a0002row6_col1\" class=\"data row6 col1\" >5.000000</td>\n",
       "                        <td id=\"T_bc1687cc_f12d_11ea_a66d_42010a8a0002row6_col2\" class=\"data row6 col2\" >3.000000</td>\n",
       "                        <td id=\"T_bc1687cc_f12d_11ea_a66d_42010a8a0002row6_col3\" class=\"data row6 col3\" >nan</td>\n",
       "                        <td id=\"T_bc1687cc_f12d_11ea_a66d_42010a8a0002row6_col4\" class=\"data row6 col4\" >nan</td>\n",
       "                        <td id=\"T_bc1687cc_f12d_11ea_a66d_42010a8a0002row6_col5\" class=\"data row6 col5\" >4.000000</td>\n",
       "                        <td id=\"T_bc1687cc_f12d_11ea_a66d_42010a8a0002row6_col6\" class=\"data row6 col6\" >4.000000</td>\n",
       "                        <td id=\"T_bc1687cc_f12d_11ea_a66d_42010a8a0002row6_col7\" class=\"data row6 col7\" >nan</td>\n",
       "                        <td id=\"T_bc1687cc_f12d_11ea_a66d_42010a8a0002row6_col8\" class=\"data row6 col8\" >1.000000</td>\n",
       "                        <td id=\"T_bc1687cc_f12d_11ea_a66d_42010a8a0002row6_col9\" class=\"data row6 col9\" >4.000000</td>\n",
       "            </tr>\n",
       "            <tr>\n",
       "                        <th id=\"T_bc1687cc_f12d_11ea_a66d_42010a8a0002level0_row7\" class=\"row_heading level0 row7\" >936</th>\n",
       "                        <td id=\"T_bc1687cc_f12d_11ea_a66d_42010a8a0002row7_col0\" class=\"data row7 col0\" >4.000000</td>\n",
       "                        <td id=\"T_bc1687cc_f12d_11ea_a66d_42010a8a0002row7_col1\" class=\"data row7 col1\" >4.000000</td>\n",
       "                        <td id=\"T_bc1687cc_f12d_11ea_a66d_42010a8a0002row7_col2\" class=\"data row7 col2\" >4.000000</td>\n",
       "                        <td id=\"T_bc1687cc_f12d_11ea_a66d_42010a8a0002row7_col3\" class=\"data row7 col3\" >4.000000</td>\n",
       "                        <td id=\"T_bc1687cc_f12d_11ea_a66d_42010a8a0002row7_col4\" class=\"data row7 col4\" >4.000000</td>\n",
       "                        <td id=\"T_bc1687cc_f12d_11ea_a66d_42010a8a0002row7_col5\" class=\"data row7 col5\" >3.000000</td>\n",
       "                        <td id=\"T_bc1687cc_f12d_11ea_a66d_42010a8a0002row7_col6\" class=\"data row7 col6\" >5.000000</td>\n",
       "                        <td id=\"T_bc1687cc_f12d_11ea_a66d_42010a8a0002row7_col7\" class=\"data row7 col7\" >nan</td>\n",
       "                        <td id=\"T_bc1687cc_f12d_11ea_a66d_42010a8a0002row7_col8\" class=\"data row7 col8\" >3.000000</td>\n",
       "                        <td id=\"T_bc1687cc_f12d_11ea_a66d_42010a8a0002row7_col9\" class=\"data row7 col9\" >3.000000</td>\n",
       "            </tr>\n",
       "            <tr>\n",
       "                        <th id=\"T_bc1687cc_f12d_11ea_a66d_42010a8a0002level0_row8\" class=\"row_heading level0 row8\" >935</th>\n",
       "                        <td id=\"T_bc1687cc_f12d_11ea_a66d_42010a8a0002row8_col0\" class=\"data row8 col0\" >3.000000</td>\n",
       "                        <td id=\"T_bc1687cc_f12d_11ea_a66d_42010a8a0002row8_col1\" class=\"data row8 col1\" >nan</td>\n",
       "                        <td id=\"T_bc1687cc_f12d_11ea_a66d_42010a8a0002row8_col2\" class=\"data row8 col2\" >3.000000</td>\n",
       "                        <td id=\"T_bc1687cc_f12d_11ea_a66d_42010a8a0002row8_col3\" class=\"data row8 col3\" >4.000000</td>\n",
       "                        <td id=\"T_bc1687cc_f12d_11ea_a66d_42010a8a0002row8_col4\" class=\"data row8 col4\" >4.000000</td>\n",
       "                        <td id=\"T_bc1687cc_f12d_11ea_a66d_42010a8a0002row8_col5\" class=\"data row8 col5\" >nan</td>\n",
       "                        <td id=\"T_bc1687cc_f12d_11ea_a66d_42010a8a0002row8_col6\" class=\"data row8 col6\" >5.000000</td>\n",
       "                        <td id=\"T_bc1687cc_f12d_11ea_a66d_42010a8a0002row8_col7\" class=\"data row8 col7\" >nan</td>\n",
       "                        <td id=\"T_bc1687cc_f12d_11ea_a66d_42010a8a0002row8_col8\" class=\"data row8 col8\" >nan</td>\n",
       "                        <td id=\"T_bc1687cc_f12d_11ea_a66d_42010a8a0002row8_col9\" class=\"data row8 col9\" >4.000000</td>\n",
       "            </tr>\n",
       "            <tr>\n",
       "                        <th id=\"T_bc1687cc_f12d_11ea_a66d_42010a8a0002level0_row9\" class=\"row_heading level0 row9\" >934</th>\n",
       "                        <td id=\"T_bc1687cc_f12d_11ea_a66d_42010a8a0002row9_col0\" class=\"data row9 col0\" >2.000000</td>\n",
       "                        <td id=\"T_bc1687cc_f12d_11ea_a66d_42010a8a0002row9_col1\" class=\"data row9 col1\" >5.000000</td>\n",
       "                        <td id=\"T_bc1687cc_f12d_11ea_a66d_42010a8a0002row9_col2\" class=\"data row9 col2\" >4.000000</td>\n",
       "                        <td id=\"T_bc1687cc_f12d_11ea_a66d_42010a8a0002row9_col3\" class=\"data row9 col3\" >3.000000</td>\n",
       "                        <td id=\"T_bc1687cc_f12d_11ea_a66d_42010a8a0002row9_col4\" class=\"data row9 col4\" >4.000000</td>\n",
       "                        <td id=\"T_bc1687cc_f12d_11ea_a66d_42010a8a0002row9_col5\" class=\"data row9 col5\" >nan</td>\n",
       "                        <td id=\"T_bc1687cc_f12d_11ea_a66d_42010a8a0002row9_col6\" class=\"data row9 col6\" >4.000000</td>\n",
       "                        <td id=\"T_bc1687cc_f12d_11ea_a66d_42010a8a0002row9_col7\" class=\"data row9 col7\" >nan</td>\n",
       "                        <td id=\"T_bc1687cc_f12d_11ea_a66d_42010a8a0002row9_col8\" class=\"data row9 col8\" >nan</td>\n",
       "                        <td id=\"T_bc1687cc_f12d_11ea_a66d_42010a8a0002row9_col9\" class=\"data row9 col9\" >nan</td>\n",
       "            </tr>\n",
       "    </tbody></table>"
      ],
      "text/plain": [
       "<pandas.io.formats.style.Styler at 0x7fdd106cea90>"
      ]
     },
     "execution_count": 74,
     "metadata": {},
     "output_type": "execute_result"
    }
   ],
   "source": [
    "movie_slice.style.background_gradient(cmap='RdYlGn', vmin=1, vmax=5)"
   ]
  },
  {
   "cell_type": "markdown",
   "metadata": {},
   "source": [
    "The objective of collaborative filtering is to fill in the blanks of this table, and recommend the movie the user is most likely to like to watch next."
   ]
  },
  {
   "cell_type": "code",
   "execution_count": null,
   "metadata": {},
   "outputs": [],
   "source": []
  }
 ],
 "metadata": {
  "environment": {
   "name": "pytorch-gpu.1-4.m55",
   "type": "gcloud",
   "uri": "gcr.io/deeplearning-platform-release/pytorch-gpu.1-4:m55"
  },
  "kernelspec": {
   "display_name": "Python 3",
   "language": "python",
   "name": "python3"
  },
  "language_info": {
   "codemirror_mode": {
    "name": "ipython",
    "version": 3
   },
   "file_extension": ".py",
   "mimetype": "text/x-python",
   "name": "python",
   "nbconvert_exporter": "python",
   "pygments_lexer": "ipython3",
   "version": "3.7.8"
  }
 },
 "nbformat": 4,
 "nbformat_minor": 4
}
