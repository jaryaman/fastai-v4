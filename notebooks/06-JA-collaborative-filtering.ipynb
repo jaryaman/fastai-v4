{
 "cells": [
  {
   "cell_type": "markdown",
   "metadata": {},
   "source": [
    "# Collaborative filtering\n",
    "\n",
    "A common problem is, instead of prediction, we wish to provide recommendations for items a user may like, based on prior individual-level data. The solution to this problem is called _collaborative filtering_.\n",
    "\n",
    "The idea with, say, movie recommendation, is to find users who have similar preferences to you, and then find movies which similar users have liked, that you haven't seen.\n",
    "\n",
    "Items, in a more general sense, can include links that you click on, diagnoses that are selected for patients, and so on.\n",
    "\n",
    "The underlying idea is that there must be some underlying set of features, not necessarily labelled, which determine an association between users and items. The objective is to uncover _latent factors_ which determine this association."
   ]
  },
  {
   "cell_type": "code",
   "execution_count": 1,
   "metadata": {},
   "outputs": [],
   "source": [
    "from fastai.collab import *\n",
    "from fastai.tabular.all import *"
   ]
  },
  {
   "cell_type": "markdown",
   "metadata": {},
   "source": [
    "## Movie Lens dataset"
   ]
  },
  {
   "cell_type": "code",
   "execution_count": 2,
   "metadata": {},
   "outputs": [],
   "source": [
    "path = untar_data(URLs.ML_100k)"
   ]
  },
  {
   "cell_type": "code",
   "execution_count": 3,
   "metadata": {},
   "outputs": [
    {
     "data": {
      "text/plain": [
       "Path('/home/jupyter/.fastai/data/ml-100k')"
      ]
     },
     "execution_count": 3,
     "metadata": {},
     "output_type": "execute_result"
    }
   ],
   "source": [
    "path"
   ]
  },
  {
   "cell_type": "code",
   "execution_count": 4,
   "metadata": {},
   "outputs": [],
   "source": [
    "Path.BASE_PATH = path"
   ]
  },
  {
   "cell_type": "code",
   "execution_count": 5,
   "metadata": {},
   "outputs": [
    {
     "data": {
      "text/plain": [
       "(#23) [Path('ub.test'),Path('u3.base'),Path('ub.base'),Path('u4.base'),Path('u4.test'),Path('u1.base'),Path('ua.base'),Path('u.occupation'),Path('README'),Path('u.data')...]"
      ]
     },
     "execution_count": 5,
     "metadata": {},
     "output_type": "execute_result"
    }
   ],
   "source": [
    "path.ls()"
   ]
  },
  {
   "cell_type": "markdown",
   "metadata": {},
   "source": [
    "The main table is `u.data`."
   ]
  },
  {
   "cell_type": "code",
   "execution_count": 6,
   "metadata": {},
   "outputs": [],
   "source": [
    "ratings = pd.read_csv(path/'u.data', delimiter='\\t', \n",
    "                      names=['user', 'movie', 'rating', 'timestamp'])"
   ]
  },
  {
   "cell_type": "code",
   "execution_count": 7,
   "metadata": {},
   "outputs": [
    {
     "data": {
      "text/html": [
       "<div>\n",
       "<style scoped>\n",
       "    .dataframe tbody tr th:only-of-type {\n",
       "        vertical-align: middle;\n",
       "    }\n",
       "\n",
       "    .dataframe tbody tr th {\n",
       "        vertical-align: top;\n",
       "    }\n",
       "\n",
       "    .dataframe thead th {\n",
       "        text-align: right;\n",
       "    }\n",
       "</style>\n",
       "<table border=\"1\" class=\"dataframe\">\n",
       "  <thead>\n",
       "    <tr style=\"text-align: right;\">\n",
       "      <th></th>\n",
       "      <th>user</th>\n",
       "      <th>movie</th>\n",
       "      <th>rating</th>\n",
       "      <th>timestamp</th>\n",
       "    </tr>\n",
       "  </thead>\n",
       "  <tbody>\n",
       "    <tr>\n",
       "      <th>0</th>\n",
       "      <td>196</td>\n",
       "      <td>242</td>\n",
       "      <td>3</td>\n",
       "      <td>881250949</td>\n",
       "    </tr>\n",
       "    <tr>\n",
       "      <th>1</th>\n",
       "      <td>186</td>\n",
       "      <td>302</td>\n",
       "      <td>3</td>\n",
       "      <td>891717742</td>\n",
       "    </tr>\n",
       "    <tr>\n",
       "      <th>2</th>\n",
       "      <td>22</td>\n",
       "      <td>377</td>\n",
       "      <td>1</td>\n",
       "      <td>878887116</td>\n",
       "    </tr>\n",
       "    <tr>\n",
       "      <th>3</th>\n",
       "      <td>244</td>\n",
       "      <td>51</td>\n",
       "      <td>2</td>\n",
       "      <td>880606923</td>\n",
       "    </tr>\n",
       "    <tr>\n",
       "      <th>4</th>\n",
       "      <td>166</td>\n",
       "      <td>346</td>\n",
       "      <td>1</td>\n",
       "      <td>886397596</td>\n",
       "    </tr>\n",
       "  </tbody>\n",
       "</table>\n",
       "</div>"
      ],
      "text/plain": [
       "   user  movie  rating  timestamp\n",
       "0   196    242       3  881250949\n",
       "1   186    302       3  891717742\n",
       "2    22    377       1  878887116\n",
       "3   244     51       2  880606923\n",
       "4   166    346       1  886397596"
      ]
     },
     "execution_count": 7,
     "metadata": {},
     "output_type": "execute_result"
    }
   ],
   "source": [
    "ratings.head()"
   ]
  },
  {
   "cell_type": "code",
   "execution_count": 8,
   "metadata": {},
   "outputs": [
    {
     "data": {
      "text/plain": [
       "(100000, 4)"
      ]
     },
     "execution_count": 8,
     "metadata": {},
     "output_type": "execute_result"
    }
   ],
   "source": [
    "ratings.shape"
   ]
  },
  {
   "cell_type": "code",
   "execution_count": 9,
   "metadata": {},
   "outputs": [
    {
     "data": {
      "text/plain": [
       "array([3, 1, 2, 4, 5])"
      ]
     },
     "execution_count": 9,
     "metadata": {},
     "output_type": "execute_result"
    }
   ],
   "source": [
    "ratings.rating.unique()"
   ]
  },
  {
   "cell_type": "code",
   "execution_count": 10,
   "metadata": {},
   "outputs": [
    {
     "data": {
      "text/plain": [
       "1682"
      ]
     },
     "execution_count": 10,
     "metadata": {},
     "output_type": "execute_result"
    }
   ],
   "source": [
    "len(ratings.movie.unique())"
   ]
  },
  {
   "cell_type": "code",
   "execution_count": 11,
   "metadata": {},
   "outputs": [
    {
     "data": {
      "text/plain": [
       "943"
      ]
     },
     "execution_count": 11,
     "metadata": {},
     "output_type": "execute_result"
    }
   ],
   "source": [
    "len(ratings.user.unique())"
   ]
  },
  {
   "cell_type": "code",
   "execution_count": 12,
   "metadata": {},
   "outputs": [],
   "source": [
    "top_movies = (ratings[['movie', 'user']]\n",
    "              .groupby('movie')\n",
    "              .count()\n",
    "              .sort_values(by='user', ascending=False)[:10]\n",
    "              .index\n",
    "              .values\n",
    "              .ravel()\n",
    "             )\n",
    "top_users = (ratings[ratings['movie'].isin(top_movies)]\n",
    "              .groupby('user')\n",
    "              .count()\n",
    "              .sort_values(by='user', ascending=False)[:10]\n",
    "              .index\n",
    "              .values\n",
    "              .ravel()\n",
    "            )\n",
    "\n",
    "movie_slice = (ratings[['user', 'movie', 'rating']]\n",
    " .pivot(index='user', columns='movie')\n",
    " .loc[top_users, (slice(None), top_movies)]\n",
    ")"
   ]
  },
  {
   "cell_type": "code",
   "execution_count": 13,
   "metadata": {},
   "outputs": [
    {
     "data": {
      "text/html": [
       "<style  type=\"text/css\" >\n",
       "#T_5ae6bd5e_f27d_11ea_8c88_42010a8a0002row0_col0,#T_5ae6bd5e_f27d_11ea_8c88_42010a8a0002row0_col5,#T_5ae6bd5e_f27d_11ea_8c88_42010a8a0002row0_col6,#T_5ae6bd5e_f27d_11ea_8c88_42010a8a0002row0_col7,#T_5ae6bd5e_f27d_11ea_8c88_42010a8a0002row0_col8,#T_5ae6bd5e_f27d_11ea_8c88_42010a8a0002row0_col9,#T_5ae6bd5e_f27d_11ea_8c88_42010a8a0002row1_col0,#T_5ae6bd5e_f27d_11ea_8c88_42010a8a0002row1_col2,#T_5ae6bd5e_f27d_11ea_8c88_42010a8a0002row1_col3,#T_5ae6bd5e_f27d_11ea_8c88_42010a8a0002row1_col4,#T_5ae6bd5e_f27d_11ea_8c88_42010a8a0002row1_col6,#T_5ae6bd5e_f27d_11ea_8c88_42010a8a0002row1_col7,#T_5ae6bd5e_f27d_11ea_8c88_42010a8a0002row1_col8,#T_5ae6bd5e_f27d_11ea_8c88_42010a8a0002row2_col1,#T_5ae6bd5e_f27d_11ea_8c88_42010a8a0002row2_col2,#T_5ae6bd5e_f27d_11ea_8c88_42010a8a0002row2_col3,#T_5ae6bd5e_f27d_11ea_8c88_42010a8a0002row2_col6,#T_5ae6bd5e_f27d_11ea_8c88_42010a8a0002row2_col7,#T_5ae6bd5e_f27d_11ea_8c88_42010a8a0002row3_col0,#T_5ae6bd5e_f27d_11ea_8c88_42010a8a0002row3_col3,#T_5ae6bd5e_f27d_11ea_8c88_42010a8a0002row3_col7,#T_5ae6bd5e_f27d_11ea_8c88_42010a8a0002row4_col0,#T_5ae6bd5e_f27d_11ea_8c88_42010a8a0002row4_col1,#T_5ae6bd5e_f27d_11ea_8c88_42010a8a0002row4_col2,#T_5ae6bd5e_f27d_11ea_8c88_42010a8a0002row4_col4,#T_5ae6bd5e_f27d_11ea_8c88_42010a8a0002row4_col6,#T_5ae6bd5e_f27d_11ea_8c88_42010a8a0002row4_col7,#T_5ae6bd5e_f27d_11ea_8c88_42010a8a0002row4_col8,#T_5ae6bd5e_f27d_11ea_8c88_42010a8a0002row4_col9,#T_5ae6bd5e_f27d_11ea_8c88_42010a8a0002row5_col8,#T_5ae6bd5e_f27d_11ea_8c88_42010a8a0002row6_col0,#T_5ae6bd5e_f27d_11ea_8c88_42010a8a0002row6_col3,#T_5ae6bd5e_f27d_11ea_8c88_42010a8a0002row6_col4,#T_5ae6bd5e_f27d_11ea_8c88_42010a8a0002row6_col7,#T_5ae6bd5e_f27d_11ea_8c88_42010a8a0002row7_col7,#T_5ae6bd5e_f27d_11ea_8c88_42010a8a0002row8_col1,#T_5ae6bd5e_f27d_11ea_8c88_42010a8a0002row8_col5,#T_5ae6bd5e_f27d_11ea_8c88_42010a8a0002row8_col7,#T_5ae6bd5e_f27d_11ea_8c88_42010a8a0002row8_col8,#T_5ae6bd5e_f27d_11ea_8c88_42010a8a0002row9_col5,#T_5ae6bd5e_f27d_11ea_8c88_42010a8a0002row9_col7,#T_5ae6bd5e_f27d_11ea_8c88_42010a8a0002row9_col8,#T_5ae6bd5e_f27d_11ea_8c88_42010a8a0002row9_col9{\n",
       "            background-color:  #000000;\n",
       "            color:  #f1f1f1;\n",
       "        }#T_5ae6bd5e_f27d_11ea_8c88_42010a8a0002row0_col1,#T_5ae6bd5e_f27d_11ea_8c88_42010a8a0002row0_col4,#T_5ae6bd5e_f27d_11ea_8c88_42010a8a0002row1_col5,#T_5ae6bd5e_f27d_11ea_8c88_42010a8a0002row2_col5,#T_5ae6bd5e_f27d_11ea_8c88_42010a8a0002row2_col8,#T_5ae6bd5e_f27d_11ea_8c88_42010a8a0002row2_col9,#T_5ae6bd5e_f27d_11ea_8c88_42010a8a0002row3_col1,#T_5ae6bd5e_f27d_11ea_8c88_42010a8a0002row3_col8,#T_5ae6bd5e_f27d_11ea_8c88_42010a8a0002row4_col5,#T_5ae6bd5e_f27d_11ea_8c88_42010a8a0002row5_col0,#T_5ae6bd5e_f27d_11ea_8c88_42010a8a0002row6_col5,#T_5ae6bd5e_f27d_11ea_8c88_42010a8a0002row6_col6,#T_5ae6bd5e_f27d_11ea_8c88_42010a8a0002row6_col9,#T_5ae6bd5e_f27d_11ea_8c88_42010a8a0002row7_col0,#T_5ae6bd5e_f27d_11ea_8c88_42010a8a0002row7_col1,#T_5ae6bd5e_f27d_11ea_8c88_42010a8a0002row7_col2,#T_5ae6bd5e_f27d_11ea_8c88_42010a8a0002row7_col3,#T_5ae6bd5e_f27d_11ea_8c88_42010a8a0002row7_col4,#T_5ae6bd5e_f27d_11ea_8c88_42010a8a0002row8_col3,#T_5ae6bd5e_f27d_11ea_8c88_42010a8a0002row8_col4,#T_5ae6bd5e_f27d_11ea_8c88_42010a8a0002row8_col9,#T_5ae6bd5e_f27d_11ea_8c88_42010a8a0002row9_col2,#T_5ae6bd5e_f27d_11ea_8c88_42010a8a0002row9_col4,#T_5ae6bd5e_f27d_11ea_8c88_42010a8a0002row9_col6{\n",
       "            background-color:  #84ca66;\n",
       "            color:  #000000;\n",
       "        }#T_5ae6bd5e_f27d_11ea_8c88_42010a8a0002row0_col2,#T_5ae6bd5e_f27d_11ea_8c88_42010a8a0002row1_col1,#T_5ae6bd5e_f27d_11ea_8c88_42010a8a0002row1_col9,#T_5ae6bd5e_f27d_11ea_8c88_42010a8a0002row2_col0,#T_5ae6bd5e_f27d_11ea_8c88_42010a8a0002row2_col4,#T_5ae6bd5e_f27d_11ea_8c88_42010a8a0002row3_col5,#T_5ae6bd5e_f27d_11ea_8c88_42010a8a0002row3_col9,#T_5ae6bd5e_f27d_11ea_8c88_42010a8a0002row4_col3,#T_5ae6bd5e_f27d_11ea_8c88_42010a8a0002row5_col1,#T_5ae6bd5e_f27d_11ea_8c88_42010a8a0002row5_col2,#T_5ae6bd5e_f27d_11ea_8c88_42010a8a0002row5_col3,#T_5ae6bd5e_f27d_11ea_8c88_42010a8a0002row5_col4,#T_5ae6bd5e_f27d_11ea_8c88_42010a8a0002row5_col5,#T_5ae6bd5e_f27d_11ea_8c88_42010a8a0002row5_col7,#T_5ae6bd5e_f27d_11ea_8c88_42010a8a0002row6_col1,#T_5ae6bd5e_f27d_11ea_8c88_42010a8a0002row7_col6,#T_5ae6bd5e_f27d_11ea_8c88_42010a8a0002row8_col6,#T_5ae6bd5e_f27d_11ea_8c88_42010a8a0002row9_col1{\n",
       "            background-color:  #006837;\n",
       "            color:  #f1f1f1;\n",
       "        }#T_5ae6bd5e_f27d_11ea_8c88_42010a8a0002row0_col3,#T_5ae6bd5e_f27d_11ea_8c88_42010a8a0002row3_col2,#T_5ae6bd5e_f27d_11ea_8c88_42010a8a0002row3_col4,#T_5ae6bd5e_f27d_11ea_8c88_42010a8a0002row3_col6,#T_5ae6bd5e_f27d_11ea_8c88_42010a8a0002row5_col6,#T_5ae6bd5e_f27d_11ea_8c88_42010a8a0002row5_col9,#T_5ae6bd5e_f27d_11ea_8c88_42010a8a0002row6_col2,#T_5ae6bd5e_f27d_11ea_8c88_42010a8a0002row7_col5,#T_5ae6bd5e_f27d_11ea_8c88_42010a8a0002row7_col8,#T_5ae6bd5e_f27d_11ea_8c88_42010a8a0002row7_col9,#T_5ae6bd5e_f27d_11ea_8c88_42010a8a0002row8_col0,#T_5ae6bd5e_f27d_11ea_8c88_42010a8a0002row8_col2,#T_5ae6bd5e_f27d_11ea_8c88_42010a8a0002row9_col3{\n",
       "            background-color:  #feffbe;\n",
       "            color:  #000000;\n",
       "        }#T_5ae6bd5e_f27d_11ea_8c88_42010a8a0002row6_col8{\n",
       "            background-color:  #a50026;\n",
       "            color:  #f1f1f1;\n",
       "        }#T_5ae6bd5e_f27d_11ea_8c88_42010a8a0002row9_col0{\n",
       "            background-color:  #f98e52;\n",
       "            color:  #000000;\n",
       "        }</style><table id=\"T_5ae6bd5e_f27d_11ea_8c88_42010a8a0002\" ><thead>    <tr>        <th class=\"blank level0\" ></th>        <th class=\"col_heading level0 col0\" colspan=10>rating</th>    </tr>    <tr>        <th class=\"index_name level1\" >movie</th>        <th class=\"col_heading level1 col0\" >1</th>        <th class=\"col_heading level1 col1\" >50</th>        <th class=\"col_heading level1 col2\" >100</th>        <th class=\"col_heading level1 col3\" >121</th>        <th class=\"col_heading level1 col4\" >181</th>        <th class=\"col_heading level1 col5\" >258</th>        <th class=\"col_heading level1 col6\" >286</th>        <th class=\"col_heading level1 col7\" >288</th>        <th class=\"col_heading level1 col8\" >294</th>        <th class=\"col_heading level1 col9\" >300</th>    </tr>    <tr>        <th class=\"index_name level0\" >user</th>        <th class=\"blank\" ></th>        <th class=\"blank\" ></th>        <th class=\"blank\" ></th>        <th class=\"blank\" ></th>        <th class=\"blank\" ></th>        <th class=\"blank\" ></th>        <th class=\"blank\" ></th>        <th class=\"blank\" ></th>        <th class=\"blank\" ></th>        <th class=\"blank\" ></th>    </tr></thead><tbody>\n",
       "                <tr>\n",
       "                        <th id=\"T_5ae6bd5e_f27d_11ea_8c88_42010a8a0002level0_row0\" class=\"row_heading level0 row0\" >943</th>\n",
       "                        <td id=\"T_5ae6bd5e_f27d_11ea_8c88_42010a8a0002row0_col0\" class=\"data row0 col0\" >nan</td>\n",
       "                        <td id=\"T_5ae6bd5e_f27d_11ea_8c88_42010a8a0002row0_col1\" class=\"data row0 col1\" >4.000000</td>\n",
       "                        <td id=\"T_5ae6bd5e_f27d_11ea_8c88_42010a8a0002row0_col2\" class=\"data row0 col2\" >5.000000</td>\n",
       "                        <td id=\"T_5ae6bd5e_f27d_11ea_8c88_42010a8a0002row0_col3\" class=\"data row0 col3\" >3.000000</td>\n",
       "                        <td id=\"T_5ae6bd5e_f27d_11ea_8c88_42010a8a0002row0_col4\" class=\"data row0 col4\" >4.000000</td>\n",
       "                        <td id=\"T_5ae6bd5e_f27d_11ea_8c88_42010a8a0002row0_col5\" class=\"data row0 col5\" >nan</td>\n",
       "                        <td id=\"T_5ae6bd5e_f27d_11ea_8c88_42010a8a0002row0_col6\" class=\"data row0 col6\" >nan</td>\n",
       "                        <td id=\"T_5ae6bd5e_f27d_11ea_8c88_42010a8a0002row0_col7\" class=\"data row0 col7\" >nan</td>\n",
       "                        <td id=\"T_5ae6bd5e_f27d_11ea_8c88_42010a8a0002row0_col8\" class=\"data row0 col8\" >nan</td>\n",
       "                        <td id=\"T_5ae6bd5e_f27d_11ea_8c88_42010a8a0002row0_col9\" class=\"data row0 col9\" >nan</td>\n",
       "            </tr>\n",
       "            <tr>\n",
       "                        <th id=\"T_5ae6bd5e_f27d_11ea_8c88_42010a8a0002level0_row1\" class=\"row_heading level0 row1\" >942</th>\n",
       "                        <td id=\"T_5ae6bd5e_f27d_11ea_8c88_42010a8a0002row1_col0\" class=\"data row1 col0\" >nan</td>\n",
       "                        <td id=\"T_5ae6bd5e_f27d_11ea_8c88_42010a8a0002row1_col1\" class=\"data row1 col1\" >5.000000</td>\n",
       "                        <td id=\"T_5ae6bd5e_f27d_11ea_8c88_42010a8a0002row1_col2\" class=\"data row1 col2\" >nan</td>\n",
       "                        <td id=\"T_5ae6bd5e_f27d_11ea_8c88_42010a8a0002row1_col3\" class=\"data row1 col3\" >nan</td>\n",
       "                        <td id=\"T_5ae6bd5e_f27d_11ea_8c88_42010a8a0002row1_col4\" class=\"data row1 col4\" >nan</td>\n",
       "                        <td id=\"T_5ae6bd5e_f27d_11ea_8c88_42010a8a0002row1_col5\" class=\"data row1 col5\" >4.000000</td>\n",
       "                        <td id=\"T_5ae6bd5e_f27d_11ea_8c88_42010a8a0002row1_col6\" class=\"data row1 col6\" >nan</td>\n",
       "                        <td id=\"T_5ae6bd5e_f27d_11ea_8c88_42010a8a0002row1_col7\" class=\"data row1 col7\" >nan</td>\n",
       "                        <td id=\"T_5ae6bd5e_f27d_11ea_8c88_42010a8a0002row1_col8\" class=\"data row1 col8\" >nan</td>\n",
       "                        <td id=\"T_5ae6bd5e_f27d_11ea_8c88_42010a8a0002row1_col9\" class=\"data row1 col9\" >5.000000</td>\n",
       "            </tr>\n",
       "            <tr>\n",
       "                        <th id=\"T_5ae6bd5e_f27d_11ea_8c88_42010a8a0002level0_row2\" class=\"row_heading level0 row2\" >941</th>\n",
       "                        <td id=\"T_5ae6bd5e_f27d_11ea_8c88_42010a8a0002row2_col0\" class=\"data row2 col0\" >5.000000</td>\n",
       "                        <td id=\"T_5ae6bd5e_f27d_11ea_8c88_42010a8a0002row2_col1\" class=\"data row2 col1\" >nan</td>\n",
       "                        <td id=\"T_5ae6bd5e_f27d_11ea_8c88_42010a8a0002row2_col2\" class=\"data row2 col2\" >nan</td>\n",
       "                        <td id=\"T_5ae6bd5e_f27d_11ea_8c88_42010a8a0002row2_col3\" class=\"data row2 col3\" >nan</td>\n",
       "                        <td id=\"T_5ae6bd5e_f27d_11ea_8c88_42010a8a0002row2_col4\" class=\"data row2 col4\" >5.000000</td>\n",
       "                        <td id=\"T_5ae6bd5e_f27d_11ea_8c88_42010a8a0002row2_col5\" class=\"data row2 col5\" >4.000000</td>\n",
       "                        <td id=\"T_5ae6bd5e_f27d_11ea_8c88_42010a8a0002row2_col6\" class=\"data row2 col6\" >nan</td>\n",
       "                        <td id=\"T_5ae6bd5e_f27d_11ea_8c88_42010a8a0002row2_col7\" class=\"data row2 col7\" >nan</td>\n",
       "                        <td id=\"T_5ae6bd5e_f27d_11ea_8c88_42010a8a0002row2_col8\" class=\"data row2 col8\" >4.000000</td>\n",
       "                        <td id=\"T_5ae6bd5e_f27d_11ea_8c88_42010a8a0002row2_col9\" class=\"data row2 col9\" >4.000000</td>\n",
       "            </tr>\n",
       "            <tr>\n",
       "                        <th id=\"T_5ae6bd5e_f27d_11ea_8c88_42010a8a0002level0_row3\" class=\"row_heading level0 row3\" >940</th>\n",
       "                        <td id=\"T_5ae6bd5e_f27d_11ea_8c88_42010a8a0002row3_col0\" class=\"data row3 col0\" >nan</td>\n",
       "                        <td id=\"T_5ae6bd5e_f27d_11ea_8c88_42010a8a0002row3_col1\" class=\"data row3 col1\" >4.000000</td>\n",
       "                        <td id=\"T_5ae6bd5e_f27d_11ea_8c88_42010a8a0002row3_col2\" class=\"data row3 col2\" >3.000000</td>\n",
       "                        <td id=\"T_5ae6bd5e_f27d_11ea_8c88_42010a8a0002row3_col3\" class=\"data row3 col3\" >nan</td>\n",
       "                        <td id=\"T_5ae6bd5e_f27d_11ea_8c88_42010a8a0002row3_col4\" class=\"data row3 col4\" >3.000000</td>\n",
       "                        <td id=\"T_5ae6bd5e_f27d_11ea_8c88_42010a8a0002row3_col5\" class=\"data row3 col5\" >5.000000</td>\n",
       "                        <td id=\"T_5ae6bd5e_f27d_11ea_8c88_42010a8a0002row3_col6\" class=\"data row3 col6\" >3.000000</td>\n",
       "                        <td id=\"T_5ae6bd5e_f27d_11ea_8c88_42010a8a0002row3_col7\" class=\"data row3 col7\" >nan</td>\n",
       "                        <td id=\"T_5ae6bd5e_f27d_11ea_8c88_42010a8a0002row3_col8\" class=\"data row3 col8\" >4.000000</td>\n",
       "                        <td id=\"T_5ae6bd5e_f27d_11ea_8c88_42010a8a0002row3_col9\" class=\"data row3 col9\" >5.000000</td>\n",
       "            </tr>\n",
       "            <tr>\n",
       "                        <th id=\"T_5ae6bd5e_f27d_11ea_8c88_42010a8a0002level0_row4\" class=\"row_heading level0 row4\" >939</th>\n",
       "                        <td id=\"T_5ae6bd5e_f27d_11ea_8c88_42010a8a0002row4_col0\" class=\"data row4 col0\" >nan</td>\n",
       "                        <td id=\"T_5ae6bd5e_f27d_11ea_8c88_42010a8a0002row4_col1\" class=\"data row4 col1\" >nan</td>\n",
       "                        <td id=\"T_5ae6bd5e_f27d_11ea_8c88_42010a8a0002row4_col2\" class=\"data row4 col2\" >nan</td>\n",
       "                        <td id=\"T_5ae6bd5e_f27d_11ea_8c88_42010a8a0002row4_col3\" class=\"data row4 col3\" >5.000000</td>\n",
       "                        <td id=\"T_5ae6bd5e_f27d_11ea_8c88_42010a8a0002row4_col4\" class=\"data row4 col4\" >nan</td>\n",
       "                        <td id=\"T_5ae6bd5e_f27d_11ea_8c88_42010a8a0002row4_col5\" class=\"data row4 col5\" >4.000000</td>\n",
       "                        <td id=\"T_5ae6bd5e_f27d_11ea_8c88_42010a8a0002row4_col6\" class=\"data row4 col6\" >nan</td>\n",
       "                        <td id=\"T_5ae6bd5e_f27d_11ea_8c88_42010a8a0002row4_col7\" class=\"data row4 col7\" >nan</td>\n",
       "                        <td id=\"T_5ae6bd5e_f27d_11ea_8c88_42010a8a0002row4_col8\" class=\"data row4 col8\" >nan</td>\n",
       "                        <td id=\"T_5ae6bd5e_f27d_11ea_8c88_42010a8a0002row4_col9\" class=\"data row4 col9\" >nan</td>\n",
       "            </tr>\n",
       "            <tr>\n",
       "                        <th id=\"T_5ae6bd5e_f27d_11ea_8c88_42010a8a0002level0_row5\" class=\"row_heading level0 row5\" >938</th>\n",
       "                        <td id=\"T_5ae6bd5e_f27d_11ea_8c88_42010a8a0002row5_col0\" class=\"data row5 col0\" >4.000000</td>\n",
       "                        <td id=\"T_5ae6bd5e_f27d_11ea_8c88_42010a8a0002row5_col1\" class=\"data row5 col1\" >5.000000</td>\n",
       "                        <td id=\"T_5ae6bd5e_f27d_11ea_8c88_42010a8a0002row5_col2\" class=\"data row5 col2\" >5.000000</td>\n",
       "                        <td id=\"T_5ae6bd5e_f27d_11ea_8c88_42010a8a0002row5_col3\" class=\"data row5 col3\" >5.000000</td>\n",
       "                        <td id=\"T_5ae6bd5e_f27d_11ea_8c88_42010a8a0002row5_col4\" class=\"data row5 col4\" >5.000000</td>\n",
       "                        <td id=\"T_5ae6bd5e_f27d_11ea_8c88_42010a8a0002row5_col5\" class=\"data row5 col5\" >5.000000</td>\n",
       "                        <td id=\"T_5ae6bd5e_f27d_11ea_8c88_42010a8a0002row5_col6\" class=\"data row5 col6\" >3.000000</td>\n",
       "                        <td id=\"T_5ae6bd5e_f27d_11ea_8c88_42010a8a0002row5_col7\" class=\"data row5 col7\" >5.000000</td>\n",
       "                        <td id=\"T_5ae6bd5e_f27d_11ea_8c88_42010a8a0002row5_col8\" class=\"data row5 col8\" >nan</td>\n",
       "                        <td id=\"T_5ae6bd5e_f27d_11ea_8c88_42010a8a0002row5_col9\" class=\"data row5 col9\" >3.000000</td>\n",
       "            </tr>\n",
       "            <tr>\n",
       "                        <th id=\"T_5ae6bd5e_f27d_11ea_8c88_42010a8a0002level0_row6\" class=\"row_heading level0 row6\" >937</th>\n",
       "                        <td id=\"T_5ae6bd5e_f27d_11ea_8c88_42010a8a0002row6_col0\" class=\"data row6 col0\" >nan</td>\n",
       "                        <td id=\"T_5ae6bd5e_f27d_11ea_8c88_42010a8a0002row6_col1\" class=\"data row6 col1\" >5.000000</td>\n",
       "                        <td id=\"T_5ae6bd5e_f27d_11ea_8c88_42010a8a0002row6_col2\" class=\"data row6 col2\" >3.000000</td>\n",
       "                        <td id=\"T_5ae6bd5e_f27d_11ea_8c88_42010a8a0002row6_col3\" class=\"data row6 col3\" >nan</td>\n",
       "                        <td id=\"T_5ae6bd5e_f27d_11ea_8c88_42010a8a0002row6_col4\" class=\"data row6 col4\" >nan</td>\n",
       "                        <td id=\"T_5ae6bd5e_f27d_11ea_8c88_42010a8a0002row6_col5\" class=\"data row6 col5\" >4.000000</td>\n",
       "                        <td id=\"T_5ae6bd5e_f27d_11ea_8c88_42010a8a0002row6_col6\" class=\"data row6 col6\" >4.000000</td>\n",
       "                        <td id=\"T_5ae6bd5e_f27d_11ea_8c88_42010a8a0002row6_col7\" class=\"data row6 col7\" >nan</td>\n",
       "                        <td id=\"T_5ae6bd5e_f27d_11ea_8c88_42010a8a0002row6_col8\" class=\"data row6 col8\" >1.000000</td>\n",
       "                        <td id=\"T_5ae6bd5e_f27d_11ea_8c88_42010a8a0002row6_col9\" class=\"data row6 col9\" >4.000000</td>\n",
       "            </tr>\n",
       "            <tr>\n",
       "                        <th id=\"T_5ae6bd5e_f27d_11ea_8c88_42010a8a0002level0_row7\" class=\"row_heading level0 row7\" >936</th>\n",
       "                        <td id=\"T_5ae6bd5e_f27d_11ea_8c88_42010a8a0002row7_col0\" class=\"data row7 col0\" >4.000000</td>\n",
       "                        <td id=\"T_5ae6bd5e_f27d_11ea_8c88_42010a8a0002row7_col1\" class=\"data row7 col1\" >4.000000</td>\n",
       "                        <td id=\"T_5ae6bd5e_f27d_11ea_8c88_42010a8a0002row7_col2\" class=\"data row7 col2\" >4.000000</td>\n",
       "                        <td id=\"T_5ae6bd5e_f27d_11ea_8c88_42010a8a0002row7_col3\" class=\"data row7 col3\" >4.000000</td>\n",
       "                        <td id=\"T_5ae6bd5e_f27d_11ea_8c88_42010a8a0002row7_col4\" class=\"data row7 col4\" >4.000000</td>\n",
       "                        <td id=\"T_5ae6bd5e_f27d_11ea_8c88_42010a8a0002row7_col5\" class=\"data row7 col5\" >3.000000</td>\n",
       "                        <td id=\"T_5ae6bd5e_f27d_11ea_8c88_42010a8a0002row7_col6\" class=\"data row7 col6\" >5.000000</td>\n",
       "                        <td id=\"T_5ae6bd5e_f27d_11ea_8c88_42010a8a0002row7_col7\" class=\"data row7 col7\" >nan</td>\n",
       "                        <td id=\"T_5ae6bd5e_f27d_11ea_8c88_42010a8a0002row7_col8\" class=\"data row7 col8\" >3.000000</td>\n",
       "                        <td id=\"T_5ae6bd5e_f27d_11ea_8c88_42010a8a0002row7_col9\" class=\"data row7 col9\" >3.000000</td>\n",
       "            </tr>\n",
       "            <tr>\n",
       "                        <th id=\"T_5ae6bd5e_f27d_11ea_8c88_42010a8a0002level0_row8\" class=\"row_heading level0 row8\" >935</th>\n",
       "                        <td id=\"T_5ae6bd5e_f27d_11ea_8c88_42010a8a0002row8_col0\" class=\"data row8 col0\" >3.000000</td>\n",
       "                        <td id=\"T_5ae6bd5e_f27d_11ea_8c88_42010a8a0002row8_col1\" class=\"data row8 col1\" >nan</td>\n",
       "                        <td id=\"T_5ae6bd5e_f27d_11ea_8c88_42010a8a0002row8_col2\" class=\"data row8 col2\" >3.000000</td>\n",
       "                        <td id=\"T_5ae6bd5e_f27d_11ea_8c88_42010a8a0002row8_col3\" class=\"data row8 col3\" >4.000000</td>\n",
       "                        <td id=\"T_5ae6bd5e_f27d_11ea_8c88_42010a8a0002row8_col4\" class=\"data row8 col4\" >4.000000</td>\n",
       "                        <td id=\"T_5ae6bd5e_f27d_11ea_8c88_42010a8a0002row8_col5\" class=\"data row8 col5\" >nan</td>\n",
       "                        <td id=\"T_5ae6bd5e_f27d_11ea_8c88_42010a8a0002row8_col6\" class=\"data row8 col6\" >5.000000</td>\n",
       "                        <td id=\"T_5ae6bd5e_f27d_11ea_8c88_42010a8a0002row8_col7\" class=\"data row8 col7\" >nan</td>\n",
       "                        <td id=\"T_5ae6bd5e_f27d_11ea_8c88_42010a8a0002row8_col8\" class=\"data row8 col8\" >nan</td>\n",
       "                        <td id=\"T_5ae6bd5e_f27d_11ea_8c88_42010a8a0002row8_col9\" class=\"data row8 col9\" >4.000000</td>\n",
       "            </tr>\n",
       "            <tr>\n",
       "                        <th id=\"T_5ae6bd5e_f27d_11ea_8c88_42010a8a0002level0_row9\" class=\"row_heading level0 row9\" >934</th>\n",
       "                        <td id=\"T_5ae6bd5e_f27d_11ea_8c88_42010a8a0002row9_col0\" class=\"data row9 col0\" >2.000000</td>\n",
       "                        <td id=\"T_5ae6bd5e_f27d_11ea_8c88_42010a8a0002row9_col1\" class=\"data row9 col1\" >5.000000</td>\n",
       "                        <td id=\"T_5ae6bd5e_f27d_11ea_8c88_42010a8a0002row9_col2\" class=\"data row9 col2\" >4.000000</td>\n",
       "                        <td id=\"T_5ae6bd5e_f27d_11ea_8c88_42010a8a0002row9_col3\" class=\"data row9 col3\" >3.000000</td>\n",
       "                        <td id=\"T_5ae6bd5e_f27d_11ea_8c88_42010a8a0002row9_col4\" class=\"data row9 col4\" >4.000000</td>\n",
       "                        <td id=\"T_5ae6bd5e_f27d_11ea_8c88_42010a8a0002row9_col5\" class=\"data row9 col5\" >nan</td>\n",
       "                        <td id=\"T_5ae6bd5e_f27d_11ea_8c88_42010a8a0002row9_col6\" class=\"data row9 col6\" >4.000000</td>\n",
       "                        <td id=\"T_5ae6bd5e_f27d_11ea_8c88_42010a8a0002row9_col7\" class=\"data row9 col7\" >nan</td>\n",
       "                        <td id=\"T_5ae6bd5e_f27d_11ea_8c88_42010a8a0002row9_col8\" class=\"data row9 col8\" >nan</td>\n",
       "                        <td id=\"T_5ae6bd5e_f27d_11ea_8c88_42010a8a0002row9_col9\" class=\"data row9 col9\" >nan</td>\n",
       "            </tr>\n",
       "    </tbody></table>"
      ],
      "text/plain": [
       "<pandas.io.formats.style.Styler at 0x7efe98cd5b50>"
      ]
     },
     "execution_count": 13,
     "metadata": {},
     "output_type": "execute_result"
    }
   ],
   "source": [
    "movie_slice.style.background_gradient(cmap='RdYlGn', vmin=1, vmax=5)"
   ]
  },
  {
   "cell_type": "markdown",
   "metadata": {},
   "source": [
    "The objective of collaborative filtering is to fill in the blanks of this table, and recommend the movie the user is most likely to like to watch next."
   ]
  },
  {
   "cell_type": "markdown",
   "metadata": {},
   "source": [
    "This is achieved by associating a set of **latent factors** with each item, and a set of corresponding latent factors for each user. The prediction is then the dot-product between the latent factors and the weights."
   ]
  },
  {
   "cell_type": "markdown",
   "metadata": {},
   "source": [
    " <img src=\"./figures/collab.png\" style=\"width:1000px\"> "
   ]
  },
  {
   "cell_type": "markdown",
   "metadata": {},
   "source": [
    "## Create DataLoaders"
   ]
  },
  {
   "cell_type": "code",
   "execution_count": 14,
   "metadata": {},
   "outputs": [
    {
     "data": {
      "text/html": [
       "<div>\n",
       "<style scoped>\n",
       "    .dataframe tbody tr th:only-of-type {\n",
       "        vertical-align: middle;\n",
       "    }\n",
       "\n",
       "    .dataframe tbody tr th {\n",
       "        vertical-align: top;\n",
       "    }\n",
       "\n",
       "    .dataframe thead th {\n",
       "        text-align: right;\n",
       "    }\n",
       "</style>\n",
       "<table border=\"1\" class=\"dataframe\">\n",
       "  <thead>\n",
       "    <tr style=\"text-align: right;\">\n",
       "      <th></th>\n",
       "      <th>movie</th>\n",
       "      <th>title</th>\n",
       "    </tr>\n",
       "  </thead>\n",
       "  <tbody>\n",
       "    <tr>\n",
       "      <th>0</th>\n",
       "      <td>1</td>\n",
       "      <td>Toy Story (1995)</td>\n",
       "    </tr>\n",
       "    <tr>\n",
       "      <th>1</th>\n",
       "      <td>2</td>\n",
       "      <td>GoldenEye (1995)</td>\n",
       "    </tr>\n",
       "    <tr>\n",
       "      <th>2</th>\n",
       "      <td>3</td>\n",
       "      <td>Four Rooms (1995)</td>\n",
       "    </tr>\n",
       "    <tr>\n",
       "      <th>3</th>\n",
       "      <td>4</td>\n",
       "      <td>Get Shorty (1995)</td>\n",
       "    </tr>\n",
       "    <tr>\n",
       "      <th>4</th>\n",
       "      <td>5</td>\n",
       "      <td>Copycat (1995)</td>\n",
       "    </tr>\n",
       "  </tbody>\n",
       "</table>\n",
       "</div>"
      ],
      "text/plain": [
       "   movie              title\n",
       "0      1   Toy Story (1995)\n",
       "1      2   GoldenEye (1995)\n",
       "2      3  Four Rooms (1995)\n",
       "3      4  Get Shorty (1995)\n",
       "4      5     Copycat (1995)"
      ]
     },
     "execution_count": 14,
     "metadata": {},
     "output_type": "execute_result"
    }
   ],
   "source": [
    "movies = pd.read_csv(path/\"u.item\", delimiter='|', encoding='latin-1', usecols=(0,1), \n",
    "                     names=('movie', 'title'), header=None)\n",
    "movies.head()"
   ]
  },
  {
   "cell_type": "code",
   "execution_count": 15,
   "metadata": {},
   "outputs": [
    {
     "data": {
      "text/html": [
       "<div>\n",
       "<style scoped>\n",
       "    .dataframe tbody tr th:only-of-type {\n",
       "        vertical-align: middle;\n",
       "    }\n",
       "\n",
       "    .dataframe tbody tr th {\n",
       "        vertical-align: top;\n",
       "    }\n",
       "\n",
       "    .dataframe thead th {\n",
       "        text-align: right;\n",
       "    }\n",
       "</style>\n",
       "<table border=\"1\" class=\"dataframe\">\n",
       "  <thead>\n",
       "    <tr style=\"text-align: right;\">\n",
       "      <th></th>\n",
       "      <th>user</th>\n",
       "      <th>movie</th>\n",
       "      <th>rating</th>\n",
       "      <th>timestamp</th>\n",
       "    </tr>\n",
       "  </thead>\n",
       "  <tbody>\n",
       "    <tr>\n",
       "      <th>0</th>\n",
       "      <td>196</td>\n",
       "      <td>242</td>\n",
       "      <td>3</td>\n",
       "      <td>881250949</td>\n",
       "    </tr>\n",
       "    <tr>\n",
       "      <th>1</th>\n",
       "      <td>186</td>\n",
       "      <td>302</td>\n",
       "      <td>3</td>\n",
       "      <td>891717742</td>\n",
       "    </tr>\n",
       "    <tr>\n",
       "      <th>2</th>\n",
       "      <td>22</td>\n",
       "      <td>377</td>\n",
       "      <td>1</td>\n",
       "      <td>878887116</td>\n",
       "    </tr>\n",
       "    <tr>\n",
       "      <th>3</th>\n",
       "      <td>244</td>\n",
       "      <td>51</td>\n",
       "      <td>2</td>\n",
       "      <td>880606923</td>\n",
       "    </tr>\n",
       "    <tr>\n",
       "      <th>4</th>\n",
       "      <td>166</td>\n",
       "      <td>346</td>\n",
       "      <td>1</td>\n",
       "      <td>886397596</td>\n",
       "    </tr>\n",
       "  </tbody>\n",
       "</table>\n",
       "</div>"
      ],
      "text/plain": [
       "   user  movie  rating  timestamp\n",
       "0   196    242       3  881250949\n",
       "1   186    302       3  891717742\n",
       "2    22    377       1  878887116\n",
       "3   244     51       2  880606923\n",
       "4   166    346       1  886397596"
      ]
     },
     "execution_count": 15,
     "metadata": {},
     "output_type": "execute_result"
    }
   ],
   "source": [
    "ratings.head()"
   ]
  },
  {
   "cell_type": "code",
   "execution_count": 16,
   "metadata": {},
   "outputs": [
    {
     "data": {
      "text/html": [
       "<div>\n",
       "<style scoped>\n",
       "    .dataframe tbody tr th:only-of-type {\n",
       "        vertical-align: middle;\n",
       "    }\n",
       "\n",
       "    .dataframe tbody tr th {\n",
       "        vertical-align: top;\n",
       "    }\n",
       "\n",
       "    .dataframe thead th {\n",
       "        text-align: right;\n",
       "    }\n",
       "</style>\n",
       "<table border=\"1\" class=\"dataframe\">\n",
       "  <thead>\n",
       "    <tr style=\"text-align: right;\">\n",
       "      <th></th>\n",
       "      <th>user</th>\n",
       "      <th>movie</th>\n",
       "      <th>rating</th>\n",
       "      <th>timestamp</th>\n",
       "      <th>title</th>\n",
       "    </tr>\n",
       "  </thead>\n",
       "  <tbody>\n",
       "    <tr>\n",
       "      <th>0</th>\n",
       "      <td>196</td>\n",
       "      <td>242</td>\n",
       "      <td>3</td>\n",
       "      <td>881250949</td>\n",
       "      <td>Kolya (1996)</td>\n",
       "    </tr>\n",
       "    <tr>\n",
       "      <th>1</th>\n",
       "      <td>63</td>\n",
       "      <td>242</td>\n",
       "      <td>3</td>\n",
       "      <td>875747190</td>\n",
       "      <td>Kolya (1996)</td>\n",
       "    </tr>\n",
       "    <tr>\n",
       "      <th>2</th>\n",
       "      <td>226</td>\n",
       "      <td>242</td>\n",
       "      <td>5</td>\n",
       "      <td>883888671</td>\n",
       "      <td>Kolya (1996)</td>\n",
       "    </tr>\n",
       "    <tr>\n",
       "      <th>3</th>\n",
       "      <td>154</td>\n",
       "      <td>242</td>\n",
       "      <td>3</td>\n",
       "      <td>879138235</td>\n",
       "      <td>Kolya (1996)</td>\n",
       "    </tr>\n",
       "    <tr>\n",
       "      <th>4</th>\n",
       "      <td>306</td>\n",
       "      <td>242</td>\n",
       "      <td>5</td>\n",
       "      <td>876503793</td>\n",
       "      <td>Kolya (1996)</td>\n",
       "    </tr>\n",
       "  </tbody>\n",
       "</table>\n",
       "</div>"
      ],
      "text/plain": [
       "   user  movie  rating  timestamp         title\n",
       "0   196    242       3  881250949  Kolya (1996)\n",
       "1    63    242       3  875747190  Kolya (1996)\n",
       "2   226    242       5  883888671  Kolya (1996)\n",
       "3   154    242       3  879138235  Kolya (1996)\n",
       "4   306    242       5  876503793  Kolya (1996)"
      ]
     },
     "execution_count": 16,
     "metadata": {},
     "output_type": "execute_result"
    }
   ],
   "source": [
    "ratings = ratings.merge(movies)\n",
    "ratings.head()"
   ]
  },
  {
   "cell_type": "markdown",
   "metadata": {},
   "source": [
    "We could use the `DataBlocks` API, or just use the built-in factory method for making our `DataLoaders`"
   ]
  },
  {
   "cell_type": "code",
   "execution_count": 17,
   "metadata": {},
   "outputs": [
    {
     "data": {
      "text/html": [
       "<table border=\"1\" class=\"dataframe\">\n",
       "  <thead>\n",
       "    <tr style=\"text-align: right;\">\n",
       "      <th></th>\n",
       "      <th>user</th>\n",
       "      <th>title</th>\n",
       "      <th>rating</th>\n",
       "    </tr>\n",
       "  </thead>\n",
       "  <tbody>\n",
       "    <tr>\n",
       "      <th>0</th>\n",
       "      <td>85</td>\n",
       "      <td>Spanking the Monkey (1994)</td>\n",
       "      <td>3</td>\n",
       "    </tr>\n",
       "    <tr>\n",
       "      <th>1</th>\n",
       "      <td>501</td>\n",
       "      <td>Rumble in the Bronx (1995)</td>\n",
       "      <td>3</td>\n",
       "    </tr>\n",
       "    <tr>\n",
       "      <th>2</th>\n",
       "      <td>536</td>\n",
       "      <td>Muppet Treasure Island (1996)</td>\n",
       "      <td>3</td>\n",
       "    </tr>\n",
       "    <tr>\n",
       "      <th>3</th>\n",
       "      <td>152</td>\n",
       "      <td>Back to the Future (1985)</td>\n",
       "      <td>4</td>\n",
       "    </tr>\n",
       "    <tr>\n",
       "      <th>4</th>\n",
       "      <td>85</td>\n",
       "      <td>Living in Oblivion (1995)</td>\n",
       "      <td>4</td>\n",
       "    </tr>\n",
       "    <tr>\n",
       "      <th>5</th>\n",
       "      <td>231</td>\n",
       "      <td>Lost World: Jurassic Park, The (1997)</td>\n",
       "      <td>4</td>\n",
       "    </tr>\n",
       "    <tr>\n",
       "      <th>6</th>\n",
       "      <td>236</td>\n",
       "      <td>Dead Poets Society (1989)</td>\n",
       "      <td>1</td>\n",
       "    </tr>\n",
       "    <tr>\n",
       "      <th>7</th>\n",
       "      <td>535</td>\n",
       "      <td>It Happened One Night (1934)</td>\n",
       "      <td>4</td>\n",
       "    </tr>\n",
       "    <tr>\n",
       "      <th>8</th>\n",
       "      <td>863</td>\n",
       "      <td>Lost Highway (1997)</td>\n",
       "      <td>5</td>\n",
       "    </tr>\n",
       "    <tr>\n",
       "      <th>9</th>\n",
       "      <td>590</td>\n",
       "      <td>First Wives Club, The (1996)</td>\n",
       "      <td>3</td>\n",
       "    </tr>\n",
       "  </tbody>\n",
       "</table>"
      ],
      "text/plain": [
       "<IPython.core.display.HTML object>"
      ]
     },
     "metadata": {},
     "output_type": "display_data"
    }
   ],
   "source": [
    "dls = CollabDataLoaders.from_df(ratings, item_name='title', bs=64)\n",
    "dls.show_batch()"
   ]
  },
  {
   "cell_type": "code",
   "execution_count": 18,
   "metadata": {},
   "outputs": [
    {
     "data": {
      "text/plain": [
       "{'user': (#944) ['#na#',1,2,3,4,5,6,7,8,9...],\n",
       " 'title': (#1665) ['#na#',\"'Til There Was You (1997)\",'1-900 (1994)','101 Dalmatians (1996)','12 Angry Men (1957)','187 (1997)','2 Days in the Valley (1996)','20,000 Leagues Under the Sea (1954)','2001: A Space Odyssey (1968)','3 Ninjas: High Noon At Mega Mountain (1998)'...]}"
      ]
     },
     "execution_count": 18,
     "metadata": {},
     "output_type": "execute_result"
    }
   ],
   "source": [
    "dls.classes"
   ]
  },
  {
   "cell_type": "markdown",
   "metadata": {},
   "source": [
    "Create latent factors"
   ]
  },
  {
   "cell_type": "code",
   "execution_count": 19,
   "metadata": {},
   "outputs": [],
   "source": [
    "n_users = len(dls.classes['user'])\n",
    "n_titles = len(dls.classes['title'])\n",
    "n_factors = 5\n",
    "\n",
    "user_factors = torch.randn(n_users, n_factors)\n",
    "movie_factors = torch.randn(n_titles, n_factors)"
   ]
  },
  {
   "cell_type": "markdown",
   "metadata": {},
   "source": [
    "To get the two appropriate sets of latent factors for a (user, movie) pair, we need to look up the corresponding index of both users and movies in the `user_factors` and `movie_factors` matricies. But \"_look up in an index_\" is not an operation that deep learning models know how to do. They require **differentiable** operations such as matrix multiplications and non-linear activation functions.\n",
    "\n",
    "However, we can represent a look-up by using one-hot encoded vectors!"
   ]
  },
  {
   "cell_type": "code",
   "execution_count": 20,
   "metadata": {},
   "outputs": [
    {
     "data": {
      "text/plain": [
       "tensor([0, 0, 1, 0, 0], dtype=torch.uint8)"
      ]
     },
     "execution_count": 20,
     "metadata": {},
     "output_type": "execute_result"
    }
   ],
   "source": [
    "one_hot(2,5)"
   ]
  },
  {
   "cell_type": "code",
   "execution_count": 21,
   "metadata": {},
   "outputs": [
    {
     "data": {
      "text/plain": [
       "tensor([-0.2366, -0.0309, -0.4421, -0.7186, -1.0488])"
      ]
     },
     "execution_count": 21,
     "metadata": {},
     "output_type": "execute_result"
    }
   ],
   "source": [
    "user_factors.t() @ one_hot(3, n_users).float()"
   ]
  },
  {
   "cell_type": "code",
   "execution_count": 22,
   "metadata": {},
   "outputs": [
    {
     "data": {
      "text/plain": [
       "tensor([-0.2366, -0.0309, -0.4421, -0.7186, -1.0488])"
      ]
     },
     "execution_count": 22,
     "metadata": {},
     "output_type": "execute_result"
    }
   ],
   "source": [
    "user_factors[3]"
   ]
  },
  {
   "cell_type": "markdown",
   "metadata": {},
   "source": [
    "Since a matrix multiplication has a well-defined gradient, we can use backprop and our regular SGD machinery to perform learning."
   ]
  },
  {
   "cell_type": "markdown",
   "metadata": {},
   "source": [
    "We could do this for the whole set of users, and that would be a perfectly acceptable way to build collaborative filtering models. However, using matrix multiplication to perform indexing is not very memory/time efficient. \n",
    "\n",
    "Most deep learning libraries, including PyTorch, include a special layer that does this for us -- called an **embedding**. An embedding indexes into a vector using an integer, but has its derivative calculated in a way which is identical to a matrix multiplication with one-hot-encoded vectors. So\n",
    "\n",
    "\"**Embedding** = multiplying by a one-hot-encoded matrix, using a computational shortcut such that it can be implemented simply by indexing directly\""
   ]
  },
  {
   "cell_type": "markdown",
   "metadata": {},
   "source": [
    "## Collaborative filtering from scratch"
   ]
  },
  {
   "cell_type": "markdown",
   "metadata": {},
   "source": [
    "When creaing a new PyTorch Module, we must inherit from `Module`."
   ]
  },
  {
   "cell_type": "code",
   "execution_count": 23,
   "metadata": {},
   "outputs": [
    {
     "data": {
      "text/plain": [
       "fastai.torch_core.Module"
      ]
     },
     "execution_count": 23,
     "metadata": {},
     "output_type": "execute_result"
    }
   ],
   "source": [
    "Module"
   ]
  },
  {
   "cell_type": "markdown",
   "metadata": {},
   "source": [
    "When calling a module, PyTorch will call a method called `forward` and pass along any parameters that are included in the call. This is where you put the actual computation. So, to define a dot product model, we may write:"
   ]
  },
  {
   "cell_type": "code",
   "execution_count": 24,
   "metadata": {},
   "outputs": [],
   "source": [
    "class DotProduct(Module):\n",
    "    def __init__(self, n_users, n_movies, n_factors):\n",
    "        self.user_factors = Embedding(n_users, n_factors)\n",
    "        self.movie_factors = Embedding(n_movies, n_factors)\n",
    "    \n",
    "    def forward(self, x):\n",
    "        users = self.user_factors(x[:,0])  # for every user, get the corresponding latent factors\n",
    "        movies = self.movie_factors(x[:,1]) # for every movie, get the corresponding latent factors\n",
    "        \n",
    "        # perform a dot product for each (user, movie). dim=0 is the mini-batch dimension.\n",
    "        return (users * movies).sum(dim=1) \n",
    "                 "
   ]
  },
  {
   "cell_type": "code",
   "execution_count": 25,
   "metadata": {},
   "outputs": [],
   "source": [
    "x, y = dls.one_batch()"
   ]
  },
  {
   "cell_type": "code",
   "execution_count": 26,
   "metadata": {},
   "outputs": [
    {
     "data": {
      "text/plain": [
       "torch.Size([64, 2])"
      ]
     },
     "execution_count": 26,
     "metadata": {},
     "output_type": "execute_result"
    }
   ],
   "source": [
    "x.shape"
   ]
  },
  {
   "cell_type": "code",
   "execution_count": 27,
   "metadata": {},
   "outputs": [
    {
     "data": {
      "text/plain": [
       "tensor([[ 296,  304],\n",
       "        [ 666,  447],\n",
       "        [ 645, 1485],\n",
       "        [ 303,   42],\n",
       "        [ 432,  856]], device='cuda:0')"
      ]
     },
     "execution_count": 27,
     "metadata": {},
     "output_type": "execute_result"
    }
   ],
   "source": [
    "x[:5]"
   ]
  },
  {
   "cell_type": "markdown",
   "metadata": {},
   "source": [
    "The first column consists of users, and the second column consists of items."
   ]
  },
  {
   "cell_type": "markdown",
   "metadata": {},
   "source": [
    "## Train model"
   ]
  },
  {
   "cell_type": "markdown",
   "metadata": {},
   "source": [
    "Previously we have used special functions such as `cnn_learner` which sets everything up for us for a CNN application. Since we're doing things from scratch here, we'll use the plain `Learner` class."
   ]
  },
  {
   "cell_type": "code",
   "execution_count": 28,
   "metadata": {},
   "outputs": [],
   "source": [
    "model = DotProduct(n_users, n_titles, 50)\n",
    "learn = Learner(dls, model, loss_func=MSELossFlat())"
   ]
  },
  {
   "cell_type": "code",
   "execution_count": 29,
   "metadata": {},
   "outputs": [
    {
     "data": {
      "text/html": [
       "<table border=\"1\" class=\"dataframe\">\n",
       "  <thead>\n",
       "    <tr style=\"text-align: left;\">\n",
       "      <th>epoch</th>\n",
       "      <th>train_loss</th>\n",
       "      <th>valid_loss</th>\n",
       "      <th>time</th>\n",
       "    </tr>\n",
       "  </thead>\n",
       "  <tbody>\n",
       "    <tr>\n",
       "      <td>0</td>\n",
       "      <td>1.321491</td>\n",
       "      <td>1.296349</td>\n",
       "      <td>00:06</td>\n",
       "    </tr>\n",
       "    <tr>\n",
       "      <td>1</td>\n",
       "      <td>1.085333</td>\n",
       "      <td>1.080703</td>\n",
       "      <td>00:06</td>\n",
       "    </tr>\n",
       "    <tr>\n",
       "      <td>2</td>\n",
       "      <td>0.957924</td>\n",
       "      <td>0.977100</td>\n",
       "      <td>00:06</td>\n",
       "    </tr>\n",
       "    <tr>\n",
       "      <td>3</td>\n",
       "      <td>0.835392</td>\n",
       "      <td>0.892612</td>\n",
       "      <td>00:06</td>\n",
       "    </tr>\n",
       "    <tr>\n",
       "      <td>4</td>\n",
       "      <td>0.776876</td>\n",
       "      <td>0.875521</td>\n",
       "      <td>00:06</td>\n",
       "    </tr>\n",
       "  </tbody>\n",
       "</table>"
      ],
      "text/plain": [
       "<IPython.core.display.HTML object>"
      ]
     },
     "metadata": {},
     "output_type": "display_data"
    }
   ],
   "source": [
    "learn.fit_one_cycle(5, 5e-3)"
   ]
  },
  {
   "cell_type": "markdown",
   "metadata": {},
   "source": [
    "We can make the model a little better by forcing the predictions to be between 0-5. Empirically, it's found that things work better if you can go a little over 5:"
   ]
  },
  {
   "cell_type": "code",
   "execution_count": 30,
   "metadata": {},
   "outputs": [],
   "source": [
    "class DotProduct(Module):\n",
    "    def __init__(self, n_users, n_movies, n_factors, y_range=(0, 5.5)):\n",
    "        self.user_factors = Embedding(n_users, n_factors)\n",
    "        self.movie_factors = Embedding(n_movies, n_factors)\n",
    "        self.y_range = y_range\n",
    "    \n",
    "    def forward(self, x):\n",
    "        users = self.user_factors(x[:,0])  # for every user, get the corresponding latent factors\n",
    "        movies = self.movie_factors(x[:,1]) # for every movie, get the corresponding latent factors\n",
    "        \n",
    "        # perform a dot product for each (user, movie). dim=0 is the mini-batch dimension.\n",
    "        return sigmoid_range((users * movies).sum(dim=1), *self.y_range) \n",
    "                 "
   ]
  },
  {
   "cell_type": "code",
   "execution_count": 31,
   "metadata": {},
   "outputs": [
    {
     "data": {
      "text/html": [
       "<table border=\"1\" class=\"dataframe\">\n",
       "  <thead>\n",
       "    <tr style=\"text-align: left;\">\n",
       "      <th>epoch</th>\n",
       "      <th>train_loss</th>\n",
       "      <th>valid_loss</th>\n",
       "      <th>time</th>\n",
       "    </tr>\n",
       "  </thead>\n",
       "  <tbody>\n",
       "    <tr>\n",
       "      <td>0</td>\n",
       "      <td>0.976325</td>\n",
       "      <td>0.973851</td>\n",
       "      <td>00:07</td>\n",
       "    </tr>\n",
       "    <tr>\n",
       "      <td>1</td>\n",
       "      <td>0.883897</td>\n",
       "      <td>0.896304</td>\n",
       "      <td>00:06</td>\n",
       "    </tr>\n",
       "    <tr>\n",
       "      <td>2</td>\n",
       "      <td>0.656768</td>\n",
       "      <td>0.861339</td>\n",
       "      <td>00:06</td>\n",
       "    </tr>\n",
       "    <tr>\n",
       "      <td>3</td>\n",
       "      <td>0.481636</td>\n",
       "      <td>0.869111</td>\n",
       "      <td>00:06</td>\n",
       "    </tr>\n",
       "    <tr>\n",
       "      <td>4</td>\n",
       "      <td>0.366966</td>\n",
       "      <td>0.873295</td>\n",
       "      <td>00:06</td>\n",
       "    </tr>\n",
       "  </tbody>\n",
       "</table>"
      ],
      "text/plain": [
       "<IPython.core.display.HTML object>"
      ]
     },
     "metadata": {},
     "output_type": "display_data"
    }
   ],
   "source": [
    "model = DotProduct(n_users, n_titles, 50)\n",
    "learn = Learner(dls, model, loss_func=MSELossFlat())\n",
    "learn.fit_one_cycle(5, 5e-3)"
   ]
  },
  {
   "cell_type": "markdown",
   "metadata": {},
   "source": [
    "We should also include a bias term, for systematic effects in movies/users."
   ]
  },
  {
   "cell_type": "code",
   "execution_count": 32,
   "metadata": {},
   "outputs": [],
   "source": [
    "class DotProductBias(Module):\n",
    "    def __init__(self, n_users, n_movies, n_factors, y_range=(0, 5.5)):\n",
    "        self.user_factors = Embedding(n_users, n_factors)        \n",
    "        self.user_bias = Embedding(n_users, 1)\n",
    "        \n",
    "        self.movie_factors = Embedding(n_movies, n_factors)\n",
    "        self.movie_bias = Embedding(n_movies, 1)\n",
    "        \n",
    "        self.y_range = y_range\n",
    "    \n",
    "    def forward(self, x):\n",
    "        users = self.user_factors(x[:,0])  # for every user, get the corresponding latent factors\n",
    "        movies = self.movie_factors(x[:,1]) # for every movie, get the corresponding latent factors        \n",
    "        \n",
    "        res = (users * movies).sum(dim=1, keepdim=True)  # keepdims -- not sure why\n",
    "        res += self.user_bias(x[:,0]) + self.movie_bias(x[:,1])\n",
    "        \n",
    "        # perform a dot product for each (user, movie). dim=0 is the mini-batch dimension.\n",
    "        return sigmoid_range(res, *self.y_range) \n",
    "                 "
   ]
  },
  {
   "cell_type": "code",
   "execution_count": 33,
   "metadata": {},
   "outputs": [
    {
     "data": {
      "text/html": [
       "<table border=\"1\" class=\"dataframe\">\n",
       "  <thead>\n",
       "    <tr style=\"text-align: left;\">\n",
       "      <th>epoch</th>\n",
       "      <th>train_loss</th>\n",
       "      <th>valid_loss</th>\n",
       "      <th>time</th>\n",
       "    </tr>\n",
       "  </thead>\n",
       "  <tbody>\n",
       "    <tr>\n",
       "      <td>0</td>\n",
       "      <td>0.950166</td>\n",
       "      <td>0.933850</td>\n",
       "      <td>00:07</td>\n",
       "    </tr>\n",
       "    <tr>\n",
       "      <td>1</td>\n",
       "      <td>0.826388</td>\n",
       "      <td>0.849396</td>\n",
       "      <td>00:07</td>\n",
       "    </tr>\n",
       "    <tr>\n",
       "      <td>2</td>\n",
       "      <td>0.619086</td>\n",
       "      <td>0.842885</td>\n",
       "      <td>00:07</td>\n",
       "    </tr>\n",
       "    <tr>\n",
       "      <td>3</td>\n",
       "      <td>0.392377</td>\n",
       "      <td>0.864537</td>\n",
       "      <td>00:07</td>\n",
       "    </tr>\n",
       "    <tr>\n",
       "      <td>4</td>\n",
       "      <td>0.279823</td>\n",
       "      <td>0.871482</td>\n",
       "      <td>00:07</td>\n",
       "    </tr>\n",
       "  </tbody>\n",
       "</table>"
      ],
      "text/plain": [
       "<IPython.core.display.HTML object>"
      ]
     },
     "metadata": {},
     "output_type": "display_data"
    }
   ],
   "source": [
    "model = DotProductBias(n_users, n_titles, 50)\n",
    "learn = Learner(dls, model, loss_func=MSELossFlat())\n",
    "learn.fit_one_cycle(5, 5e-3)"
   ]
  },
  {
   "cell_type": "markdown",
   "metadata": {},
   "source": [
    "This is starting to overfit quite quickly -- with only 4 epochs the validation loss is starting to increase. We need some kind of regularization to prevent overfitting."
   ]
  },
  {
   "cell_type": "markdown",
   "metadata": {},
   "source": [
    "## Weight decay"
   ]
  },
  {
   "cell_type": "markdown",
   "metadata": {},
   "source": [
    "Promotes finding smooth functions by penalizing large parameter values. `wd` is a hyperparameter of the model which augments the loss function."
   ]
  },
  {
   "cell_type": "code",
   "execution_count": 34,
   "metadata": {},
   "outputs": [
    {
     "data": {
      "text/html": [
       "<table border=\"1\" class=\"dataframe\">\n",
       "  <thead>\n",
       "    <tr style=\"text-align: left;\">\n",
       "      <th>epoch</th>\n",
       "      <th>train_loss</th>\n",
       "      <th>valid_loss</th>\n",
       "      <th>time</th>\n",
       "    </tr>\n",
       "  </thead>\n",
       "  <tbody>\n",
       "    <tr>\n",
       "      <td>0</td>\n",
       "      <td>0.938515</td>\n",
       "      <td>0.954939</td>\n",
       "      <td>00:07</td>\n",
       "    </tr>\n",
       "    <tr>\n",
       "      <td>1</td>\n",
       "      <td>0.836104</td>\n",
       "      <td>0.874313</td>\n",
       "      <td>00:07</td>\n",
       "    </tr>\n",
       "    <tr>\n",
       "      <td>2</td>\n",
       "      <td>0.755458</td>\n",
       "      <td>0.829546</td>\n",
       "      <td>00:07</td>\n",
       "    </tr>\n",
       "    <tr>\n",
       "      <td>3</td>\n",
       "      <td>0.600833</td>\n",
       "      <td>0.816183</td>\n",
       "      <td>00:07</td>\n",
       "    </tr>\n",
       "    <tr>\n",
       "      <td>4</td>\n",
       "      <td>0.492354</td>\n",
       "      <td>0.816453</td>\n",
       "      <td>00:07</td>\n",
       "    </tr>\n",
       "  </tbody>\n",
       "</table>"
      ],
      "text/plain": [
       "<IPython.core.display.HTML object>"
      ]
     },
     "metadata": {},
     "output_type": "display_data"
    }
   ],
   "source": [
    "model = DotProductBias(n_users, n_titles, 50)\n",
    "learn = Learner(dls, model, loss_func=MSELossFlat())\n",
    "learn.fit_one_cycle(5, 5e-3, wd=0.1) # with weight decay"
   ]
  },
  {
   "cell_type": "markdown",
   "metadata": {},
   "source": [
    "That's looking a bit better."
   ]
  },
  {
   "cell_type": "markdown",
   "metadata": {},
   "source": [
    "## Creating an Embedding module from scratch"
   ]
  },
  {
   "cell_type": "markdown",
   "metadata": {},
   "source": [
    "An embedding is just an indexing into an array. Let's create our own layer."
   ]
  },
  {
   "cell_type": "markdown",
   "metadata": {},
   "source": [
    "A layer is usually created by inheriting from `Module`. Optimizers require being able to grab all the parameters of a module by calling the `parameters` method, so that it can be optimized with backprop. This doesn't happen automatically:"
   ]
  },
  {
   "cell_type": "code",
   "execution_count": 35,
   "metadata": {},
   "outputs": [
    {
     "data": {
      "text/plain": [
       "(#0) []"
      ]
     },
     "execution_count": 35,
     "metadata": {},
     "output_type": "execute_result"
    }
   ],
   "source": [
    "class DummyLayer(Module):\n",
    "    def __init__(self): self.a = torch.ones(3)  # a parameter. Or is it?\n",
    "\n",
    "L(DummyLayer().parameters())"
   ]
  },
  {
   "cell_type": "markdown",
   "metadata": {},
   "source": [
    "To tell `Module` that we want to treat a tensor as a parameter, we have to wrap it in `nn.Parameter`. All it does is add `requires_grad_` and functions as a marker for differentiable parameters."
   ]
  },
  {
   "cell_type": "code",
   "execution_count": 36,
   "metadata": {},
   "outputs": [
    {
     "data": {
      "text/plain": [
       "(#1) [Parameter containing:\n",
       "tensor([1., 1., 1.], requires_grad=True)]"
      ]
     },
     "execution_count": 36,
     "metadata": {},
     "output_type": "execute_result"
    }
   ],
   "source": [
    "class DummyLayer(Module):\n",
    "    def __init__(self): self.a = nn.Parameter(torch.ones(3))  # a parameter. \n",
    "\n",
    "L(DummyLayer().parameters())"
   ]
  },
  {
   "cell_type": "markdown",
   "metadata": {},
   "source": [
    "PyTorch modules use `nn.Parameter` for any trainable parameters automatically, hence why we haven't used `nn.Parameter` until now"
   ]
  },
  {
   "cell_type": "code",
   "execution_count": 37,
   "metadata": {},
   "outputs": [
    {
     "data": {
      "text/plain": [
       "(#1) [Parameter containing:\n",
       "tensor([[ 0.8326],\n",
       "        [ 0.4541],\n",
       "        [-0.2158]], requires_grad=True)]"
      ]
     },
     "execution_count": 37,
     "metadata": {},
     "output_type": "execute_result"
    }
   ],
   "source": [
    "class DummyLayer(Module):\n",
    "    def __init__(self): self.a = nn.Linear(1,3,bias=False)\n",
    "\n",
    "L(DummyLayer().parameters())"
   ]
  },
  {
   "cell_type": "markdown",
   "metadata": {},
   "source": [
    "So, we can create a tensor as a parameter, with random normal initialization, like so:"
   ]
  },
  {
   "cell_type": "code",
   "execution_count": 39,
   "metadata": {},
   "outputs": [],
   "source": [
    "def create_params(size):\n",
    "    return nn.Parameter(torch.zeros(*size).normal_(0, 0.01))"
   ]
  },
  {
   "cell_type": "markdown",
   "metadata": {},
   "source": [
    "Now we can just replace `Embedding` with `create_params` in `DotProductBias`."
   ]
  },
  {
   "cell_type": "code",
   "execution_count": 50,
   "metadata": {},
   "outputs": [],
   "source": [
    "class DotProductBias(Module):\n",
    "    def __init__(self, n_users, n_movies, n_factors, y_range=(0, 5.5)):\n",
    "        self.user_factors = create_params([n_users, n_factors])        \n",
    "        self.user_bias = create_params([n_users])\n",
    "        \n",
    "        self.movie_factors = create_params([n_movies, n_factors])\n",
    "        self.movie_bias = create_params([n_movies])\n",
    "        \n",
    "        self.y_range = y_range\n",
    "    \n",
    "    def forward(self, x):\n",
    "        users = self.user_factors[x[:,0]]  # for every user, get the corresponding latent factors\n",
    "        movies = self.movie_factors[x[:,1]] # for every movie, get the corresponding latent factors        \n",
    "        \n",
    "        res = (users * movies).sum(dim=1) # get rid of keepdim -- not sure why\n",
    "        res += self.user_bias[x[:,0]] + self.movie_bias[x[:,1]]\n",
    "        \n",
    "        # perform a dot product for each (user, movie). dim=0 is the mini-batch dimension.\n",
    "        return sigmoid_range(res, *self.y_range) \n",
    "                 "
   ]
  },
  {
   "cell_type": "code",
   "execution_count": 51,
   "metadata": {},
   "outputs": [
    {
     "data": {
      "text/html": [
       "<table border=\"1\" class=\"dataframe\">\n",
       "  <thead>\n",
       "    <tr style=\"text-align: left;\">\n",
       "      <th>epoch</th>\n",
       "      <th>train_loss</th>\n",
       "      <th>valid_loss</th>\n",
       "      <th>time</th>\n",
       "    </tr>\n",
       "  </thead>\n",
       "  <tbody>\n",
       "    <tr>\n",
       "      <td>0</td>\n",
       "      <td>0.950661</td>\n",
       "      <td>0.935671</td>\n",
       "      <td>00:08</td>\n",
       "    </tr>\n",
       "    <tr>\n",
       "      <td>1</td>\n",
       "      <td>0.861542</td>\n",
       "      <td>0.864648</td>\n",
       "      <td>00:08</td>\n",
       "    </tr>\n",
       "    <tr>\n",
       "      <td>2</td>\n",
       "      <td>0.726139</td>\n",
       "      <td>0.825717</td>\n",
       "      <td>00:08</td>\n",
       "    </tr>\n",
       "    <tr>\n",
       "      <td>3</td>\n",
       "      <td>0.578182</td>\n",
       "      <td>0.814955</td>\n",
       "      <td>00:08</td>\n",
       "    </tr>\n",
       "    <tr>\n",
       "      <td>4</td>\n",
       "      <td>0.476068</td>\n",
       "      <td>0.815265</td>\n",
       "      <td>00:08</td>\n",
       "    </tr>\n",
       "  </tbody>\n",
       "</table>"
      ],
      "text/plain": [
       "<IPython.core.display.HTML object>"
      ]
     },
     "metadata": {},
     "output_type": "display_data"
    }
   ],
   "source": [
    "model = DotProductBias(n_users, n_titles, 50)\n",
    "learn = Learner(dls, model, loss_func=MSELossFlat())\n",
    "learn.fit_one_cycle(5, 5e-3, wd=0.1) # with weight decay"
   ]
  },
  {
   "cell_type": "code",
   "execution_count": null,
   "metadata": {},
   "outputs": [],
   "source": []
  }
 ],
 "metadata": {
  "environment": {
   "name": "pytorch-gpu.1-4.m55",
   "type": "gcloud",
   "uri": "gcr.io/deeplearning-platform-release/pytorch-gpu.1-4:m55"
  },
  "kernelspec": {
   "display_name": "Python 3",
   "language": "python",
   "name": "python3"
  },
  "language_info": {
   "codemirror_mode": {
    "name": "ipython",
    "version": 3
   },
   "file_extension": ".py",
   "mimetype": "text/x-python",
   "name": "python",
   "nbconvert_exporter": "python",
   "pygments_lexer": "ipython3",
   "version": "3.7.8"
  }
 },
 "nbformat": 4,
 "nbformat_minor": 4
}
