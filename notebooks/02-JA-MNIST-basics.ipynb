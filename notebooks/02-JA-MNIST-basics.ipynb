{
 "cells": [
  {
   "cell_type": "markdown",
   "metadata": {},
   "source": [
    "# MNIST Basics"
   ]
  },
  {
   "cell_type": "code",
   "execution_count": 1,
   "metadata": {},
   "outputs": [],
   "source": [
    "from fastai.vision.all import *\n",
    "matplotlib.rc('image', cmap='Greys')"
   ]
  },
  {
   "cell_type": "markdown",
   "metadata": {},
   "source": [
    "Download a sample of MNIST with only the digits 3 and 7. We will try and create a binary classifier."
   ]
  },
  {
   "cell_type": "code",
   "execution_count": 2,
   "metadata": {},
   "outputs": [],
   "source": [
    "path = untar_data(URLs.MNIST_SAMPLE)"
   ]
  },
  {
   "cell_type": "markdown",
   "metadata": {},
   "source": [
    "Show path relative to `BASE_PATH`"
   ]
  },
  {
   "cell_type": "code",
   "execution_count": 3,
   "metadata": {},
   "outputs": [],
   "source": [
    "Path.BASE_PATH = path"
   ]
  },
  {
   "cell_type": "code",
   "execution_count": 4,
   "metadata": {},
   "outputs": [
    {
     "data": {
      "text/plain": [
       "Path('.')"
      ]
     },
     "execution_count": 4,
     "metadata": {},
     "output_type": "execute_result"
    }
   ],
   "source": [
    "path"
   ]
  },
  {
   "cell_type": "code",
   "execution_count": 5,
   "metadata": {},
   "outputs": [
    {
     "data": {
      "text/plain": [
       "(#3) [Path('valid'),Path('labels.csv'),Path('train')]"
      ]
     },
     "execution_count": 5,
     "metadata": {},
     "output_type": "execute_result"
    }
   ],
   "source": [
    "path.ls()"
   ]
  },
  {
   "cell_type": "code",
   "execution_count": 6,
   "metadata": {},
   "outputs": [
    {
     "data": {
      "text/plain": [
       "(#2) [Path('train/3'),Path('train/7')]"
      ]
     },
     "execution_count": 6,
     "metadata": {},
     "output_type": "execute_result"
    }
   ],
   "source": [
    "(path/'train').ls()"
   ]
  },
  {
   "cell_type": "code",
   "execution_count": 7,
   "metadata": {},
   "outputs": [],
   "source": [
    "threes = (path/'train'/'3').ls().sorted()\n",
    "sevens = (path/'train'/'7').ls().sorted()"
   ]
  },
  {
   "cell_type": "code",
   "execution_count": 8,
   "metadata": {},
   "outputs": [
    {
     "data": {
      "text/plain": [
       "(#6131) [Path('train/3/10.png'),Path('train/3/10000.png'),Path('train/3/10011.png'),Path('train/3/10031.png'),Path('train/3/10034.png'),Path('train/3/10042.png'),Path('train/3/10052.png'),Path('train/3/1007.png'),Path('train/3/10074.png'),Path('train/3/10091.png')...]"
      ]
     },
     "execution_count": 8,
     "metadata": {},
     "output_type": "execute_result"
    }
   ],
   "source": [
    "threes"
   ]
  },
  {
   "cell_type": "code",
   "execution_count": 9,
   "metadata": {},
   "outputs": [
    {
     "data": {
      "image/png": "[encoded data removed]",
      "text/plain": [
       "<PIL.PngImagePlugin.PngImageFile image mode=L size=28x28 at 0x7FA74F0F94D0>"
      ]
     },
     "execution_count": 9,
     "metadata": {},
     "output_type": "execute_result"
    }
   ],
   "source": [
    "im3 = Image.open(threes[1])\n",
    "im3"
   ]
  },
  {
   "cell_type": "code",
   "execution_count": 10,
   "metadata": {},
   "outputs": [
    {
     "data": {
      "text/plain": [
       "PIL.PngImagePlugin.PngImageFile"
      ]
     },
     "execution_count": 10,
     "metadata": {},
     "output_type": "execute_result"
    }
   ],
   "source": [
    "type(im3)"
   ]
  },
  {
   "cell_type": "markdown",
   "metadata": {},
   "source": [
    "Cast the image as a NumPy array"
   ]
  },
  {
   "cell_type": "code",
   "execution_count": 11,
   "metadata": {},
   "outputs": [
    {
     "data": {
      "text/plain": [
       "array([[  0,   0,   0,   0,   0,   0],\n",
       "       [  0,   0,   0,   0,   0,  29],\n",
       "       [  0,   0,   0,  48, 166, 224],\n",
       "       [  0,  93, 244, 249, 253, 187],\n",
       "       [  0, 107, 253, 253, 230,  48],\n",
       "       [  0,   3,  20,  20,  15,   0]], dtype=uint8)"
      ]
     },
     "execution_count": 11,
     "metadata": {},
     "output_type": "execute_result"
    }
   ],
   "source": [
    "array(im3)[4:10, 4:10]"
   ]
  },
  {
   "cell_type": "markdown",
   "metadata": {},
   "source": [
    "Cast the image as a PyTorch tensor"
   ]
  },
  {
   "cell_type": "code",
   "execution_count": 12,
   "metadata": {},
   "outputs": [
    {
     "data": {
      "text/plain": [
       "tensor([[  0,   0,   0,   0,   0,   0],\n",
       "        [  0,   0,   0,   0,   0,  29],\n",
       "        [  0,   0,   0,  48, 166, 224],\n",
       "        [  0,  93, 244, 249, 253, 187],\n",
       "        [  0, 107, 253, 253, 230,  48],\n",
       "        [  0,   3,  20,  20,  15,   0]], dtype=torch.uint8)"
      ]
     },
     "execution_count": 12,
     "metadata": {},
     "output_type": "execute_result"
    }
   ],
   "source": [
    "tensor(im3)[4:10, 4:10]"
   ]
  },
  {
   "cell_type": "code",
   "execution_count": 13,
   "metadata": {},
   "outputs": [
    {
     "data": {
      "text/html": [
       "<style  type=\"text/css\" >\n",
       "#T_5798fb36_ede0_11ea_ae6c_42010a8a0002row0_col0,#T_5798fb36_ede0_11ea_ae6c_42010a8a0002row0_col1,#T_5798fb36_ede0_11ea_ae6c_42010a8a0002row0_col2,#T_5798fb36_ede0_11ea_ae6c_42010a8a0002row0_col3,#T_5798fb36_ede0_11ea_ae6c_42010a8a0002row0_col4,#T_5798fb36_ede0_11ea_ae6c_42010a8a0002row0_col5,#T_5798fb36_ede0_11ea_ae6c_42010a8a0002row0_col6,#T_5798fb36_ede0_11ea_ae6c_42010a8a0002row0_col7,#T_5798fb36_ede0_11ea_ae6c_42010a8a0002row0_col8,#T_5798fb36_ede0_11ea_ae6c_42010a8a0002row0_col9,#T_5798fb36_ede0_11ea_ae6c_42010a8a0002row0_col10,#T_5798fb36_ede0_11ea_ae6c_42010a8a0002row0_col11,#T_5798fb36_ede0_11ea_ae6c_42010a8a0002row0_col12,#T_5798fb36_ede0_11ea_ae6c_42010a8a0002row0_col13,#T_5798fb36_ede0_11ea_ae6c_42010a8a0002row0_col14,#T_5798fb36_ede0_11ea_ae6c_42010a8a0002row0_col15,#T_5798fb36_ede0_11ea_ae6c_42010a8a0002row0_col16,#T_5798fb36_ede0_11ea_ae6c_42010a8a0002row0_col17,#T_5798fb36_ede0_11ea_ae6c_42010a8a0002row1_col0,#T_5798fb36_ede0_11ea_ae6c_42010a8a0002row1_col1,#T_5798fb36_ede0_11ea_ae6c_42010a8a0002row1_col2,#T_5798fb36_ede0_11ea_ae6c_42010a8a0002row1_col3,#T_5798fb36_ede0_11ea_ae6c_42010a8a0002row1_col4,#T_5798fb36_ede0_11ea_ae6c_42010a8a0002row1_col15,#T_5798fb36_ede0_11ea_ae6c_42010a8a0002row1_col16,#T_5798fb36_ede0_11ea_ae6c_42010a8a0002row1_col17,#T_5798fb36_ede0_11ea_ae6c_42010a8a0002row2_col0,#T_5798fb36_ede0_11ea_ae6c_42010a8a0002row2_col1,#T_5798fb36_ede0_11ea_ae6c_42010a8a0002row2_col2,#T_5798fb36_ede0_11ea_ae6c_42010a8a0002row2_col15,#T_5798fb36_ede0_11ea_ae6c_42010a8a0002row2_col16,#T_5798fb36_ede0_11ea_ae6c_42010a8a0002row2_col17,#T_5798fb36_ede0_11ea_ae6c_42010a8a0002row3_col0,#T_5798fb36_ede0_11ea_ae6c_42010a8a0002row3_col15,#T_5798fb36_ede0_11ea_ae6c_42010a8a0002row3_col16,#T_5798fb36_ede0_11ea_ae6c_42010a8a0002row3_col17,#T_5798fb36_ede0_11ea_ae6c_42010a8a0002row4_col0,#T_5798fb36_ede0_11ea_ae6c_42010a8a0002row4_col6,#T_5798fb36_ede0_11ea_ae6c_42010a8a0002row4_col7,#T_5798fb36_ede0_11ea_ae6c_42010a8a0002row4_col8,#T_5798fb36_ede0_11ea_ae6c_42010a8a0002row4_col9,#T_5798fb36_ede0_11ea_ae6c_42010a8a0002row4_col10,#T_5798fb36_ede0_11ea_ae6c_42010a8a0002row4_col15,#T_5798fb36_ede0_11ea_ae6c_42010a8a0002row4_col16,#T_5798fb36_ede0_11ea_ae6c_42010a8a0002row4_col17,#T_5798fb36_ede0_11ea_ae6c_42010a8a0002row5_col0,#T_5798fb36_ede0_11ea_ae6c_42010a8a0002row5_col5,#T_5798fb36_ede0_11ea_ae6c_42010a8a0002row5_col6,#T_5798fb36_ede0_11ea_ae6c_42010a8a0002row5_col7,#T_5798fb36_ede0_11ea_ae6c_42010a8a0002row5_col8,#T_5798fb36_ede0_11ea_ae6c_42010a8a0002row5_col9,#T_5798fb36_ede0_11ea_ae6c_42010a8a0002row5_col15,#T_5798fb36_ede0_11ea_ae6c_42010a8a0002row5_col16,#T_5798fb36_ede0_11ea_ae6c_42010a8a0002row5_col17,#T_5798fb36_ede0_11ea_ae6c_42010a8a0002row6_col0,#T_5798fb36_ede0_11ea_ae6c_42010a8a0002row6_col1,#T_5798fb36_ede0_11ea_ae6c_42010a8a0002row6_col2,#T_5798fb36_ede0_11ea_ae6c_42010a8a0002row6_col3,#T_5798fb36_ede0_11ea_ae6c_42010a8a0002row6_col4,#T_5798fb36_ede0_11ea_ae6c_42010a8a0002row6_col5,#T_5798fb36_ede0_11ea_ae6c_42010a8a0002row6_col6,#T_5798fb36_ede0_11ea_ae6c_42010a8a0002row6_col7,#T_5798fb36_ede0_11ea_ae6c_42010a8a0002row6_col8,#T_5798fb36_ede0_11ea_ae6c_42010a8a0002row6_col9,#T_5798fb36_ede0_11ea_ae6c_42010a8a0002row6_col14,#T_5798fb36_ede0_11ea_ae6c_42010a8a0002row6_col15,#T_5798fb36_ede0_11ea_ae6c_42010a8a0002row6_col16,#T_5798fb36_ede0_11ea_ae6c_42010a8a0002row6_col17,#T_5798fb36_ede0_11ea_ae6c_42010a8a0002row7_col0,#T_5798fb36_ede0_11ea_ae6c_42010a8a0002row7_col1,#T_5798fb36_ede0_11ea_ae6c_42010a8a0002row7_col2,#T_5798fb36_ede0_11ea_ae6c_42010a8a0002row7_col3,#T_5798fb36_ede0_11ea_ae6c_42010a8a0002row7_col4,#T_5798fb36_ede0_11ea_ae6c_42010a8a0002row7_col5,#T_5798fb36_ede0_11ea_ae6c_42010a8a0002row7_col6,#T_5798fb36_ede0_11ea_ae6c_42010a8a0002row7_col13,#T_5798fb36_ede0_11ea_ae6c_42010a8a0002row7_col14,#T_5798fb36_ede0_11ea_ae6c_42010a8a0002row7_col15,#T_5798fb36_ede0_11ea_ae6c_42010a8a0002row7_col16,#T_5798fb36_ede0_11ea_ae6c_42010a8a0002row7_col17,#T_5798fb36_ede0_11ea_ae6c_42010a8a0002row8_col0,#T_5798fb36_ede0_11ea_ae6c_42010a8a0002row8_col1,#T_5798fb36_ede0_11ea_ae6c_42010a8a0002row8_col2,#T_5798fb36_ede0_11ea_ae6c_42010a8a0002row8_col3,#T_5798fb36_ede0_11ea_ae6c_42010a8a0002row8_col4,#T_5798fb36_ede0_11ea_ae6c_42010a8a0002row8_col13,#T_5798fb36_ede0_11ea_ae6c_42010a8a0002row8_col14,#T_5798fb36_ede0_11ea_ae6c_42010a8a0002row8_col15,#T_5798fb36_ede0_11ea_ae6c_42010a8a0002row8_col16,#T_5798fb36_ede0_11ea_ae6c_42010a8a0002row8_col17,#T_5798fb36_ede0_11ea_ae6c_42010a8a0002row9_col0,#T_5798fb36_ede0_11ea_ae6c_42010a8a0002row9_col1,#T_5798fb36_ede0_11ea_ae6c_42010a8a0002row9_col2,#T_5798fb36_ede0_11ea_ae6c_42010a8a0002row9_col3,#T_5798fb36_ede0_11ea_ae6c_42010a8a0002row9_col4,#T_5798fb36_ede0_11ea_ae6c_42010a8a0002row9_col16,#T_5798fb36_ede0_11ea_ae6c_42010a8a0002row9_col17,#T_5798fb36_ede0_11ea_ae6c_42010a8a0002row10_col0,#T_5798fb36_ede0_11ea_ae6c_42010a8a0002row10_col1,#T_5798fb36_ede0_11ea_ae6c_42010a8a0002row10_col2,#T_5798fb36_ede0_11ea_ae6c_42010a8a0002row10_col3,#T_5798fb36_ede0_11ea_ae6c_42010a8a0002row10_col4,#T_5798fb36_ede0_11ea_ae6c_42010a8a0002row10_col5,#T_5798fb36_ede0_11ea_ae6c_42010a8a0002row10_col6,#T_5798fb36_ede0_11ea_ae6c_42010a8a0002row10_col17{\n",
       "            font-size:  6pt;\n",
       "            background-color:  #ffffff;\n",
       "            color:  #000000;\n",
       "        }#T_5798fb36_ede0_11ea_ae6c_42010a8a0002row1_col5{\n",
       "            font-size:  6pt;\n",
       "            background-color:  #efefef;\n",
       "            color:  #000000;\n",
       "        }#T_5798fb36_ede0_11ea_ae6c_42010a8a0002row1_col6,#T_5798fb36_ede0_11ea_ae6c_42010a8a0002row1_col13{\n",
       "            font-size:  6pt;\n",
       "            background-color:  #7c7c7c;\n",
       "            color:  #000000;\n",
       "        }#T_5798fb36_ede0_11ea_ae6c_42010a8a0002row1_col7{\n",
       "            font-size:  6pt;\n",
       "            background-color:  #4a4a4a;\n",
       "            color:  #f1f1f1;\n",
       "        }#T_5798fb36_ede0_11ea_ae6c_42010a8a0002row1_col8,#T_5798fb36_ede0_11ea_ae6c_42010a8a0002row1_col9,#T_5798fb36_ede0_11ea_ae6c_42010a8a0002row1_col10,#T_5798fb36_ede0_11ea_ae6c_42010a8a0002row2_col5,#T_5798fb36_ede0_11ea_ae6c_42010a8a0002row2_col6,#T_5798fb36_ede0_11ea_ae6c_42010a8a0002row2_col7,#T_5798fb36_ede0_11ea_ae6c_42010a8a0002row2_col11,#T_5798fb36_ede0_11ea_ae6c_42010a8a0002row2_col12,#T_5798fb36_ede0_11ea_ae6c_42010a8a0002row2_col13,#T_5798fb36_ede0_11ea_ae6c_42010a8a0002row3_col4,#T_5798fb36_ede0_11ea_ae6c_42010a8a0002row3_col12,#T_5798fb36_ede0_11ea_ae6c_42010a8a0002row3_col13,#T_5798fb36_ede0_11ea_ae6c_42010a8a0002row4_col1,#T_5798fb36_ede0_11ea_ae6c_42010a8a0002row4_col2,#T_5798fb36_ede0_11ea_ae6c_42010a8a0002row4_col3,#T_5798fb36_ede0_11ea_ae6c_42010a8a0002row4_col12,#T_5798fb36_ede0_11ea_ae6c_42010a8a0002row4_col13,#T_5798fb36_ede0_11ea_ae6c_42010a8a0002row5_col12,#T_5798fb36_ede0_11ea_ae6c_42010a8a0002row6_col11,#T_5798fb36_ede0_11ea_ae6c_42010a8a0002row9_col11,#T_5798fb36_ede0_11ea_ae6c_42010a8a0002row10_col11,#T_5798fb36_ede0_11ea_ae6c_42010a8a0002row10_col12,#T_5798fb36_ede0_11ea_ae6c_42010a8a0002row10_col13,#T_5798fb36_ede0_11ea_ae6c_42010a8a0002row10_col14,#T_5798fb36_ede0_11ea_ae6c_42010a8a0002row10_col15,#T_5798fb36_ede0_11ea_ae6c_42010a8a0002row10_col16{\n",
       "            font-size:  6pt;\n",
       "            background-color:  #000000;\n",
       "            color:  #f1f1f1;\n",
       "        }#T_5798fb36_ede0_11ea_ae6c_42010a8a0002row1_col11{\n",
       "            font-size:  6pt;\n",
       "            background-color:  #606060;\n",
       "            color:  #f1f1f1;\n",
       "        }#T_5798fb36_ede0_11ea_ae6c_42010a8a0002row1_col12{\n",
       "            font-size:  6pt;\n",
       "            background-color:  #4d4d4d;\n",
       "            color:  #f1f1f1;\n",
       "        }#T_5798fb36_ede0_11ea_ae6c_42010a8a0002row1_col14{\n",
       "            font-size:  6pt;\n",
       "            background-color:  #bbbbbb;\n",
       "            color:  #000000;\n",
       "        }#T_5798fb36_ede0_11ea_ae6c_42010a8a0002row2_col3{\n",
       "            font-size:  6pt;\n",
       "            background-color:  #e4e4e4;\n",
       "            color:  #000000;\n",
       "        }#T_5798fb36_ede0_11ea_ae6c_42010a8a0002row2_col4,#T_5798fb36_ede0_11ea_ae6c_42010a8a0002row8_col6{\n",
       "            font-size:  6pt;\n",
       "            background-color:  #6b6b6b;\n",
       "            color:  #000000;\n",
       "        }#T_5798fb36_ede0_11ea_ae6c_42010a8a0002row2_col8,#T_5798fb36_ede0_11ea_ae6c_42010a8a0002row2_col14,#T_5798fb36_ede0_11ea_ae6c_42010a8a0002row3_col14{\n",
       "            font-size:  6pt;\n",
       "            background-color:  #171717;\n",
       "            color:  #f1f1f1;\n",
       "        }#T_5798fb36_ede0_11ea_ae6c_42010a8a0002row2_col9,#T_5798fb36_ede0_11ea_ae6c_42010a8a0002row3_col11{\n",
       "            font-size:  6pt;\n",
       "            background-color:  #4b4b4b;\n",
       "            color:  #f1f1f1;\n",
       "        }#T_5798fb36_ede0_11ea_ae6c_42010a8a0002row2_col10,#T_5798fb36_ede0_11ea_ae6c_42010a8a0002row7_col10,#T_5798fb36_ede0_11ea_ae6c_42010a8a0002row8_col8,#T_5798fb36_ede0_11ea_ae6c_42010a8a0002row8_col10,#T_5798fb36_ede0_11ea_ae6c_42010a8a0002row9_col8,#T_5798fb36_ede0_11ea_ae6c_42010a8a0002row9_col10{\n",
       "            font-size:  6pt;\n",
       "            background-color:  #010101;\n",
       "            color:  #f1f1f1;\n",
       "        }#T_5798fb36_ede0_11ea_ae6c_42010a8a0002row3_col1{\n",
       "            font-size:  6pt;\n",
       "            background-color:  #272727;\n",
       "            color:  #f1f1f1;\n",
       "        }#T_5798fb36_ede0_11ea_ae6c_42010a8a0002row3_col2{\n",
       "            font-size:  6pt;\n",
       "            background-color:  #0a0a0a;\n",
       "            color:  #f1f1f1;\n",
       "        }#T_5798fb36_ede0_11ea_ae6c_42010a8a0002row3_col3{\n",
       "            font-size:  6pt;\n",
       "            background-color:  #050505;\n",
       "            color:  #f1f1f1;\n",
       "        }#T_5798fb36_ede0_11ea_ae6c_42010a8a0002row3_col5{\n",
       "            font-size:  6pt;\n",
       "            background-color:  #333333;\n",
       "            color:  #f1f1f1;\n",
       "        }#T_5798fb36_ede0_11ea_ae6c_42010a8a0002row3_col6{\n",
       "            font-size:  6pt;\n",
       "            background-color:  #e6e6e6;\n",
       "            color:  #000000;\n",
       "        }#T_5798fb36_ede0_11ea_ae6c_42010a8a0002row3_col7,#T_5798fb36_ede0_11ea_ae6c_42010a8a0002row3_col10{\n",
       "            font-size:  6pt;\n",
       "            background-color:  #fafafa;\n",
       "            color:  #000000;\n",
       "        }#T_5798fb36_ede0_11ea_ae6c_42010a8a0002row3_col8{\n",
       "            font-size:  6pt;\n",
       "            background-color:  #fbfbfb;\n",
       "            color:  #000000;\n",
       "        }#T_5798fb36_ede0_11ea_ae6c_42010a8a0002row3_col9{\n",
       "            font-size:  6pt;\n",
       "            background-color:  #fdfdfd;\n",
       "            color:  #000000;\n",
       "        }#T_5798fb36_ede0_11ea_ae6c_42010a8a0002row4_col4{\n",
       "            font-size:  6pt;\n",
       "            background-color:  #1b1b1b;\n",
       "            color:  #f1f1f1;\n",
       "        }#T_5798fb36_ede0_11ea_ae6c_42010a8a0002row4_col5{\n",
       "            font-size:  6pt;\n",
       "            background-color:  #e0e0e0;\n",
       "            color:  #000000;\n",
       "        }#T_5798fb36_ede0_11ea_ae6c_42010a8a0002row4_col11{\n",
       "            font-size:  6pt;\n",
       "            background-color:  #4e4e4e;\n",
       "            color:  #f1f1f1;\n",
       "        }#T_5798fb36_ede0_11ea_ae6c_42010a8a0002row4_col14{\n",
       "            font-size:  6pt;\n",
       "            background-color:  #767676;\n",
       "            color:  #000000;\n",
       "        }#T_5798fb36_ede0_11ea_ae6c_42010a8a0002row5_col1{\n",
       "            font-size:  6pt;\n",
       "            background-color:  #fcfcfc;\n",
       "            color:  #000000;\n",
       "        }#T_5798fb36_ede0_11ea_ae6c_42010a8a0002row5_col2,#T_5798fb36_ede0_11ea_ae6c_42010a8a0002row5_col3{\n",
       "            font-size:  6pt;\n",
       "            background-color:  #f6f6f6;\n",
       "            color:  #000000;\n",
       "        }#T_5798fb36_ede0_11ea_ae6c_42010a8a0002row5_col4,#T_5798fb36_ede0_11ea_ae6c_42010a8a0002row7_col7{\n",
       "            font-size:  6pt;\n",
       "            background-color:  #f8f8f8;\n",
       "            color:  #000000;\n",
       "        }#T_5798fb36_ede0_11ea_ae6c_42010a8a0002row5_col10,#T_5798fb36_ede0_11ea_ae6c_42010a8a0002row10_col7{\n",
       "            font-size:  6pt;\n",
       "            background-color:  #e8e8e8;\n",
       "            color:  #000000;\n",
       "        }#T_5798fb36_ede0_11ea_ae6c_42010a8a0002row5_col11{\n",
       "            font-size:  6pt;\n",
       "            background-color:  #222222;\n",
       "            color:  #f1f1f1;\n",
       "        }#T_5798fb36_ede0_11ea_ae6c_42010a8a0002row5_col13,#T_5798fb36_ede0_11ea_ae6c_42010a8a0002row6_col12{\n",
       "            font-size:  6pt;\n",
       "            background-color:  #090909;\n",
       "            color:  #f1f1f1;\n",
       "        }#T_5798fb36_ede0_11ea_ae6c_42010a8a0002row5_col14{\n",
       "            font-size:  6pt;\n",
       "            background-color:  #d0d0d0;\n",
       "            color:  #000000;\n",
       "        }#T_5798fb36_ede0_11ea_ae6c_42010a8a0002row6_col10,#T_5798fb36_ede0_11ea_ae6c_42010a8a0002row7_col11,#T_5798fb36_ede0_11ea_ae6c_42010a8a0002row9_col6{\n",
       "            font-size:  6pt;\n",
       "            background-color:  #060606;\n",
       "            color:  #f1f1f1;\n",
       "        }#T_5798fb36_ede0_11ea_ae6c_42010a8a0002row6_col13{\n",
       "            font-size:  6pt;\n",
       "            background-color:  #979797;\n",
       "            color:  #000000;\n",
       "        }#T_5798fb36_ede0_11ea_ae6c_42010a8a0002row7_col8{\n",
       "            font-size:  6pt;\n",
       "            background-color:  #b6b6b6;\n",
       "            color:  #000000;\n",
       "        }#T_5798fb36_ede0_11ea_ae6c_42010a8a0002row7_col9{\n",
       "            font-size:  6pt;\n",
       "            background-color:  #252525;\n",
       "            color:  #f1f1f1;\n",
       "        }#T_5798fb36_ede0_11ea_ae6c_42010a8a0002row7_col12{\n",
       "            font-size:  6pt;\n",
       "            background-color:  #999999;\n",
       "            color:  #000000;\n",
       "        }#T_5798fb36_ede0_11ea_ae6c_42010a8a0002row8_col5{\n",
       "            font-size:  6pt;\n",
       "            background-color:  #f9f9f9;\n",
       "            color:  #000000;\n",
       "        }#T_5798fb36_ede0_11ea_ae6c_42010a8a0002row8_col7{\n",
       "            font-size:  6pt;\n",
       "            background-color:  #101010;\n",
       "            color:  #f1f1f1;\n",
       "        }#T_5798fb36_ede0_11ea_ae6c_42010a8a0002row8_col9,#T_5798fb36_ede0_11ea_ae6c_42010a8a0002row9_col9{\n",
       "            font-size:  6pt;\n",
       "            background-color:  #020202;\n",
       "            color:  #f1f1f1;\n",
       "        }#T_5798fb36_ede0_11ea_ae6c_42010a8a0002row8_col11{\n",
       "            font-size:  6pt;\n",
       "            background-color:  #545454;\n",
       "            color:  #f1f1f1;\n",
       "        }#T_5798fb36_ede0_11ea_ae6c_42010a8a0002row8_col12{\n",
       "            font-size:  6pt;\n",
       "            background-color:  #f1f1f1;\n",
       "            color:  #000000;\n",
       "        }#T_5798fb36_ede0_11ea_ae6c_42010a8a0002row9_col5{\n",
       "            font-size:  6pt;\n",
       "            background-color:  #f7f7f7;\n",
       "            color:  #000000;\n",
       "        }#T_5798fb36_ede0_11ea_ae6c_42010a8a0002row9_col7{\n",
       "            font-size:  6pt;\n",
       "            background-color:  #030303;\n",
       "            color:  #f1f1f1;\n",
       "        }#T_5798fb36_ede0_11ea_ae6c_42010a8a0002row9_col12{\n",
       "            font-size:  6pt;\n",
       "            background-color:  #181818;\n",
       "            color:  #f1f1f1;\n",
       "        }#T_5798fb36_ede0_11ea_ae6c_42010a8a0002row9_col13{\n",
       "            font-size:  6pt;\n",
       "            background-color:  #303030;\n",
       "            color:  #f1f1f1;\n",
       "        }#T_5798fb36_ede0_11ea_ae6c_42010a8a0002row9_col14{\n",
       "            font-size:  6pt;\n",
       "            background-color:  #a9a9a9;\n",
       "            color:  #000000;\n",
       "        }#T_5798fb36_ede0_11ea_ae6c_42010a8a0002row9_col15{\n",
       "            font-size:  6pt;\n",
       "            background-color:  #fefefe;\n",
       "            color:  #000000;\n",
       "        }#T_5798fb36_ede0_11ea_ae6c_42010a8a0002row10_col8,#T_5798fb36_ede0_11ea_ae6c_42010a8a0002row10_col9{\n",
       "            font-size:  6pt;\n",
       "            background-color:  #bababa;\n",
       "            color:  #000000;\n",
       "        }#T_5798fb36_ede0_11ea_ae6c_42010a8a0002row10_col10{\n",
       "            font-size:  6pt;\n",
       "            background-color:  #393939;\n",
       "            color:  #f1f1f1;\n",
       "        }</style><table id=\"T_5798fb36_ede0_11ea_ae6c_42010a8a0002\" ><thead>    <tr>        <th class=\"blank level0\" ></th>        <th class=\"col_heading level0 col0\" >0</th>        <th class=\"col_heading level0 col1\" >1</th>        <th class=\"col_heading level0 col2\" >2</th>        <th class=\"col_heading level0 col3\" >3</th>        <th class=\"col_heading level0 col4\" >4</th>        <th class=\"col_heading level0 col5\" >5</th>        <th class=\"col_heading level0 col6\" >6</th>        <th class=\"col_heading level0 col7\" >7</th>        <th class=\"col_heading level0 col8\" >8</th>        <th class=\"col_heading level0 col9\" >9</th>        <th class=\"col_heading level0 col10\" >10</th>        <th class=\"col_heading level0 col11\" >11</th>        <th class=\"col_heading level0 col12\" >12</th>        <th class=\"col_heading level0 col13\" >13</th>        <th class=\"col_heading level0 col14\" >14</th>        <th class=\"col_heading level0 col15\" >15</th>        <th class=\"col_heading level0 col16\" >16</th>        <th class=\"col_heading level0 col17\" >17</th>    </tr></thead><tbody>\n",
       "                <tr>\n",
       "                        <th id=\"T_5798fb36_ede0_11ea_ae6c_42010a8a0002level0_row0\" class=\"row_heading level0 row0\" >0</th>\n",
       "                        <td id=\"T_5798fb36_ede0_11ea_ae6c_42010a8a0002row0_col0\" class=\"data row0 col0\" >0</td>\n",
       "                        <td id=\"T_5798fb36_ede0_11ea_ae6c_42010a8a0002row0_col1\" class=\"data row0 col1\" >0</td>\n",
       "                        <td id=\"T_5798fb36_ede0_11ea_ae6c_42010a8a0002row0_col2\" class=\"data row0 col2\" >0</td>\n",
       "                        <td id=\"T_5798fb36_ede0_11ea_ae6c_42010a8a0002row0_col3\" class=\"data row0 col3\" >0</td>\n",
       "                        <td id=\"T_5798fb36_ede0_11ea_ae6c_42010a8a0002row0_col4\" class=\"data row0 col4\" >0</td>\n",
       "                        <td id=\"T_5798fb36_ede0_11ea_ae6c_42010a8a0002row0_col5\" class=\"data row0 col5\" >0</td>\n",
       "                        <td id=\"T_5798fb36_ede0_11ea_ae6c_42010a8a0002row0_col6\" class=\"data row0 col6\" >0</td>\n",
       "                        <td id=\"T_5798fb36_ede0_11ea_ae6c_42010a8a0002row0_col7\" class=\"data row0 col7\" >0</td>\n",
       "                        <td id=\"T_5798fb36_ede0_11ea_ae6c_42010a8a0002row0_col8\" class=\"data row0 col8\" >0</td>\n",
       "                        <td id=\"T_5798fb36_ede0_11ea_ae6c_42010a8a0002row0_col9\" class=\"data row0 col9\" >0</td>\n",
       "                        <td id=\"T_5798fb36_ede0_11ea_ae6c_42010a8a0002row0_col10\" class=\"data row0 col10\" >0</td>\n",
       "                        <td id=\"T_5798fb36_ede0_11ea_ae6c_42010a8a0002row0_col11\" class=\"data row0 col11\" >0</td>\n",
       "                        <td id=\"T_5798fb36_ede0_11ea_ae6c_42010a8a0002row0_col12\" class=\"data row0 col12\" >0</td>\n",
       "                        <td id=\"T_5798fb36_ede0_11ea_ae6c_42010a8a0002row0_col13\" class=\"data row0 col13\" >0</td>\n",
       "                        <td id=\"T_5798fb36_ede0_11ea_ae6c_42010a8a0002row0_col14\" class=\"data row0 col14\" >0</td>\n",
       "                        <td id=\"T_5798fb36_ede0_11ea_ae6c_42010a8a0002row0_col15\" class=\"data row0 col15\" >0</td>\n",
       "                        <td id=\"T_5798fb36_ede0_11ea_ae6c_42010a8a0002row0_col16\" class=\"data row0 col16\" >0</td>\n",
       "                        <td id=\"T_5798fb36_ede0_11ea_ae6c_42010a8a0002row0_col17\" class=\"data row0 col17\" >0</td>\n",
       "            </tr>\n",
       "            <tr>\n",
       "                        <th id=\"T_5798fb36_ede0_11ea_ae6c_42010a8a0002level0_row1\" class=\"row_heading level0 row1\" >1</th>\n",
       "                        <td id=\"T_5798fb36_ede0_11ea_ae6c_42010a8a0002row1_col0\" class=\"data row1 col0\" >0</td>\n",
       "                        <td id=\"T_5798fb36_ede0_11ea_ae6c_42010a8a0002row1_col1\" class=\"data row1 col1\" >0</td>\n",
       "                        <td id=\"T_5798fb36_ede0_11ea_ae6c_42010a8a0002row1_col2\" class=\"data row1 col2\" >0</td>\n",
       "                        <td id=\"T_5798fb36_ede0_11ea_ae6c_42010a8a0002row1_col3\" class=\"data row1 col3\" >0</td>\n",
       "                        <td id=\"T_5798fb36_ede0_11ea_ae6c_42010a8a0002row1_col4\" class=\"data row1 col4\" >0</td>\n",
       "                        <td id=\"T_5798fb36_ede0_11ea_ae6c_42010a8a0002row1_col5\" class=\"data row1 col5\" >29</td>\n",
       "                        <td id=\"T_5798fb36_ede0_11ea_ae6c_42010a8a0002row1_col6\" class=\"data row1 col6\" >150</td>\n",
       "                        <td id=\"T_5798fb36_ede0_11ea_ae6c_42010a8a0002row1_col7\" class=\"data row1 col7\" >195</td>\n",
       "                        <td id=\"T_5798fb36_ede0_11ea_ae6c_42010a8a0002row1_col8\" class=\"data row1 col8\" >254</td>\n",
       "                        <td id=\"T_5798fb36_ede0_11ea_ae6c_42010a8a0002row1_col9\" class=\"data row1 col9\" >255</td>\n",
       "                        <td id=\"T_5798fb36_ede0_11ea_ae6c_42010a8a0002row1_col10\" class=\"data row1 col10\" >254</td>\n",
       "                        <td id=\"T_5798fb36_ede0_11ea_ae6c_42010a8a0002row1_col11\" class=\"data row1 col11\" >176</td>\n",
       "                        <td id=\"T_5798fb36_ede0_11ea_ae6c_42010a8a0002row1_col12\" class=\"data row1 col12\" >193</td>\n",
       "                        <td id=\"T_5798fb36_ede0_11ea_ae6c_42010a8a0002row1_col13\" class=\"data row1 col13\" >150</td>\n",
       "                        <td id=\"T_5798fb36_ede0_11ea_ae6c_42010a8a0002row1_col14\" class=\"data row1 col14\" >96</td>\n",
       "                        <td id=\"T_5798fb36_ede0_11ea_ae6c_42010a8a0002row1_col15\" class=\"data row1 col15\" >0</td>\n",
       "                        <td id=\"T_5798fb36_ede0_11ea_ae6c_42010a8a0002row1_col16\" class=\"data row1 col16\" >0</td>\n",
       "                        <td id=\"T_5798fb36_ede0_11ea_ae6c_42010a8a0002row1_col17\" class=\"data row1 col17\" >0</td>\n",
       "            </tr>\n",
       "            <tr>\n",
       "                        <th id=\"T_5798fb36_ede0_11ea_ae6c_42010a8a0002level0_row2\" class=\"row_heading level0 row2\" >2</th>\n",
       "                        <td id=\"T_5798fb36_ede0_11ea_ae6c_42010a8a0002row2_col0\" class=\"data row2 col0\" >0</td>\n",
       "                        <td id=\"T_5798fb36_ede0_11ea_ae6c_42010a8a0002row2_col1\" class=\"data row2 col1\" >0</td>\n",
       "                        <td id=\"T_5798fb36_ede0_11ea_ae6c_42010a8a0002row2_col2\" class=\"data row2 col2\" >0</td>\n",
       "                        <td id=\"T_5798fb36_ede0_11ea_ae6c_42010a8a0002row2_col3\" class=\"data row2 col3\" >48</td>\n",
       "                        <td id=\"T_5798fb36_ede0_11ea_ae6c_42010a8a0002row2_col4\" class=\"data row2 col4\" >166</td>\n",
       "                        <td id=\"T_5798fb36_ede0_11ea_ae6c_42010a8a0002row2_col5\" class=\"data row2 col5\" >224</td>\n",
       "                        <td id=\"T_5798fb36_ede0_11ea_ae6c_42010a8a0002row2_col6\" class=\"data row2 col6\" >253</td>\n",
       "                        <td id=\"T_5798fb36_ede0_11ea_ae6c_42010a8a0002row2_col7\" class=\"data row2 col7\" >253</td>\n",
       "                        <td id=\"T_5798fb36_ede0_11ea_ae6c_42010a8a0002row2_col8\" class=\"data row2 col8\" >234</td>\n",
       "                        <td id=\"T_5798fb36_ede0_11ea_ae6c_42010a8a0002row2_col9\" class=\"data row2 col9\" >196</td>\n",
       "                        <td id=\"T_5798fb36_ede0_11ea_ae6c_42010a8a0002row2_col10\" class=\"data row2 col10\" >253</td>\n",
       "                        <td id=\"T_5798fb36_ede0_11ea_ae6c_42010a8a0002row2_col11\" class=\"data row2 col11\" >253</td>\n",
       "                        <td id=\"T_5798fb36_ede0_11ea_ae6c_42010a8a0002row2_col12\" class=\"data row2 col12\" >253</td>\n",
       "                        <td id=\"T_5798fb36_ede0_11ea_ae6c_42010a8a0002row2_col13\" class=\"data row2 col13\" >253</td>\n",
       "                        <td id=\"T_5798fb36_ede0_11ea_ae6c_42010a8a0002row2_col14\" class=\"data row2 col14\" >233</td>\n",
       "                        <td id=\"T_5798fb36_ede0_11ea_ae6c_42010a8a0002row2_col15\" class=\"data row2 col15\" >0</td>\n",
       "                        <td id=\"T_5798fb36_ede0_11ea_ae6c_42010a8a0002row2_col16\" class=\"data row2 col16\" >0</td>\n",
       "                        <td id=\"T_5798fb36_ede0_11ea_ae6c_42010a8a0002row2_col17\" class=\"data row2 col17\" >0</td>\n",
       "            </tr>\n",
       "            <tr>\n",
       "                        <th id=\"T_5798fb36_ede0_11ea_ae6c_42010a8a0002level0_row3\" class=\"row_heading level0 row3\" >3</th>\n",
       "                        <td id=\"T_5798fb36_ede0_11ea_ae6c_42010a8a0002row3_col0\" class=\"data row3 col0\" >0</td>\n",
       "                        <td id=\"T_5798fb36_ede0_11ea_ae6c_42010a8a0002row3_col1\" class=\"data row3 col1\" >93</td>\n",
       "                        <td id=\"T_5798fb36_ede0_11ea_ae6c_42010a8a0002row3_col2\" class=\"data row3 col2\" >244</td>\n",
       "                        <td id=\"T_5798fb36_ede0_11ea_ae6c_42010a8a0002row3_col3\" class=\"data row3 col3\" >249</td>\n",
       "                        <td id=\"T_5798fb36_ede0_11ea_ae6c_42010a8a0002row3_col4\" class=\"data row3 col4\" >253</td>\n",
       "                        <td id=\"T_5798fb36_ede0_11ea_ae6c_42010a8a0002row3_col5\" class=\"data row3 col5\" >187</td>\n",
       "                        <td id=\"T_5798fb36_ede0_11ea_ae6c_42010a8a0002row3_col6\" class=\"data row3 col6\" >46</td>\n",
       "                        <td id=\"T_5798fb36_ede0_11ea_ae6c_42010a8a0002row3_col7\" class=\"data row3 col7\" >10</td>\n",
       "                        <td id=\"T_5798fb36_ede0_11ea_ae6c_42010a8a0002row3_col8\" class=\"data row3 col8\" >8</td>\n",
       "                        <td id=\"T_5798fb36_ede0_11ea_ae6c_42010a8a0002row3_col9\" class=\"data row3 col9\" >4</td>\n",
       "                        <td id=\"T_5798fb36_ede0_11ea_ae6c_42010a8a0002row3_col10\" class=\"data row3 col10\" >10</td>\n",
       "                        <td id=\"T_5798fb36_ede0_11ea_ae6c_42010a8a0002row3_col11\" class=\"data row3 col11\" >194</td>\n",
       "                        <td id=\"T_5798fb36_ede0_11ea_ae6c_42010a8a0002row3_col12\" class=\"data row3 col12\" >253</td>\n",
       "                        <td id=\"T_5798fb36_ede0_11ea_ae6c_42010a8a0002row3_col13\" class=\"data row3 col13\" >253</td>\n",
       "                        <td id=\"T_5798fb36_ede0_11ea_ae6c_42010a8a0002row3_col14\" class=\"data row3 col14\" >233</td>\n",
       "                        <td id=\"T_5798fb36_ede0_11ea_ae6c_42010a8a0002row3_col15\" class=\"data row3 col15\" >0</td>\n",
       "                        <td id=\"T_5798fb36_ede0_11ea_ae6c_42010a8a0002row3_col16\" class=\"data row3 col16\" >0</td>\n",
       "                        <td id=\"T_5798fb36_ede0_11ea_ae6c_42010a8a0002row3_col17\" class=\"data row3 col17\" >0</td>\n",
       "            </tr>\n",
       "            <tr>\n",
       "                        <th id=\"T_5798fb36_ede0_11ea_ae6c_42010a8a0002level0_row4\" class=\"row_heading level0 row4\" >4</th>\n",
       "                        <td id=\"T_5798fb36_ede0_11ea_ae6c_42010a8a0002row4_col0\" class=\"data row4 col0\" >0</td>\n",
       "                        <td id=\"T_5798fb36_ede0_11ea_ae6c_42010a8a0002row4_col1\" class=\"data row4 col1\" >107</td>\n",
       "                        <td id=\"T_5798fb36_ede0_11ea_ae6c_42010a8a0002row4_col2\" class=\"data row4 col2\" >253</td>\n",
       "                        <td id=\"T_5798fb36_ede0_11ea_ae6c_42010a8a0002row4_col3\" class=\"data row4 col3\" >253</td>\n",
       "                        <td id=\"T_5798fb36_ede0_11ea_ae6c_42010a8a0002row4_col4\" class=\"data row4 col4\" >230</td>\n",
       "                        <td id=\"T_5798fb36_ede0_11ea_ae6c_42010a8a0002row4_col5\" class=\"data row4 col5\" >48</td>\n",
       "                        <td id=\"T_5798fb36_ede0_11ea_ae6c_42010a8a0002row4_col6\" class=\"data row4 col6\" >0</td>\n",
       "                        <td id=\"T_5798fb36_ede0_11ea_ae6c_42010a8a0002row4_col7\" class=\"data row4 col7\" >0</td>\n",
       "                        <td id=\"T_5798fb36_ede0_11ea_ae6c_42010a8a0002row4_col8\" class=\"data row4 col8\" >0</td>\n",
       "                        <td id=\"T_5798fb36_ede0_11ea_ae6c_42010a8a0002row4_col9\" class=\"data row4 col9\" >0</td>\n",
       "                        <td id=\"T_5798fb36_ede0_11ea_ae6c_42010a8a0002row4_col10\" class=\"data row4 col10\" >0</td>\n",
       "                        <td id=\"T_5798fb36_ede0_11ea_ae6c_42010a8a0002row4_col11\" class=\"data row4 col11\" >192</td>\n",
       "                        <td id=\"T_5798fb36_ede0_11ea_ae6c_42010a8a0002row4_col12\" class=\"data row4 col12\" >253</td>\n",
       "                        <td id=\"T_5798fb36_ede0_11ea_ae6c_42010a8a0002row4_col13\" class=\"data row4 col13\" >253</td>\n",
       "                        <td id=\"T_5798fb36_ede0_11ea_ae6c_42010a8a0002row4_col14\" class=\"data row4 col14\" >156</td>\n",
       "                        <td id=\"T_5798fb36_ede0_11ea_ae6c_42010a8a0002row4_col15\" class=\"data row4 col15\" >0</td>\n",
       "                        <td id=\"T_5798fb36_ede0_11ea_ae6c_42010a8a0002row4_col16\" class=\"data row4 col16\" >0</td>\n",
       "                        <td id=\"T_5798fb36_ede0_11ea_ae6c_42010a8a0002row4_col17\" class=\"data row4 col17\" >0</td>\n",
       "            </tr>\n",
       "            <tr>\n",
       "                        <th id=\"T_5798fb36_ede0_11ea_ae6c_42010a8a0002level0_row5\" class=\"row_heading level0 row5\" >5</th>\n",
       "                        <td id=\"T_5798fb36_ede0_11ea_ae6c_42010a8a0002row5_col0\" class=\"data row5 col0\" >0</td>\n",
       "                        <td id=\"T_5798fb36_ede0_11ea_ae6c_42010a8a0002row5_col1\" class=\"data row5 col1\" >3</td>\n",
       "                        <td id=\"T_5798fb36_ede0_11ea_ae6c_42010a8a0002row5_col2\" class=\"data row5 col2\" >20</td>\n",
       "                        <td id=\"T_5798fb36_ede0_11ea_ae6c_42010a8a0002row5_col3\" class=\"data row5 col3\" >20</td>\n",
       "                        <td id=\"T_5798fb36_ede0_11ea_ae6c_42010a8a0002row5_col4\" class=\"data row5 col4\" >15</td>\n",
       "                        <td id=\"T_5798fb36_ede0_11ea_ae6c_42010a8a0002row5_col5\" class=\"data row5 col5\" >0</td>\n",
       "                        <td id=\"T_5798fb36_ede0_11ea_ae6c_42010a8a0002row5_col6\" class=\"data row5 col6\" >0</td>\n",
       "                        <td id=\"T_5798fb36_ede0_11ea_ae6c_42010a8a0002row5_col7\" class=\"data row5 col7\" >0</td>\n",
       "                        <td id=\"T_5798fb36_ede0_11ea_ae6c_42010a8a0002row5_col8\" class=\"data row5 col8\" >0</td>\n",
       "                        <td id=\"T_5798fb36_ede0_11ea_ae6c_42010a8a0002row5_col9\" class=\"data row5 col9\" >0</td>\n",
       "                        <td id=\"T_5798fb36_ede0_11ea_ae6c_42010a8a0002row5_col10\" class=\"data row5 col10\" >43</td>\n",
       "                        <td id=\"T_5798fb36_ede0_11ea_ae6c_42010a8a0002row5_col11\" class=\"data row5 col11\" >224</td>\n",
       "                        <td id=\"T_5798fb36_ede0_11ea_ae6c_42010a8a0002row5_col12\" class=\"data row5 col12\" >253</td>\n",
       "                        <td id=\"T_5798fb36_ede0_11ea_ae6c_42010a8a0002row5_col13\" class=\"data row5 col13\" >245</td>\n",
       "                        <td id=\"T_5798fb36_ede0_11ea_ae6c_42010a8a0002row5_col14\" class=\"data row5 col14\" >74</td>\n",
       "                        <td id=\"T_5798fb36_ede0_11ea_ae6c_42010a8a0002row5_col15\" class=\"data row5 col15\" >0</td>\n",
       "                        <td id=\"T_5798fb36_ede0_11ea_ae6c_42010a8a0002row5_col16\" class=\"data row5 col16\" >0</td>\n",
       "                        <td id=\"T_5798fb36_ede0_11ea_ae6c_42010a8a0002row5_col17\" class=\"data row5 col17\" >0</td>\n",
       "            </tr>\n",
       "            <tr>\n",
       "                        <th id=\"T_5798fb36_ede0_11ea_ae6c_42010a8a0002level0_row6\" class=\"row_heading level0 row6\" >6</th>\n",
       "                        <td id=\"T_5798fb36_ede0_11ea_ae6c_42010a8a0002row6_col0\" class=\"data row6 col0\" >0</td>\n",
       "                        <td id=\"T_5798fb36_ede0_11ea_ae6c_42010a8a0002row6_col1\" class=\"data row6 col1\" >0</td>\n",
       "                        <td id=\"T_5798fb36_ede0_11ea_ae6c_42010a8a0002row6_col2\" class=\"data row6 col2\" >0</td>\n",
       "                        <td id=\"T_5798fb36_ede0_11ea_ae6c_42010a8a0002row6_col3\" class=\"data row6 col3\" >0</td>\n",
       "                        <td id=\"T_5798fb36_ede0_11ea_ae6c_42010a8a0002row6_col4\" class=\"data row6 col4\" >0</td>\n",
       "                        <td id=\"T_5798fb36_ede0_11ea_ae6c_42010a8a0002row6_col5\" class=\"data row6 col5\" >0</td>\n",
       "                        <td id=\"T_5798fb36_ede0_11ea_ae6c_42010a8a0002row6_col6\" class=\"data row6 col6\" >0</td>\n",
       "                        <td id=\"T_5798fb36_ede0_11ea_ae6c_42010a8a0002row6_col7\" class=\"data row6 col7\" >0</td>\n",
       "                        <td id=\"T_5798fb36_ede0_11ea_ae6c_42010a8a0002row6_col8\" class=\"data row6 col8\" >0</td>\n",
       "                        <td id=\"T_5798fb36_ede0_11ea_ae6c_42010a8a0002row6_col9\" class=\"data row6 col9\" >0</td>\n",
       "                        <td id=\"T_5798fb36_ede0_11ea_ae6c_42010a8a0002row6_col10\" class=\"data row6 col10\" >249</td>\n",
       "                        <td id=\"T_5798fb36_ede0_11ea_ae6c_42010a8a0002row6_col11\" class=\"data row6 col11\" >253</td>\n",
       "                        <td id=\"T_5798fb36_ede0_11ea_ae6c_42010a8a0002row6_col12\" class=\"data row6 col12\" >245</td>\n",
       "                        <td id=\"T_5798fb36_ede0_11ea_ae6c_42010a8a0002row6_col13\" class=\"data row6 col13\" >126</td>\n",
       "                        <td id=\"T_5798fb36_ede0_11ea_ae6c_42010a8a0002row6_col14\" class=\"data row6 col14\" >0</td>\n",
       "                        <td id=\"T_5798fb36_ede0_11ea_ae6c_42010a8a0002row6_col15\" class=\"data row6 col15\" >0</td>\n",
       "                        <td id=\"T_5798fb36_ede0_11ea_ae6c_42010a8a0002row6_col16\" class=\"data row6 col16\" >0</td>\n",
       "                        <td id=\"T_5798fb36_ede0_11ea_ae6c_42010a8a0002row6_col17\" class=\"data row6 col17\" >0</td>\n",
       "            </tr>\n",
       "            <tr>\n",
       "                        <th id=\"T_5798fb36_ede0_11ea_ae6c_42010a8a0002level0_row7\" class=\"row_heading level0 row7\" >7</th>\n",
       "                        <td id=\"T_5798fb36_ede0_11ea_ae6c_42010a8a0002row7_col0\" class=\"data row7 col0\" >0</td>\n",
       "                        <td id=\"T_5798fb36_ede0_11ea_ae6c_42010a8a0002row7_col1\" class=\"data row7 col1\" >0</td>\n",
       "                        <td id=\"T_5798fb36_ede0_11ea_ae6c_42010a8a0002row7_col2\" class=\"data row7 col2\" >0</td>\n",
       "                        <td id=\"T_5798fb36_ede0_11ea_ae6c_42010a8a0002row7_col3\" class=\"data row7 col3\" >0</td>\n",
       "                        <td id=\"T_5798fb36_ede0_11ea_ae6c_42010a8a0002row7_col4\" class=\"data row7 col4\" >0</td>\n",
       "                        <td id=\"T_5798fb36_ede0_11ea_ae6c_42010a8a0002row7_col5\" class=\"data row7 col5\" >0</td>\n",
       "                        <td id=\"T_5798fb36_ede0_11ea_ae6c_42010a8a0002row7_col6\" class=\"data row7 col6\" >0</td>\n",
       "                        <td id=\"T_5798fb36_ede0_11ea_ae6c_42010a8a0002row7_col7\" class=\"data row7 col7\" >14</td>\n",
       "                        <td id=\"T_5798fb36_ede0_11ea_ae6c_42010a8a0002row7_col8\" class=\"data row7 col8\" >101</td>\n",
       "                        <td id=\"T_5798fb36_ede0_11ea_ae6c_42010a8a0002row7_col9\" class=\"data row7 col9\" >223</td>\n",
       "                        <td id=\"T_5798fb36_ede0_11ea_ae6c_42010a8a0002row7_col10\" class=\"data row7 col10\" >253</td>\n",
       "                        <td id=\"T_5798fb36_ede0_11ea_ae6c_42010a8a0002row7_col11\" class=\"data row7 col11\" >248</td>\n",
       "                        <td id=\"T_5798fb36_ede0_11ea_ae6c_42010a8a0002row7_col12\" class=\"data row7 col12\" >124</td>\n",
       "                        <td id=\"T_5798fb36_ede0_11ea_ae6c_42010a8a0002row7_col13\" class=\"data row7 col13\" >0</td>\n",
       "                        <td id=\"T_5798fb36_ede0_11ea_ae6c_42010a8a0002row7_col14\" class=\"data row7 col14\" >0</td>\n",
       "                        <td id=\"T_5798fb36_ede0_11ea_ae6c_42010a8a0002row7_col15\" class=\"data row7 col15\" >0</td>\n",
       "                        <td id=\"T_5798fb36_ede0_11ea_ae6c_42010a8a0002row7_col16\" class=\"data row7 col16\" >0</td>\n",
       "                        <td id=\"T_5798fb36_ede0_11ea_ae6c_42010a8a0002row7_col17\" class=\"data row7 col17\" >0</td>\n",
       "            </tr>\n",
       "            <tr>\n",
       "                        <th id=\"T_5798fb36_ede0_11ea_ae6c_42010a8a0002level0_row8\" class=\"row_heading level0 row8\" >8</th>\n",
       "                        <td id=\"T_5798fb36_ede0_11ea_ae6c_42010a8a0002row8_col0\" class=\"data row8 col0\" >0</td>\n",
       "                        <td id=\"T_5798fb36_ede0_11ea_ae6c_42010a8a0002row8_col1\" class=\"data row8 col1\" >0</td>\n",
       "                        <td id=\"T_5798fb36_ede0_11ea_ae6c_42010a8a0002row8_col2\" class=\"data row8 col2\" >0</td>\n",
       "                        <td id=\"T_5798fb36_ede0_11ea_ae6c_42010a8a0002row8_col3\" class=\"data row8 col3\" >0</td>\n",
       "                        <td id=\"T_5798fb36_ede0_11ea_ae6c_42010a8a0002row8_col4\" class=\"data row8 col4\" >0</td>\n",
       "                        <td id=\"T_5798fb36_ede0_11ea_ae6c_42010a8a0002row8_col5\" class=\"data row8 col5\" >11</td>\n",
       "                        <td id=\"T_5798fb36_ede0_11ea_ae6c_42010a8a0002row8_col6\" class=\"data row8 col6\" >166</td>\n",
       "                        <td id=\"T_5798fb36_ede0_11ea_ae6c_42010a8a0002row8_col7\" class=\"data row8 col7\" >239</td>\n",
       "                        <td id=\"T_5798fb36_ede0_11ea_ae6c_42010a8a0002row8_col8\" class=\"data row8 col8\" >253</td>\n",
       "                        <td id=\"T_5798fb36_ede0_11ea_ae6c_42010a8a0002row8_col9\" class=\"data row8 col9\" >253</td>\n",
       "                        <td id=\"T_5798fb36_ede0_11ea_ae6c_42010a8a0002row8_col10\" class=\"data row8 col10\" >253</td>\n",
       "                        <td id=\"T_5798fb36_ede0_11ea_ae6c_42010a8a0002row8_col11\" class=\"data row8 col11\" >187</td>\n",
       "                        <td id=\"T_5798fb36_ede0_11ea_ae6c_42010a8a0002row8_col12\" class=\"data row8 col12\" >30</td>\n",
       "                        <td id=\"T_5798fb36_ede0_11ea_ae6c_42010a8a0002row8_col13\" class=\"data row8 col13\" >0</td>\n",
       "                        <td id=\"T_5798fb36_ede0_11ea_ae6c_42010a8a0002row8_col14\" class=\"data row8 col14\" >0</td>\n",
       "                        <td id=\"T_5798fb36_ede0_11ea_ae6c_42010a8a0002row8_col15\" class=\"data row8 col15\" >0</td>\n",
       "                        <td id=\"T_5798fb36_ede0_11ea_ae6c_42010a8a0002row8_col16\" class=\"data row8 col16\" >0</td>\n",
       "                        <td id=\"T_5798fb36_ede0_11ea_ae6c_42010a8a0002row8_col17\" class=\"data row8 col17\" >0</td>\n",
       "            </tr>\n",
       "            <tr>\n",
       "                        <th id=\"T_5798fb36_ede0_11ea_ae6c_42010a8a0002level0_row9\" class=\"row_heading level0 row9\" >9</th>\n",
       "                        <td id=\"T_5798fb36_ede0_11ea_ae6c_42010a8a0002row9_col0\" class=\"data row9 col0\" >0</td>\n",
       "                        <td id=\"T_5798fb36_ede0_11ea_ae6c_42010a8a0002row9_col1\" class=\"data row9 col1\" >0</td>\n",
       "                        <td id=\"T_5798fb36_ede0_11ea_ae6c_42010a8a0002row9_col2\" class=\"data row9 col2\" >0</td>\n",
       "                        <td id=\"T_5798fb36_ede0_11ea_ae6c_42010a8a0002row9_col3\" class=\"data row9 col3\" >0</td>\n",
       "                        <td id=\"T_5798fb36_ede0_11ea_ae6c_42010a8a0002row9_col4\" class=\"data row9 col4\" >0</td>\n",
       "                        <td id=\"T_5798fb36_ede0_11ea_ae6c_42010a8a0002row9_col5\" class=\"data row9 col5\" >16</td>\n",
       "                        <td id=\"T_5798fb36_ede0_11ea_ae6c_42010a8a0002row9_col6\" class=\"data row9 col6\" >248</td>\n",
       "                        <td id=\"T_5798fb36_ede0_11ea_ae6c_42010a8a0002row9_col7\" class=\"data row9 col7\" >250</td>\n",
       "                        <td id=\"T_5798fb36_ede0_11ea_ae6c_42010a8a0002row9_col8\" class=\"data row9 col8\" >253</td>\n",
       "                        <td id=\"T_5798fb36_ede0_11ea_ae6c_42010a8a0002row9_col9\" class=\"data row9 col9\" >253</td>\n",
       "                        <td id=\"T_5798fb36_ede0_11ea_ae6c_42010a8a0002row9_col10\" class=\"data row9 col10\" >253</td>\n",
       "                        <td id=\"T_5798fb36_ede0_11ea_ae6c_42010a8a0002row9_col11\" class=\"data row9 col11\" >253</td>\n",
       "                        <td id=\"T_5798fb36_ede0_11ea_ae6c_42010a8a0002row9_col12\" class=\"data row9 col12\" >232</td>\n",
       "                        <td id=\"T_5798fb36_ede0_11ea_ae6c_42010a8a0002row9_col13\" class=\"data row9 col13\" >213</td>\n",
       "                        <td id=\"T_5798fb36_ede0_11ea_ae6c_42010a8a0002row9_col14\" class=\"data row9 col14\" >111</td>\n",
       "                        <td id=\"T_5798fb36_ede0_11ea_ae6c_42010a8a0002row9_col15\" class=\"data row9 col15\" >2</td>\n",
       "                        <td id=\"T_5798fb36_ede0_11ea_ae6c_42010a8a0002row9_col16\" class=\"data row9 col16\" >0</td>\n",
       "                        <td id=\"T_5798fb36_ede0_11ea_ae6c_42010a8a0002row9_col17\" class=\"data row9 col17\" >0</td>\n",
       "            </tr>\n",
       "            <tr>\n",
       "                        <th id=\"T_5798fb36_ede0_11ea_ae6c_42010a8a0002level0_row10\" class=\"row_heading level0 row10\" >10</th>\n",
       "                        <td id=\"T_5798fb36_ede0_11ea_ae6c_42010a8a0002row10_col0\" class=\"data row10 col0\" >0</td>\n",
       "                        <td id=\"T_5798fb36_ede0_11ea_ae6c_42010a8a0002row10_col1\" class=\"data row10 col1\" >0</td>\n",
       "                        <td id=\"T_5798fb36_ede0_11ea_ae6c_42010a8a0002row10_col2\" class=\"data row10 col2\" >0</td>\n",
       "                        <td id=\"T_5798fb36_ede0_11ea_ae6c_42010a8a0002row10_col3\" class=\"data row10 col3\" >0</td>\n",
       "                        <td id=\"T_5798fb36_ede0_11ea_ae6c_42010a8a0002row10_col4\" class=\"data row10 col4\" >0</td>\n",
       "                        <td id=\"T_5798fb36_ede0_11ea_ae6c_42010a8a0002row10_col5\" class=\"data row10 col5\" >0</td>\n",
       "                        <td id=\"T_5798fb36_ede0_11ea_ae6c_42010a8a0002row10_col6\" class=\"data row10 col6\" >0</td>\n",
       "                        <td id=\"T_5798fb36_ede0_11ea_ae6c_42010a8a0002row10_col7\" class=\"data row10 col7\" >43</td>\n",
       "                        <td id=\"T_5798fb36_ede0_11ea_ae6c_42010a8a0002row10_col8\" class=\"data row10 col8\" >98</td>\n",
       "                        <td id=\"T_5798fb36_ede0_11ea_ae6c_42010a8a0002row10_col9\" class=\"data row10 col9\" >98</td>\n",
       "                        <td id=\"T_5798fb36_ede0_11ea_ae6c_42010a8a0002row10_col10\" class=\"data row10 col10\" >208</td>\n",
       "                        <td id=\"T_5798fb36_ede0_11ea_ae6c_42010a8a0002row10_col11\" class=\"data row10 col11\" >253</td>\n",
       "                        <td id=\"T_5798fb36_ede0_11ea_ae6c_42010a8a0002row10_col12\" class=\"data row10 col12\" >253</td>\n",
       "                        <td id=\"T_5798fb36_ede0_11ea_ae6c_42010a8a0002row10_col13\" class=\"data row10 col13\" >253</td>\n",
       "                        <td id=\"T_5798fb36_ede0_11ea_ae6c_42010a8a0002row10_col14\" class=\"data row10 col14\" >253</td>\n",
       "                        <td id=\"T_5798fb36_ede0_11ea_ae6c_42010a8a0002row10_col15\" class=\"data row10 col15\" >187</td>\n",
       "                        <td id=\"T_5798fb36_ede0_11ea_ae6c_42010a8a0002row10_col16\" class=\"data row10 col16\" >22</td>\n",
       "                        <td id=\"T_5798fb36_ede0_11ea_ae6c_42010a8a0002row10_col17\" class=\"data row10 col17\" >0</td>\n",
       "            </tr>\n",
       "    </tbody></table>"
      ],
      "text/plain": [
       "<pandas.io.formats.style.Styler at 0x7fa74ec10850>"
      ]
     },
     "execution_count": 13,
     "metadata": {},
     "output_type": "execute_result"
    }
   ],
   "source": [
    "im3_t = tensor(im3)\n",
    "df = pd.DataFrame(im3_t[4:15,4:22])\n",
    "df.style.set_properties(**{'font-size':'6pt'}).background_gradient('Greys')"
   ]
  },
  {
   "cell_type": "markdown",
   "metadata": {},
   "source": [
    "## Build a baseline model: pixel similarity\n",
    "\n",
    "In life generally, when building models, how do you know whether what you've built is any good? You need something to compare to. You can compare to the state of the art, but that \n",
    "\n",
    "1. Assumes you're trying to solve a problem someone has already tried to solve\n",
    "1. Only gives a sense of what a great model looks like, rather than an \"ok\" model\n",
    "\n",
    "Let's build a baseline model which builds an \"ideal\" 3 and an \"ideal\" 7 just using the arithmetic mean of all the training examples, and use pixel similarity to build a classifier."
   ]
  },
  {
   "cell_type": "code",
   "execution_count": 14,
   "metadata": {},
   "outputs": [],
   "source": [
    "seven_tensors = [tensor(Image.open(x)) for x in sevens]\n",
    "three_tensors = [tensor(Image.open(x)) for x in threes]"
   ]
  },
  {
   "cell_type": "code",
   "execution_count": 15,
   "metadata": {},
   "outputs": [
    {
     "data": {
      "text/plain": [
       "(6265, 6131)"
      ]
     },
     "execution_count": 15,
     "metadata": {},
     "output_type": "execute_result"
    }
   ],
   "source": [
    "len(seven_tensors), len(three_tensors)"
   ]
  },
  {
   "cell_type": "code",
   "execution_count": 16,
   "metadata": {},
   "outputs": [
    {
     "data": {
      "image/png": "[encoded data removed]",
      "text/plain": [
       "<Figure size 72x72 with 1 Axes>"
      ]
     },
     "metadata": {
      "needs_background": "light"
     },
     "output_type": "display_data"
    }
   ],
   "source": [
    "show_image(seven_tensors[0]);"
   ]
  },
  {
   "cell_type": "code",
   "execution_count": 17,
   "metadata": {},
   "outputs": [
    {
     "data": {
      "text/plain": [
       "torch.Size([28, 28])"
      ]
     },
     "execution_count": 17,
     "metadata": {},
     "output_type": "execute_result"
    }
   ],
   "source": [
    "seven_tensors[0].shape"
   ]
  },
  {
   "cell_type": "markdown",
   "metadata": {},
   "source": [
    "Compute the pixel-wise average, by stacking the list of images to generate a rank-3 data tensor "
   ]
  },
  {
   "cell_type": "code",
   "execution_count": 18,
   "metadata": {},
   "outputs": [],
   "source": [
    "stacked_sevens = torch.stack(seven_tensors).float()/255\n",
    "stacked_threes = torch.stack(three_tensors).float()/255"
   ]
  },
  {
   "cell_type": "code",
   "execution_count": 19,
   "metadata": {},
   "outputs": [
    {
     "data": {
      "text/plain": [
       "torch.Size([6265, 28, 28])"
      ]
     },
     "execution_count": 19,
     "metadata": {},
     "output_type": "execute_result"
    }
   ],
   "source": [
    "stacked_sevens.shape"
   ]
  },
  {
   "cell_type": "code",
   "execution_count": 20,
   "metadata": {},
   "outputs": [],
   "source": [
    "mean3 = stacked_threes.mean(0)\n",
    "mean7 = stacked_sevens.mean(0)"
   ]
  },
  {
   "cell_type": "markdown",
   "metadata": {},
   "source": [
    "Here are our archetypal digits"
   ]
  },
  {
   "cell_type": "code",
   "execution_count": 21,
   "metadata": {},
   "outputs": [
    {
     "data": {
      "image/png": "[encoded data removed]",
      "text/plain": [
       "<Figure size 72x72 with 1 Axes>"
      ]
     },
     "metadata": {
      "needs_background": "light"
     },
     "output_type": "display_data"
    }
   ],
   "source": [
    "show_image(mean3);"
   ]
  },
  {
   "cell_type": "code",
   "execution_count": 22,
   "metadata": {},
   "outputs": [
    {
     "data": {
      "image/png": "[encoded data removed]",
      "text/plain": [
       "<Figure size 72x72 with 1 Axes>"
      ]
     },
     "metadata": {
      "needs_background": "light"
     },
     "output_type": "display_data"
    }
   ],
   "source": [
    "show_image(mean7);"
   ]
  },
  {
   "cell_type": "markdown",
   "metadata": {},
   "source": [
    "Compute the mean absolute difference, and the root mean squared error between an image of a 3 and our archtypes"
   ]
  },
  {
   "cell_type": "code",
   "execution_count": 23,
   "metadata": {},
   "outputs": [],
   "source": [
    "a_3 = stacked_threes[1]"
   ]
  },
  {
   "cell_type": "code",
   "execution_count": 24,
   "metadata": {},
   "outputs": [
    {
     "data": {
      "image/png": "[encoded data removed]",
      "text/plain": [
       "<Figure size 72x72 with 1 Axes>"
      ]
     },
     "metadata": {
      "needs_background": "light"
     },
     "output_type": "display_data"
    }
   ],
   "source": [
    "show_image(a_3);"
   ]
  },
  {
   "cell_type": "code",
   "execution_count": 25,
   "metadata": {},
   "outputs": [
    {
     "data": {
      "text/plain": [
       "(tensor(0.1114), tensor(0.2021))"
      ]
     },
     "execution_count": 25,
     "metadata": {},
     "output_type": "execute_result"
    }
   ],
   "source": [
    "dist_3_mad = (a_3 - mean3).abs().mean()\n",
    "dist_3_rmse = ((a_3 - mean3)**2).mean().sqrt()\n",
    "dist_3_mad, dist_3_rmse"
   ]
  },
  {
   "cell_type": "code",
   "execution_count": 26,
   "metadata": {},
   "outputs": [
    {
     "data": {
      "text/plain": [
       "(tensor(0.1586), tensor(0.3021))"
      ]
     },
     "execution_count": 26,
     "metadata": {},
     "output_type": "execute_result"
    }
   ],
   "source": [
    "dist_7_mad = (a_3 - mean7).abs().mean()\n",
    "dist_7_rmse = ((a_3 - mean7)**2).mean().sqrt()\n",
    "dist_7_mad, dist_7_rmse"
   ]
  },
  {
   "cell_type": "markdown",
   "metadata": {},
   "source": [
    "We can also use the PyTorch loss functions in `torch.nn.functional`, which is imported as `F`"
   ]
  },
  {
   "cell_type": "code",
   "execution_count": 27,
   "metadata": {},
   "outputs": [
    {
     "data": {
      "text/plain": [
       "(tensor(0.1114), tensor(0.2021))"
      ]
     },
     "execution_count": 27,
     "metadata": {},
     "output_type": "execute_result"
    }
   ],
   "source": [
    "F.l1_loss(a_3, mean3), F.mse_loss(a_3, mean3).sqrt()"
   ]
  },
  {
   "cell_type": "markdown",
   "metadata": {},
   "source": [
    "Create validation set"
   ]
  },
  {
   "cell_type": "code",
   "execution_count": 28,
   "metadata": {},
   "outputs": [],
   "source": [
    "valid_3_tens = torch.stack([tensor(Image.open(x)) for x in (path/'valid'/'3').ls()])\n",
    "valid_3_tens = valid_3_tens.float()/255\n",
    "\n",
    "valid_7_tens = torch.stack([tensor(Image.open(x)) for x in (path/'valid'/'7').ls()])\n",
    "valid_7_tens = valid_7_tens.float()/255"
   ]
  },
  {
   "cell_type": "code",
   "execution_count": 29,
   "metadata": {},
   "outputs": [
    {
     "data": {
      "text/plain": [
       "(torch.Size([1010, 28, 28]), torch.Size([1028, 28, 28]))"
      ]
     },
     "execution_count": 29,
     "metadata": {},
     "output_type": "execute_result"
    }
   ],
   "source": [
    "valid_3_tens.shape, valid_7_tens.shape"
   ]
  },
  {
   "cell_type": "markdown",
   "metadata": {},
   "source": [
    "Create loss"
   ]
  },
  {
   "cell_type": "code",
   "execution_count": 32,
   "metadata": {},
   "outputs": [],
   "source": [
    "def mean_absolute_deviation(a,b): return (a-b).abs().mean((-1,-2))"
   ]
  },
  {
   "cell_type": "code",
   "execution_count": 33,
   "metadata": {},
   "outputs": [
    {
     "data": {
      "text/plain": [
       "tensor(0.1114)"
      ]
     },
     "execution_count": 33,
     "metadata": {},
     "output_type": "execute_result"
    }
   ],
   "source": [
    "mean_absolute_deviation(a_3, mean3)"
   ]
  },
  {
   "cell_type": "markdown",
   "metadata": {},
   "source": [
    "Compute loss over the whole validation set"
   ]
  },
  {
   "cell_type": "code",
   "execution_count": 35,
   "metadata": {},
   "outputs": [
    {
     "data": {
      "text/plain": [
       "(tensor([0.1133, 0.1208, 0.1487,  ..., 0.1370, 0.1745, 0.1406]),\n",
       " torch.Size([1010]))"
      ]
     },
     "execution_count": 35,
     "metadata": {},
     "output_type": "execute_result"
    }
   ],
   "source": [
    "valid_3_dist = mean_absolute_deviation(valid_3_tens, mean3)\n",
    "valid_3_dist, valid_3_dist.shape"
   ]
  },
  {
   "cell_type": "markdown",
   "metadata": {},
   "source": [
    "Notice how this function works for both a single rank-2 tensor, and the full rank-3 validation dataset. PyTorch achieves this because it is using **broadcasting**, when attempting to perform simple operations between two different tensors of different rank. This allows you to write the same operation on less code, but also has support for GPU computation."
   ]
  },
  {
   "cell_type": "markdown",
   "metadata": {},
   "source": [
    "Check:"
   ]
  },
  {
   "cell_type": "code",
   "execution_count": 36,
   "metadata": {},
   "outputs": [
    {
     "data": {
      "text/plain": [
       "tensor(0.1133)"
      ]
     },
     "execution_count": 36,
     "metadata": {},
     "output_type": "execute_result"
    }
   ],
   "source": [
    "mean_absolute_deviation(valid_3_tens[0,...], mean3)"
   ]
  },
  {
   "cell_type": "markdown",
   "metadata": {},
   "source": [
    "And now we can create our simple classifier"
   ]
  },
  {
   "cell_type": "code",
   "execution_count": 37,
   "metadata": {},
   "outputs": [],
   "source": [
    "def is_3(x): return mean_absolute_deviation(x, mean3) < mean_absolute_deviation(x, mean7)"
   ]
  },
  {
   "cell_type": "code",
   "execution_count": 39,
   "metadata": {},
   "outputs": [
    {
     "data": {
      "text/plain": [
       "(tensor(True), tensor(1.))"
      ]
     },
     "execution_count": 39,
     "metadata": {},
     "output_type": "execute_result"
    }
   ],
   "source": [
    "is_3(a_3), is_3(a_3).float()"
   ]
  },
  {
   "cell_type": "code",
   "execution_count": 46,
   "metadata": {},
   "outputs": [],
   "source": [
    "accuracy_3s = is_3(valid_3_tens).float()\n",
    "accuracy_7s = 1. - is_3(valid_7_tens).float()\n",
    "accuracy = torch.cat((accuracy_3s, accuracy_7s)).mean()"
   ]
  },
  {
   "cell_type": "code",
   "execution_count": 48,
   "metadata": {},
   "outputs": [
    {
     "data": {
      "text/plain": [
       "(tensor(0.9168), tensor(0.9854), tensor(0.9514))"
      ]
     },
     "execution_count": 48,
     "metadata": {},
     "output_type": "execute_result"
    }
   ],
   "source": [
    "accuracy_3s.mean(), accuracy_7s.mean(), accuracy"
   ]
  },
  {
   "cell_type": "markdown",
   "metadata": {},
   "source": [
    "So a 95% accurate model for classifying 3's and 7's can be achieved just through pixel similarity"
   ]
  },
  {
   "cell_type": "markdown",
   "metadata": {},
   "source": [
    "## Aside: derivatives in PyTorch"
   ]
  },
  {
   "cell_type": "markdown",
   "metadata": {},
   "source": [
    "Let's see how to calculate derivatives of functions with PyTorch. For starters, consider $y=x^2$"
   ]
  },
  {
   "cell_type": "code",
   "execution_count": 49,
   "metadata": {},
   "outputs": [],
   "source": [
    "xt = tensor(3.).requires_grad_()"
   ]
  },
  {
   "cell_type": "markdown",
   "metadata": {},
   "source": [
    "`_` at the end of a function is an _in-place_ operation in PyTorch. It modifies the thing to the left.\n",
    "\n",
    "`requires_grad_` is an instruction to PyTorch that we will be wanting to compute the gradient of an operation with respect to this variable."
   ]
  },
  {
   "cell_type": "code",
   "execution_count": 50,
   "metadata": {},
   "outputs": [],
   "source": [
    "def f(x): return x**2"
   ]
  },
  {
   "cell_type": "code",
   "execution_count": 52,
   "metadata": {},
   "outputs": [
    {
     "data": {
      "text/plain": [
       "tensor(9., grad_fn=<PowBackward0>)"
      ]
     },
     "execution_count": 52,
     "metadata": {},
     "output_type": "execute_result"
    }
   ],
   "source": [
    "yt = f(xt)\n",
    "yt"
   ]
  },
  {
   "cell_type": "markdown",
   "metadata": {},
   "source": [
    "We can now compute the gradient of `yt` with respect to `xt`"
   ]
  },
  {
   "cell_type": "code",
   "execution_count": 53,
   "metadata": {},
   "outputs": [],
   "source": [
    "yt.backward()"
   ]
  },
  {
   "cell_type": "markdown",
   "metadata": {},
   "source": [
    "`backward` refers to back-propagation."
   ]
  },
  {
   "cell_type": "code",
   "execution_count": 54,
   "metadata": {},
   "outputs": [
    {
     "data": {
      "text/plain": [
       "tensor(6.)"
      ]
     },
     "execution_count": 54,
     "metadata": {},
     "output_type": "execute_result"
    }
   ],
   "source": [
    "xt.grad"
   ]
  },
  {
   "cell_type": "markdown",
   "metadata": {},
   "source": [
    "Which is indeed the derivative of $y=x^2|_{x=3}$"
   ]
  },
  {
   "cell_type": "markdown",
   "metadata": {},
   "source": [
    "PyTorch will also broadcast derivatives for us when doing vector calculus. If we have:\n",
    "\n",
    "$$y=x_1^2 + x_2^2 + x_3^2$$"
   ]
  },
  {
   "cell_type": "code",
   "execution_count": 55,
   "metadata": {},
   "outputs": [],
   "source": [
    "xt = tensor([3.,4.,5.]).requires_grad_()"
   ]
  },
  {
   "cell_type": "code",
   "execution_count": 58,
   "metadata": {},
   "outputs": [],
   "source": [
    "def f(x): return (x**2).sum()"
   ]
  },
  {
   "cell_type": "code",
   "execution_count": 59,
   "metadata": {},
   "outputs": [
    {
     "data": {
      "text/plain": [
       "tensor([ 6.,  8., 10.])"
      ]
     },
     "execution_count": 59,
     "metadata": {},
     "output_type": "execute_result"
    }
   ],
   "source": [
    "yt = f(xt)\n",
    "yt.backward()\n",
    "xt.grad"
   ]
  },
  {
   "cell_type": "markdown",
   "metadata": {},
   "source": [
    "which is $\\partial y / \\partial x_i$."
   ]
  },
  {
   "cell_type": "markdown",
   "metadata": {},
   "source": [
    "## Aside: SGD in PyTorch"
   ]
  },
  {
   "cell_type": "markdown",
   "metadata": {},
   "source": [
    "Make some data"
   ]
  },
  {
   "cell_type": "code",
   "execution_count": 60,
   "metadata": {},
   "outputs": [
    {
     "data": {
      "image/png": "[encoded data removed]",
      "text/plain": [
       "<Figure size 432x288 with 1 Axes>"
      ]
     },
     "metadata": {
      "needs_background": "light"
     },
     "output_type": "display_data"
    }
   ],
   "source": [
    "time = torch.arange(0,20).float()\n",
    "speed = torch.randn(20)*3 + 0.75*(time-9.5)**2 + 1\n",
    "plt.scatter(time, speed);"
   ]
  },
  {
   "cell_type": "markdown",
   "metadata": {},
   "source": [
    "Fit a quadratic using SGD"
   ]
  },
  {
   "cell_type": "code",
   "execution_count": 61,
   "metadata": {},
   "outputs": [],
   "source": [
    "def f(t, params):\n",
    "    a, b, c = params\n",
    "    return a*t**2 + b*t + c"
   ]
  },
  {
   "cell_type": "markdown",
   "metadata": {},
   "source": [
    "Define loss"
   ]
  },
  {
   "cell_type": "code",
   "execution_count": 62,
   "metadata": {},
   "outputs": [],
   "source": [
    "def mse(pred, target): return ((pred - target)**2).mean()"
   ]
  },
  {
   "cell_type": "code",
   "execution_count": 155,
   "metadata": {},
   "outputs": [],
   "source": [
    "def show_pred(pred, ax=None):\n",
    "    if ax is None: ax = plt.subplots()[1]\n",
    "    ax.scatter(time, speed)\n",
    "    ax.scatter(time, to_np(pred), color='red')\n",
    "    ax.set_ylim([-300, 100])"
   ]
  },
  {
   "cell_type": "markdown",
   "metadata": {},
   "source": [
    "Perform SGD"
   ]
  },
  {
   "cell_type": "code",
   "execution_count": 169,
   "metadata": {},
   "outputs": [],
   "source": [
    "params = torch.randn(3).requires_grad_()\n",
    "orig_params = params.clone()"
   ]
  },
  {
   "cell_type": "code",
   "execution_count": 170,
   "metadata": {},
   "outputs": [
    {
     "data": {
      "image/png": "[encoded data removed]",
      "text/plain": [
       "<Figure size 432x288 with 1 Axes>"
      ]
     },
     "metadata": {
      "needs_background": "light"
     },
     "output_type": "display_data"
    }
   ],
   "source": [
    "show_pred(f(time, orig_params))"
   ]
  },
  {
   "cell_type": "code",
   "execution_count": 171,
   "metadata": {},
   "outputs": [],
   "source": [
    "lr = 1e-5\n",
    "n_steps = 10"
   ]
  },
  {
   "cell_type": "code",
   "execution_count": 172,
   "metadata": {},
   "outputs": [],
   "source": [
    "def apply_step(params, prn=True):\n",
    "    pred = f(time, params)\n",
    "    loss = mse(pred, speed)\n",
    "    loss.backward()\n",
    "    params.data -= lr*params.grad.data # using .data means that the gradient of this step isn't calculated\n",
    "    params.grad = None\n",
    "    if prn: print(loss.item())\n",
    "    return pred"
   ]
  },
  {
   "cell_type": "code",
   "execution_count": 173,
   "metadata": {},
   "outputs": [
    {
     "data": {
      "text/plain": [
       "tensor([-1.1793,  1.3110, -1.7830], grad_fn=<CloneBackward>)"
      ]
     },
     "execution_count": 173,
     "metadata": {},
     "output_type": "execute_result"
    }
   ],
   "source": [
    "orig_params"
   ]
  },
  {
   "cell_type": "code",
   "execution_count": 174,
   "metadata": {},
   "outputs": [
    {
     "data": {
      "text/plain": [
       "tensor([-1.1793,  1.3110, -1.7830], requires_grad=True)"
      ]
     },
     "execution_count": 174,
     "metadata": {},
     "output_type": "execute_result"
    }
   ],
   "source": [
    "params"
   ]
  },
  {
   "cell_type": "code",
   "execution_count": 175,
   "metadata": {},
   "outputs": [
    {
     "name": "stdout",
     "output_type": "stream",
     "text": [
      "44157.1484375\n",
      "8914.724609375\n",
      "2245.774658203125\n",
      "983.79931640625\n",
      "744.9886474609375\n",
      "699.7921142578125\n",
      "691.2335205078125\n",
      "689.6075439453125\n",
      "689.2936401367188\n",
      "689.22802734375\n"
     ]
    }
   ],
   "source": [
    "for i in range(n_steps): apply_step(params)"
   ]
  },
  {
   "cell_type": "code",
   "execution_count": 178,
   "metadata": {},
   "outputs": [],
   "source": [
    "params = orig_params.detach().requires_grad_()"
   ]
  },
  {
   "cell_type": "code",
   "execution_count": 181,
   "metadata": {},
   "outputs": [
    {
     "data": {
      "image/png": "[encoded data removed]",
      "text/plain": [
       "<Figure size 864x216 with 4 Axes>"
      ]
     },
     "metadata": {
      "needs_background": "light"
     },
     "output_type": "display_data"
    }
   ],
   "source": [
    "_, axs = plt.subplots(1,4, figsize=(12,3))\n",
    "for ax in axs: show_preds(apply_step(params, False), ax)\n",
    "plt.tight_layout()"
   ]
  },
  {
   "cell_type": "markdown",
   "metadata": {},
   "source": [
    "## A simple linear model for MNIST"
   ]
  },
  {
   "cell_type": "markdown",
   "metadata": {},
   "source": [
    "We will try to train a model of the form\n",
    "\n",
    "```\n",
    "y=sigm((w*x).sum()+b)\n",
    "```\n",
    "\n",
    "for weights `w`, data `x` and a bias `b`."
   ]
  },
  {
   "cell_type": "markdown",
   "metadata": {},
   "source": [
    "Throw away the 2D nature of the data, unravelling into 1D vectors using `view`. `-1` is a special parameter to `view` meaning \"make as big as necessary to git all the data\"."
   ]
  },
  {
   "cell_type": "code",
   "execution_count": 201,
   "metadata": {},
   "outputs": [],
   "source": [
    "train_x = torch.cat((stacked_threes, stacked_sevens)).view(-1, 28*28)"
   ]
  },
  {
   "cell_type": "markdown",
   "metadata": {},
   "source": [
    "Make `is_three` as target"
   ]
  },
  {
   "cell_type": "code",
   "execution_count": 203,
   "metadata": {},
   "outputs": [],
   "source": [
    "train_y = tensor([1]*len(threes) + [0]*len(sevens)).unsqueeze(1) # unsqueeze adds a unit dimension so that the target is a matrix not a vector. Necessary for PyTorch"
   ]
  },
  {
   "cell_type": "code",
   "execution_count": 204,
   "metadata": {},
   "outputs": [
    {
     "data": {
      "text/plain": [
       "(torch.Size([12396, 784]), torch.Size([12396, 1]))"
      ]
     },
     "execution_count": 204,
     "metadata": {},
     "output_type": "execute_result"
    }
   ],
   "source": [
    "train_x.shape, train_y.shape"
   ]
  },
  {
   "cell_type": "markdown",
   "metadata": {},
   "source": [
    "Create a PyTorch **dataset**. When you index into a PyTorch dataset, it must return a tuple of `(x,y)`."
   ]
  },
  {
   "cell_type": "code",
   "execution_count": 205,
   "metadata": {},
   "outputs": [],
   "source": [
    "dset = list(zip(train_x, train_y))"
   ]
  },
  {
   "cell_type": "code",
   "execution_count": 206,
   "metadata": {},
   "outputs": [
    {
     "data": {
      "text/plain": [
       "(torch.Size([784]), tensor([1]))"
      ]
     },
     "execution_count": 206,
     "metadata": {},
     "output_type": "execute_result"
    }
   ],
   "source": [
    "x,y = dset[0]  # this is called \"destructuring\" a tuple\n",
    "x.shape, y"
   ]
  },
  {
   "cell_type": "code",
   "execution_count": 210,
   "metadata": {},
   "outputs": [],
   "source": [
    "valid_x = torch.cat((valid_3_tens, valid_7_tens)).view(-1, 28*28)\n",
    "valid_y = tensor([1]*len(valid_3_tens) + [0]*len(valid_7_tens)).unsqueeze(1)\n",
    "valid_dset = list(zip(valid_x, valid_y))"
   ]
  },
  {
   "cell_type": "markdown",
   "metadata": {},
   "source": [
    "Initialize weights for all pixels"
   ]
  },
  {
   "cell_type": "code",
   "execution_count": 211,
   "metadata": {},
   "outputs": [],
   "source": [
    "def init_params(size, std=1.): return (torch.randn(size)*std).requires_grad_()"
   ]
  },
  {
   "cell_type": "code",
   "execution_count": 214,
   "metadata": {},
   "outputs": [],
   "source": [
    "weights = init_params((28*28,1))"
   ]
  },
  {
   "cell_type": "code",
   "execution_count": 213,
   "metadata": {},
   "outputs": [],
   "source": [
    "bias = init_params(1)"
   ]
  },
  {
   "cell_type": "markdown",
   "metadata": {},
   "source": [
    "So an example prediction for an image is:"
   ]
  },
  {
   "cell_type": "code",
   "execution_count": 217,
   "metadata": {},
   "outputs": [
    {
     "data": {
      "text/plain": [
       "tensor([0.7526], grad_fn=<AddBackward0>)"
      ]
     },
     "execution_count": 217,
     "metadata": {},
     "output_type": "execute_result"
    }
   ],
   "source": [
    "(train_x[0]*weights.T).sum() + bias"
   ]
  },
  {
   "cell_type": "markdown",
   "metadata": {},
   "source": [
    "And a prediction for the whole dataset is:"
   ]
  },
  {
   "cell_type": "code",
   "execution_count": 238,
   "metadata": {},
   "outputs": [],
   "source": [
    "def linear_model(xb): return xb@weights + bias"
   ]
  },
  {
   "cell_type": "code",
   "execution_count": 244,
   "metadata": {},
   "outputs": [
    {
     "data": {
      "text/plain": [
       "tensor([[ 0.7526],\n",
       "        [16.7681],\n",
       "        [ 9.4757],\n",
       "        ...,\n",
       "        [-5.9321],\n",
       "        [ 5.1376],\n",
       "        [ 1.8757]], grad_fn=<AddBackward0>)"
      ]
     },
     "execution_count": 244,
     "metadata": {},
     "output_type": "execute_result"
    }
   ],
   "source": [
    "linear_model(train_x)"
   ]
  },
  {
   "cell_type": "markdown",
   "metadata": {},
   "source": [
    "Pipe the linear transformation through a sigmoid such that the predictions are between 0 and 1."
   ]
  },
  {
   "cell_type": "code",
   "execution_count": 243,
   "metadata": {},
   "outputs": [],
   "source": [
    "def mnist_model(xb): return linear_model(xb).sigmoid()"
   ]
  },
  {
   "cell_type": "code",
   "execution_count": 246,
   "metadata": {},
   "outputs": [
    {
     "data": {
      "text/plain": [
       "tensor([[0.6798],\n",
       "        [1.0000],\n",
       "        [0.9999],\n",
       "        ...,\n",
       "        [0.0026],\n",
       "        [0.9942],\n",
       "        [0.8671]], grad_fn=<SigmoidBackward>)"
      ]
     },
     "execution_count": 246,
     "metadata": {},
     "output_type": "execute_result"
    }
   ],
   "source": [
    "preds = mnist_model(train_x)\n",
    "preds"
   ]
  },
  {
   "cell_type": "markdown",
   "metadata": {},
   "source": [
    "Definte a loss function "
   ]
  },
  {
   "cell_type": "code",
   "execution_count": 247,
   "metadata": {},
   "outputs": [],
   "source": [
    "def mnist_loss(predictions, targets):\n",
    "    return torch.where(targets==1, 1-predictions, predictions).mean()"
   ]
  },
  {
   "cell_type": "markdown",
   "metadata": {},
   "source": [
    "When the target is 0, return the prediction, otherwise return 1-prediction. This is like a PyTorch if statement."
   ]
  },
  {
   "cell_type": "markdown",
   "metadata": {},
   "source": [
    "We're going to use this loss, rather than e.g. accuracy, to perform SGD because the metric accuracy is very flat with respect to parameters. You have to change the parameters enough such that you differentially classify an entire image, in order for the accuracy to change. If you get 0 gradients, you will not update your parameters. **So you want loss functions which are smooth with respect to parameters.**\n",
    "\n",
    "In contrast, `mnist_loss` has `predictions` built into it, so any change in the parameters which have an effect on `predictions` will be reflected in `mnist_loss`. "
   ]
  },
  {
   "cell_type": "markdown",
   "metadata": {},
   "source": [
    "### Putting it all together"
   ]
  },
  {
   "cell_type": "code",
   "execution_count": 248,
   "metadata": {},
   "outputs": [],
   "source": [
    "weights = init_params((28*28,1))\n",
    "bias = init_params(1)"
   ]
  },
  {
   "cell_type": "code",
   "execution_count": 249,
   "metadata": {},
   "outputs": [],
   "source": [
    "dl = DataLoader(dset, batch_size=256)"
   ]
  },
  {
   "cell_type": "code",
   "execution_count": 250,
   "metadata": {},
   "outputs": [
    {
     "data": {
      "text/plain": [
       "(torch.Size([256, 784]), torch.Size([256, 1]))"
      ]
     },
     "execution_count": 250,
     "metadata": {},
     "output_type": "execute_result"
    }
   ],
   "source": [
    "xb, yb = first(dl)\n",
    "xb.shape, yb.shape"
   ]
  },
  {
   "cell_type": "code",
   "execution_count": 251,
   "metadata": {},
   "outputs": [],
   "source": [
    "valid_dl = DataLoader(valid_dset, batch_size=256)"
   ]
  },
  {
   "cell_type": "code",
   "execution_count": 257,
   "metadata": {},
   "outputs": [],
   "source": [
    "def calc_grad(xb, yb, model):\n",
    "    preds = model(xb)\n",
    "    loss = mnist_loss(preds, yb)\n",
    "    loss.backward()"
   ]
  },
  {
   "cell_type": "code",
   "execution_count": 258,
   "metadata": {},
   "outputs": [],
   "source": [
    "calc_grad(xb, yb, mnist_model)"
   ]
  },
  {
   "cell_type": "code",
   "execution_count": 259,
   "metadata": {},
   "outputs": [
    {
     "data": {
      "text/plain": [
       "(tensor(-0.0082), tensor([-0.0544]))"
      ]
     },
     "execution_count": 259,
     "metadata": {},
     "output_type": "execute_result"
    }
   ],
   "source": [
    "weights.grad.mean(), bias.grad"
   ]
  },
  {
   "cell_type": "markdown",
   "metadata": {},
   "source": [
    "`loss.backward()` _adds_ the gradients of `loss` to any pre-existing gradients that are stored, so we have to set the gradient to zero when we're done using the calculation from backprop."
   ]
  },
  {
   "cell_type": "code",
   "execution_count": 265,
   "metadata": {},
   "outputs": [
    {
     "data": {
      "text/plain": [
       "tensor([0.])"
      ]
     },
     "execution_count": 265,
     "metadata": {},
     "output_type": "execute_result"
    }
   ],
   "source": [
    "weights.grad.zero_()\n",
    "bias.grad.zero_()"
   ]
  },
  {
   "cell_type": "code",
   "execution_count": 266,
   "metadata": {},
   "outputs": [],
   "source": [
    "calc_grad(xb, yb, mnist_model)"
   ]
  },
  {
   "cell_type": "code",
   "execution_count": 267,
   "metadata": {},
   "outputs": [
    {
     "data": {
      "text/plain": [
       "(tensor(-0.0082), tensor([-0.0544]))"
      ]
     },
     "execution_count": 267,
     "metadata": {},
     "output_type": "execute_result"
    }
   ],
   "source": [
    "weights.grad.mean(), bias.grad"
   ]
  },
  {
   "cell_type": "code",
   "execution_count": 268,
   "metadata": {},
   "outputs": [],
   "source": [
    "def train_epoch(model, lr, params):\n",
    "    for xb, yb in dl: # grab mini-batches\n",
    "        calc_grad(xb, yb, model)\n",
    "        for p in params:\n",
    "            p.data -= lr*p.grad.data\n",
    "            p.grad.zero_()"
   ]
  },
  {
   "cell_type": "code",
   "execution_count": 271,
   "metadata": {},
   "outputs": [],
   "source": [
    "def batch_accuracy(preds, yb):\n",
    "    correct = (preds > 0.5) == yb\n",
    "    return correct.float().mean()"
   ]
  },
  {
   "cell_type": "code",
   "execution_count": 272,
   "metadata": {},
   "outputs": [
    {
     "data": {
      "text/plain": [
       "tensor(0.3633)"
      ]
     },
     "execution_count": 272,
     "metadata": {},
     "output_type": "execute_result"
    }
   ],
   "source": [
    "batch_accuracy(mnist_model(xb), yb)"
   ]
  },
  {
   "cell_type": "code",
   "execution_count": 273,
   "metadata": {},
   "outputs": [],
   "source": [
    "def validate_epoch(model):\n",
    "    accs = [batch_accuracy(model(xb), yb) for xb, yb in valid_dl]\n",
    "    return round(torch.stack(accs).mean().item(), 4)"
   ]
  },
  {
   "cell_type": "code",
   "execution_count": 274,
   "metadata": {},
   "outputs": [
    {
     "data": {
      "text/plain": [
       "0.2736"
      ]
     },
     "execution_count": 274,
     "metadata": {},
     "output_type": "execute_result"
    }
   ],
   "source": [
    "validate_epoch(mnist_model)"
   ]
  },
  {
   "cell_type": "markdown",
   "metadata": {},
   "source": [
    "Train for one epoch"
   ]
  },
  {
   "cell_type": "code",
   "execution_count": 275,
   "metadata": {},
   "outputs": [
    {
     "data": {
      "text/plain": [
       "0.4957"
      ]
     },
     "execution_count": 275,
     "metadata": {},
     "output_type": "execute_result"
    }
   ],
   "source": [
    "lr = 1.\n",
    "params = weights, bias\n",
    "train_epoch(mnist_model, lr, params)\n",
    "validate_epoch(mnist_model)"
   ]
  },
  {
   "cell_type": "markdown",
   "metadata": {},
   "source": [
    "...and do a few more"
   ]
  },
  {
   "cell_type": "code",
   "execution_count": 276,
   "metadata": {},
   "outputs": [
    {
     "name": "stdout",
     "output_type": "stream",
     "text": [
      "0.5114 0.6077 0.7195 0.87 0.9242 0.9383 0.9515 0.9545 0.9613 0.9642 0.9667 0.9686 0.9696 0.9706 0.9711 0.9721 0.9721 0.9721 0.9721 0.9711 "
     ]
    }
   ],
   "source": [
    "for i in range(20):\n",
    "    train_epoch(mnist_model, lr, params)\n",
    "    print(validate_epoch(mnist_model), end=' ')"
   ]
  },
  {
   "cell_type": "markdown",
   "metadata": {},
   "source": [
    "Great! A linear function reaches about 97% accuracy."
   ]
  },
  {
   "cell_type": "markdown",
   "metadata": {},
   "source": [
    "## Refactor using an optimizer\n",
    "\n",
    "PyTorch provides some useful classes to reduce the amount of boilerplate."
   ]
  },
  {
   "cell_type": "code",
   "execution_count": 277,
   "metadata": {},
   "outputs": [],
   "source": [
    "linear_model = nn.Linear(28*28, 1) # initializes randomly, with bias"
   ]
  },
  {
   "cell_type": "code",
   "execution_count": 278,
   "metadata": {},
   "outputs": [
    {
     "data": {
      "text/plain": [
       "(torch.Size([1, 784]), torch.Size([1]))"
      ]
     },
     "execution_count": 278,
     "metadata": {},
     "output_type": "execute_result"
    }
   ],
   "source": [
    "w,b = linear_model.parameters()\n",
    "w.shape, b.shape"
   ]
  },
  {
   "cell_type": "markdown",
   "metadata": {},
   "source": [
    "Now we create an optimizer"
   ]
  },
  {
   "cell_type": "code",
   "execution_count": 279,
   "metadata": {},
   "outputs": [],
   "source": [
    "class BasicOptimizer:\n",
    "    def __init__(self, params, lr): self.params, self.lr = list(params), lr\n",
    "    \n",
    "    def step(self):\n",
    "        for p in self.params: p.data -= p.grad.data * self.lr\n",
    "    \n",
    "    def zero_grad(self):\n",
    "        for p in self.params: p.grad=None"
   ]
  },
  {
   "cell_type": "code",
   "execution_count": 280,
   "metadata": {},
   "outputs": [],
   "source": [
    "opt = BasicOptimizer(linear_model.parameters(), lr)"
   ]
  },
  {
   "cell_type": "code",
   "execution_count": 281,
   "metadata": {},
   "outputs": [],
   "source": [
    "def train_epoch(model):\n",
    "    for xb, yb in dl:\n",
    "        calc_grad(xb, yb, model)\n",
    "        opt.step()\n",
    "        opt.zero_grad()"
   ]
  },
  {
   "cell_type": "code",
   "execution_count": 283,
   "metadata": {},
   "outputs": [],
   "source": [
    "def train_model(model, epochs):\n",
    "    for i in range(epochs):\n",
    "        train_epoch(model)\n",
    "        print(validate_epoch(model), end=' ')"
   ]
  },
  {
   "cell_type": "code",
   "execution_count": 284,
   "metadata": {},
   "outputs": [
    {
     "name": "stdout",
     "output_type": "stream",
     "text": [
      "0.4932 0.8183 0.8384 0.9111 0.9336 0.9472 0.9555 0.9624 0.9653 0.9668 0.9687 0.9712 0.9736 0.9751 0.976 0.9775 0.9775 0.978 0.9785 0.9785 "
     ]
    }
   ],
   "source": [
    "train_model(mnist_model, 20)"
   ]
  },
  {
   "cell_type": "markdown",
   "metadata": {},
   "source": [
    "fastai provides the `SGD` class which, by default, does the same thing as `BasicOptim`"
   ]
  },
  {
   "cell_type": "code",
   "execution_count": 286,
   "metadata": {},
   "outputs": [
    {
     "name": "stdout",
     "output_type": "stream",
     "text": [
      "0.4932 0.728 0.8579 0.9184 0.935 0.9502 0.956 0.9629 0.9663 0.9677 0.9697 0.9712 0.9741 0.9746 0.976 0.9765 0.9775 0.978 0.978 0.9785 "
     ]
    }
   ],
   "source": [
    "linear_model = nn.Linear(28*28, 1)\n",
    "opt = SGD(linear_model.parameters(), lr)\n",
    "train_model(mnist_model, 20)"
   ]
  },
  {
   "cell_type": "markdown",
   "metadata": {},
   "source": [
    "fastai also provides `Learner.fit` which we can use instead of `train_model`. To create a `Learner` we need to first create `DataLoaders` by passing in our training and validation `DataLoader`s:"
   ]
  },
  {
   "cell_type": "markdown",
   "metadata": {},
   "source": [
    "Above, I felt it was unnatural to put the `sigmoid` into the loss function, so I put it in with the `mnist_model`. But the `Learner` class needs to be able to get a `.parameters()` method from the model. So I will put the sigmoid back into the loss function for now."
   ]
  },
  {
   "cell_type": "code",
   "execution_count": 294,
   "metadata": {},
   "outputs": [],
   "source": [
    "def mnist_loss(predictions, targets):\n",
    "    predictions = predictions.sigmoid()\n",
    "    return torch.where(targets==1, 1-predictions, predictions).mean()"
   ]
  },
  {
   "cell_type": "code",
   "execution_count": 299,
   "metadata": {},
   "outputs": [],
   "source": [
    "linear_model = nn.Linear(28*28, 1) # initializes randomly, with bias"
   ]
  },
  {
   "cell_type": "code",
   "execution_count": 300,
   "metadata": {},
   "outputs": [],
   "source": [
    "dls = DataLoaders(dl, valid_dl)"
   ]
  },
  {
   "cell_type": "code",
   "execution_count": 301,
   "metadata": {},
   "outputs": [],
   "source": [
    "learn = Learner(dls, linear_model, opt_func=SGD, loss_func=mnist_loss, metrics=batch_accuracy)"
   ]
  },
  {
   "cell_type": "code",
   "execution_count": 302,
   "metadata": {},
   "outputs": [
    {
     "data": {
      "text/html": [
       "<table border=\"1\" class=\"dataframe\">\n",
       "  <thead>\n",
       "    <tr style=\"text-align: left;\">\n",
       "      <th>epoch</th>\n",
       "      <th>train_loss</th>\n",
       "      <th>valid_loss</th>\n",
       "      <th>batch_accuracy</th>\n",
       "      <th>time</th>\n",
       "    </tr>\n",
       "  </thead>\n",
       "  <tbody>\n",
       "    <tr>\n",
       "      <td>0</td>\n",
       "      <td>0.637222</td>\n",
       "      <td>0.503347</td>\n",
       "      <td>0.495584</td>\n",
       "      <td>00:00</td>\n",
       "    </tr>\n",
       "    <tr>\n",
       "      <td>1</td>\n",
       "      <td>0.479331</td>\n",
       "      <td>0.214337</td>\n",
       "      <td>0.773307</td>\n",
       "      <td>00:00</td>\n",
       "    </tr>\n",
       "    <tr>\n",
       "      <td>2</td>\n",
       "      <td>0.177634</td>\n",
       "      <td>0.173736</td>\n",
       "      <td>0.815015</td>\n",
       "      <td>00:00</td>\n",
       "    </tr>\n",
       "    <tr>\n",
       "      <td>3</td>\n",
       "      <td>0.078663</td>\n",
       "      <td>0.104838</td>\n",
       "      <td>0.895976</td>\n",
       "      <td>00:00</td>\n",
       "    </tr>\n",
       "    <tr>\n",
       "      <td>4</td>\n",
       "      <td>0.042221</td>\n",
       "      <td>0.077194</td>\n",
       "      <td>0.923945</td>\n",
       "      <td>00:00</td>\n",
       "    </tr>\n",
       "    <tr>\n",
       "      <td>5</td>\n",
       "      <td>0.027994</td>\n",
       "      <td>0.062060</td>\n",
       "      <td>0.937684</td>\n",
       "      <td>00:00</td>\n",
       "    </tr>\n",
       "    <tr>\n",
       "      <td>6</td>\n",
       "      <td>0.022131</td>\n",
       "      <td>0.052539</td>\n",
       "      <td>0.949951</td>\n",
       "      <td>00:00</td>\n",
       "    </tr>\n",
       "    <tr>\n",
       "      <td>7</td>\n",
       "      <td>0.019509</td>\n",
       "      <td>0.046191</td>\n",
       "      <td>0.957311</td>\n",
       "      <td>00:00</td>\n",
       "    </tr>\n",
       "    <tr>\n",
       "      <td>8</td>\n",
       "      <td>0.018167</td>\n",
       "      <td>0.041740</td>\n",
       "      <td>0.960255</td>\n",
       "      <td>00:00</td>\n",
       "    </tr>\n",
       "    <tr>\n",
       "      <td>9</td>\n",
       "      <td>0.017352</td>\n",
       "      <td>0.038467</td>\n",
       "      <td>0.964671</td>\n",
       "      <td>00:00</td>\n",
       "    </tr>\n",
       "  </tbody>\n",
       "</table>"
      ],
      "text/plain": [
       "<IPython.core.display.HTML object>"
      ]
     },
     "metadata": {},
     "output_type": "display_data"
    }
   ],
   "source": [
    "learn.fit(10, lr=lr)"
   ]
  },
  {
   "cell_type": "markdown",
   "metadata": {},
   "source": [
    "## A neural network: adding a non-linearity"
   ]
  },
  {
   "cell_type": "code",
   "execution_count": 305,
   "metadata": {},
   "outputs": [],
   "source": [
    "def simple_net(xb):\n",
    "    res = xb@w1 + b1\n",
    "    res = res.max(tensor(0.))\n",
    "    res = res@w2 + b2\n",
    "    return res"
   ]
  },
  {
   "cell_type": "code",
   "execution_count": 331,
   "metadata": {},
   "outputs": [],
   "source": [
    "w1 = init_params((28*28,32)) # 32 activations\n",
    "b1 = init_params(32)\n",
    "w2 = init_params((32,1))\n",
    "b2 = init_params(1)"
   ]
  },
  {
   "cell_type": "markdown",
   "metadata": {},
   "source": [
    "Or, using PyTorch"
   ]
  },
  {
   "cell_type": "code",
   "execution_count": 332,
   "metadata": {},
   "outputs": [],
   "source": [
    "simple_net = nn.Sequential(\n",
    "    nn.Linear(28*28, 32),\n",
    "    nn.ReLU(),\n",
    "    nn.Linear(32,1),\n",
    "    nn.Sigmoid() # Putting the sigmoid back into the model -- I don't get why it's getting thrown in with the loss function in this course!\n",
    ")"
   ]
  },
  {
   "cell_type": "code",
   "execution_count": 333,
   "metadata": {},
   "outputs": [],
   "source": [
    "def mnist_loss(predictions, targets):\n",
    "    #predictions = predictions.sigmoid()\n",
    "    return torch.where(targets==1, 1-predictions, predictions).mean()"
   ]
  },
  {
   "cell_type": "markdown",
   "metadata": {},
   "source": [
    "_Tip_: The ReLU can mean that you run into the zero-gradient problem again, i.e. your loss for some neurons can become insensitive to changes in parameters for some batches. This is a waste of computation -- they are called **dead units**. A trick around this is to use a leaky ReLU, so that the gradient is shallow and non-zero for negative input values. However, initialization and appropriate learning rates are the best way around this."
   ]
  },
  {
   "cell_type": "code",
   "execution_count": 334,
   "metadata": {},
   "outputs": [],
   "source": [
    "learn = Learner(dls, simple_net, opt_func=SGD, loss_func=mnist_loss, metrics=batch_accuracy)"
   ]
  },
  {
   "cell_type": "code",
   "execution_count": 335,
   "metadata": {},
   "outputs": [
    {
     "data": {
      "text/html": [
       "<table border=\"1\" class=\"dataframe\">\n",
       "  <thead>\n",
       "    <tr style=\"text-align: left;\">\n",
       "      <th>epoch</th>\n",
       "      <th>train_loss</th>\n",
       "      <th>valid_loss</th>\n",
       "      <th>batch_accuracy</th>\n",
       "      <th>time</th>\n",
       "    </tr>\n",
       "  </thead>\n",
       "  <tbody>\n",
       "    <tr>\n",
       "      <td>0</td>\n",
       "      <td>0.311930</td>\n",
       "      <td>0.415344</td>\n",
       "      <td>0.505397</td>\n",
       "      <td>00:00</td>\n",
       "    </tr>\n",
       "    <tr>\n",
       "      <td>1</td>\n",
       "      <td>0.146123</td>\n",
       "      <td>0.224475</td>\n",
       "      <td>0.809127</td>\n",
       "      <td>00:00</td>\n",
       "    </tr>\n",
       "    <tr>\n",
       "      <td>2</td>\n",
       "      <td>0.080510</td>\n",
       "      <td>0.112129</td>\n",
       "      <td>0.917566</td>\n",
       "      <td>00:00</td>\n",
       "    </tr>\n",
       "    <tr>\n",
       "      <td>3</td>\n",
       "      <td>0.052820</td>\n",
       "      <td>0.075810</td>\n",
       "      <td>0.943081</td>\n",
       "      <td>00:00</td>\n",
       "    </tr>\n",
       "    <tr>\n",
       "      <td>4</td>\n",
       "      <td>0.040085</td>\n",
       "      <td>0.059380</td>\n",
       "      <td>0.958292</td>\n",
       "      <td>00:00</td>\n",
       "    </tr>\n",
       "    <tr>\n",
       "      <td>5</td>\n",
       "      <td>0.033628</td>\n",
       "      <td>0.050190</td>\n",
       "      <td>0.964181</td>\n",
       "      <td>00:00</td>\n",
       "    </tr>\n",
       "    <tr>\n",
       "      <td>6</td>\n",
       "      <td>0.029937</td>\n",
       "      <td>0.044403</td>\n",
       "      <td>0.965653</td>\n",
       "      <td>00:00</td>\n",
       "    </tr>\n",
       "    <tr>\n",
       "      <td>7</td>\n",
       "      <td>0.027539</td>\n",
       "      <td>0.040446</td>\n",
       "      <td>0.966634</td>\n",
       "      <td>00:00</td>\n",
       "    </tr>\n",
       "    <tr>\n",
       "      <td>8</td>\n",
       "      <td>0.025809</td>\n",
       "      <td>0.037550</td>\n",
       "      <td>0.969087</td>\n",
       "      <td>00:00</td>\n",
       "    </tr>\n",
       "    <tr>\n",
       "      <td>9</td>\n",
       "      <td>0.024463</td>\n",
       "      <td>0.035325</td>\n",
       "      <td>0.972031</td>\n",
       "      <td>00:00</td>\n",
       "    </tr>\n",
       "    <tr>\n",
       "      <td>10</td>\n",
       "      <td>0.023366</td>\n",
       "      <td>0.033554</td>\n",
       "      <td>0.972522</td>\n",
       "      <td>00:00</td>\n",
       "    </tr>\n",
       "    <tr>\n",
       "      <td>11</td>\n",
       "      <td>0.022447</td>\n",
       "      <td>0.032096</td>\n",
       "      <td>0.973503</td>\n",
       "      <td>00:00</td>\n",
       "    </tr>\n",
       "    <tr>\n",
       "      <td>12</td>\n",
       "      <td>0.021659</td>\n",
       "      <td>0.030868</td>\n",
       "      <td>0.974485</td>\n",
       "      <td>00:00</td>\n",
       "    </tr>\n",
       "    <tr>\n",
       "      <td>13</td>\n",
       "      <td>0.020976</td>\n",
       "      <td>0.029813</td>\n",
       "      <td>0.974975</td>\n",
       "      <td>00:00</td>\n",
       "    </tr>\n",
       "    <tr>\n",
       "      <td>14</td>\n",
       "      <td>0.020375</td>\n",
       "      <td>0.028894</td>\n",
       "      <td>0.976938</td>\n",
       "      <td>00:00</td>\n",
       "    </tr>\n",
       "    <tr>\n",
       "      <td>15</td>\n",
       "      <td>0.019842</td>\n",
       "      <td>0.028082</td>\n",
       "      <td>0.977920</td>\n",
       "      <td>00:00</td>\n",
       "    </tr>\n",
       "    <tr>\n",
       "      <td>16</td>\n",
       "      <td>0.019363</td>\n",
       "      <td>0.027359</td>\n",
       "      <td>0.977920</td>\n",
       "      <td>00:00</td>\n",
       "    </tr>\n",
       "    <tr>\n",
       "      <td>17</td>\n",
       "      <td>0.018932</td>\n",
       "      <td>0.026710</td>\n",
       "      <td>0.978901</td>\n",
       "      <td>00:00</td>\n",
       "    </tr>\n",
       "    <tr>\n",
       "      <td>18</td>\n",
       "      <td>0.018539</td>\n",
       "      <td>0.026124</td>\n",
       "      <td>0.978901</td>\n",
       "      <td>00:00</td>\n",
       "    </tr>\n",
       "    <tr>\n",
       "      <td>19</td>\n",
       "      <td>0.018180</td>\n",
       "      <td>0.025592</td>\n",
       "      <td>0.979392</td>\n",
       "      <td>00:00</td>\n",
       "    </tr>\n",
       "    <tr>\n",
       "      <td>20</td>\n",
       "      <td>0.017850</td>\n",
       "      <td>0.025106</td>\n",
       "      <td>0.979392</td>\n",
       "      <td>00:00</td>\n",
       "    </tr>\n",
       "    <tr>\n",
       "      <td>21</td>\n",
       "      <td>0.017544</td>\n",
       "      <td>0.024660</td>\n",
       "      <td>0.979882</td>\n",
       "      <td>00:00</td>\n",
       "    </tr>\n",
       "    <tr>\n",
       "      <td>22</td>\n",
       "      <td>0.017260</td>\n",
       "      <td>0.024250</td>\n",
       "      <td>0.979882</td>\n",
       "      <td>00:00</td>\n",
       "    </tr>\n",
       "    <tr>\n",
       "      <td>23</td>\n",
       "      <td>0.016995</td>\n",
       "      <td>0.023872</td>\n",
       "      <td>0.980373</td>\n",
       "      <td>00:00</td>\n",
       "    </tr>\n",
       "    <tr>\n",
       "      <td>24</td>\n",
       "      <td>0.016747</td>\n",
       "      <td>0.023521</td>\n",
       "      <td>0.981354</td>\n",
       "      <td>00:00</td>\n",
       "    </tr>\n",
       "    <tr>\n",
       "      <td>25</td>\n",
       "      <td>0.016513</td>\n",
       "      <td>0.023196</td>\n",
       "      <td>0.981354</td>\n",
       "      <td>00:00</td>\n",
       "    </tr>\n",
       "    <tr>\n",
       "      <td>26</td>\n",
       "      <td>0.016293</td>\n",
       "      <td>0.022894</td>\n",
       "      <td>0.981354</td>\n",
       "      <td>00:00</td>\n",
       "    </tr>\n",
       "    <tr>\n",
       "      <td>27</td>\n",
       "      <td>0.016084</td>\n",
       "      <td>0.022613</td>\n",
       "      <td>0.981845</td>\n",
       "      <td>00:00</td>\n",
       "    </tr>\n",
       "    <tr>\n",
       "      <td>28</td>\n",
       "      <td>0.015886</td>\n",
       "      <td>0.022350</td>\n",
       "      <td>0.982336</td>\n",
       "      <td>00:00</td>\n",
       "    </tr>\n",
       "    <tr>\n",
       "      <td>29</td>\n",
       "      <td>0.015698</td>\n",
       "      <td>0.022105</td>\n",
       "      <td>0.982336</td>\n",
       "      <td>00:00</td>\n",
       "    </tr>\n",
       "    <tr>\n",
       "      <td>30</td>\n",
       "      <td>0.015520</td>\n",
       "      <td>0.021875</td>\n",
       "      <td>0.982336</td>\n",
       "      <td>00:00</td>\n",
       "    </tr>\n",
       "    <tr>\n",
       "      <td>31</td>\n",
       "      <td>0.015349</td>\n",
       "      <td>0.021661</td>\n",
       "      <td>0.982826</td>\n",
       "      <td>00:00</td>\n",
       "    </tr>\n",
       "    <tr>\n",
       "      <td>32</td>\n",
       "      <td>0.015186</td>\n",
       "      <td>0.021459</td>\n",
       "      <td>0.983317</td>\n",
       "      <td>00:00</td>\n",
       "    </tr>\n",
       "    <tr>\n",
       "      <td>33</td>\n",
       "      <td>0.015031</td>\n",
       "      <td>0.021270</td>\n",
       "      <td>0.983317</td>\n",
       "      <td>00:00</td>\n",
       "    </tr>\n",
       "    <tr>\n",
       "      <td>34</td>\n",
       "      <td>0.014882</td>\n",
       "      <td>0.021092</td>\n",
       "      <td>0.983317</td>\n",
       "      <td>00:00</td>\n",
       "    </tr>\n",
       "    <tr>\n",
       "      <td>35</td>\n",
       "      <td>0.014739</td>\n",
       "      <td>0.020925</td>\n",
       "      <td>0.982826</td>\n",
       "      <td>00:00</td>\n",
       "    </tr>\n",
       "    <tr>\n",
       "      <td>36</td>\n",
       "      <td>0.014602</td>\n",
       "      <td>0.020767</td>\n",
       "      <td>0.982826</td>\n",
       "      <td>00:00</td>\n",
       "    </tr>\n",
       "    <tr>\n",
       "      <td>37</td>\n",
       "      <td>0.014471</td>\n",
       "      <td>0.020617</td>\n",
       "      <td>0.983317</td>\n",
       "      <td>00:00</td>\n",
       "    </tr>\n",
       "    <tr>\n",
       "      <td>38</td>\n",
       "      <td>0.014344</td>\n",
       "      <td>0.020476</td>\n",
       "      <td>0.983317</td>\n",
       "      <td>00:00</td>\n",
       "    </tr>\n",
       "    <tr>\n",
       "      <td>39</td>\n",
       "      <td>0.014222</td>\n",
       "      <td>0.020343</td>\n",
       "      <td>0.983317</td>\n",
       "      <td>00:00</td>\n",
       "    </tr>\n",
       "  </tbody>\n",
       "</table>"
      ],
      "text/plain": [
       "<IPython.core.display.HTML object>"
      ]
     },
     "metadata": {},
     "output_type": "display_data"
    }
   ],
   "source": [
    "learn.fit(40, 0.1)"
   ]
  },
  {
   "cell_type": "code",
   "execution_count": 340,
   "metadata": {},
   "outputs": [
    {
     "data": {
      "image/png": "[encoded data removed]",
      "text/plain": [
       "<Figure size 432x288 with 1 Axes>"
      ]
     },
     "metadata": {
      "needs_background": "light"
     },
     "output_type": "display_data"
    }
   ],
   "source": [
    "plt.plot(L(learn.recorder.values).itemgot(2));"
   ]
  },
  {
   "cell_type": "code",
   "execution_count": 341,
   "metadata": {},
   "outputs": [
    {
     "data": {
      "text/plain": [
       "0.983316957950592"
      ]
     },
     "execution_count": 341,
     "metadata": {},
     "output_type": "execute_result"
    }
   ],
   "source": [
    "learn.recorder.values[-1][2]"
   ]
  },
  {
   "cell_type": "markdown",
   "metadata": {},
   "source": [
    "We can inspect the parameters like this:"
   ]
  },
  {
   "cell_type": "code",
   "execution_count": 342,
   "metadata": {},
   "outputs": [
    {
     "data": {
      "text/plain": [
       "Sequential(\n",
       "  (0): Linear(in_features=784, out_features=32, bias=True)\n",
       "  (1): ReLU()\n",
       "  (2): Linear(in_features=32, out_features=1, bias=True)\n",
       "  (3): Sigmoid()\n",
       ")"
      ]
     },
     "execution_count": 342,
     "metadata": {},
     "output_type": "execute_result"
    }
   ],
   "source": [
    "learn.model"
   ]
  },
  {
   "cell_type": "code",
   "execution_count": 343,
   "metadata": {},
   "outputs": [],
   "source": [
    "m = learn.model"
   ]
  },
  {
   "cell_type": "markdown",
   "metadata": {},
   "source": [
    "We can also simply visualize the first layer's parameters (later layers require more sophisticated methods to inspect)"
   ]
  },
  {
   "cell_type": "code",
   "execution_count": 346,
   "metadata": {},
   "outputs": [],
   "source": [
    "w, b = m[0].parameters()"
   ]
  },
  {
   "cell_type": "code",
   "execution_count": 367,
   "metadata": {},
   "outputs": [
    {
     "data": {
      "image/png": "[encoded data removed]",
      "text/plain": [
       "<Figure size 216x360 with 1 Axes>"
      ]
     },
     "metadata": {
      "needs_background": "light"
     },
     "output_type": "display_data"
    },
    {
     "data": {
      "image/png": "[encoded data removed]",
      "text/plain": [
       "<Figure size 216x360 with 1 Axes>"
      ]
     },
     "metadata": {
      "needs_background": "light"
     },
     "output_type": "display_data"
    },
    {
     "data": {
      "image/png": "[encoded data removed]",
      "text/plain": [
       "<Figure size 216x360 with 1 Axes>"
      ]
     },
     "metadata": {
      "needs_background": "light"
     },
     "output_type": "display_data"
    },
    {
     "data": {
      "image/png": "[encoded data removed]",
      "text/plain": [
       "<Figure size 216x360 with 1 Axes>"
      ]
     },
     "metadata": {
      "needs_background": "light"
     },
     "output_type": "display_data"
    },
    {
     "data": {
      "image/png": "[encoded data removed]",
      "text/plain": [
       "<Figure size 216x360 with 1 Axes>"
      ]
     },
     "metadata": {
      "needs_background": "light"
     },
     "output_type": "display_data"
    }
   ],
   "source": [
    "for i, ax in enumerate(axs): \n",
    "    show_image(w[i].view(28,28), figsize=(3,5))"
   ]
  },
  {
   "cell_type": "markdown",
   "metadata": {},
   "source": [
    "So you can see that a lot of these layers are either very similar, or contain very little information. This suggests we have rather a lot more activations than we really need."
   ]
  },
  {
   "cell_type": "markdown",
   "metadata": {},
   "source": [
    "Lastly, let's compare against the full fastai factory methods"
   ]
  },
  {
   "cell_type": "code",
   "execution_count": 375,
   "metadata": {},
   "outputs": [],
   "source": [
    "from fastai.vision.all import accuracy"
   ]
  },
  {
   "cell_type": "code",
   "execution_count": 377,
   "metadata": {},
   "outputs": [
    {
     "data": {
      "text/html": [
       "<table border=\"1\" class=\"dataframe\">\n",
       "  <thead>\n",
       "    <tr style=\"text-align: left;\">\n",
       "      <th>epoch</th>\n",
       "      <th>train_loss</th>\n",
       "      <th>valid_loss</th>\n",
       "      <th>accuracy</th>\n",
       "      <th>time</th>\n",
       "    </tr>\n",
       "  </thead>\n",
       "  <tbody>\n",
       "    <tr>\n",
       "      <td>0</td>\n",
       "      <td>0.159241</td>\n",
       "      <td>0.023822</td>\n",
       "      <td>0.996075</td>\n",
       "      <td>00:08</td>\n",
       "    </tr>\n",
       "  </tbody>\n",
       "</table>"
      ],
      "text/plain": [
       "<IPython.core.display.HTML object>"
      ]
     },
     "metadata": {},
     "output_type": "display_data"
    }
   ],
   "source": [
    "dls = ImageDataLoaders.from_folder(path)\n",
    "learn = cnn_learner(dls, resnet18, pretrained=False, loss_func=F.cross_entropy, metrics=accuracy)\n",
    "learn.fit_one_cycle(1, 0.1)"
   ]
  },
  {
   "cell_type": "markdown",
   "metadata": {},
   "source": [
    "That was easy! Only 1 epoch!"
   ]
  },
  {
   "cell_type": "code",
   "execution_count": null,
   "metadata": {},
   "outputs": [],
   "source": []
  }
 ],
 "metadata": {
  "environment": {
   "name": "pytorch-gpu.1-4.m55",
   "type": "gcloud",
   "uri": "gcr.io/deeplearning-platform-release/pytorch-gpu.1-4:m55"
  },
  "kernelspec": {
   "display_name": "Python 3",
   "language": "python",
   "name": "python3"
  },
  "language_info": {
   "codemirror_mode": {
    "name": "ipython",
    "version": 3
   },
   "file_extension": ".py",
   "mimetype": "text/x-python",
   "name": "python",
   "nbconvert_exporter": "python",
   "pygments_lexer": "ipython3",
   "version": "3.7.8"
  }
 },
 "nbformat": 4,
 "nbformat_minor": 4
}
